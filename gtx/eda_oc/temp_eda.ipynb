{
 "cells": [
  {
   "cell_type": "markdown",
   "source": [
    "# 1 Setup"
   ],
   "metadata": {
    "collapsed": false
   }
  },
  {
   "cell_type": "markdown",
   "metadata": {},
   "source": [
    "## 1.1 Import some great packages\n"
   ]
  },
  {
   "cell_type": "code",
   "execution_count": 1,
   "metadata": {
    "pycharm": {
     "name": "#%%\n"
    }
   },
   "outputs": [],
   "source": [
    "import pandas as pd\n",
    "import numpy as np\n",
    "import seaborn as sns\n",
    "import matplotlib.pyplot as plt\n",
    "from base import ROOT_DIR\n",
    "from tqdm.notebook import tqdm"
   ]
  },
  {
   "cell_type": "markdown",
   "metadata": {},
   "source": [
    "## 1.2 Load the data"
   ]
  },
  {
   "cell_type": "code",
   "execution_count": 2,
   "metadata": {
    "pycharm": {
     "name": "#%%\n"
    }
   },
   "outputs": [],
   "source": [
    "# set paths of different subdirectories\n",
    "dir_eaglebine = ROOT_DIR / 'gtx/data/Eaglebine/Eaglebine'\n",
    "dir_duvernay = ROOT_DIR / 'gtx/data/Duvernay/Duvernay/'"
   ]
  },
  {
   "cell_type": "markdown",
   "metadata": {},
   "source": [
    "# 2 Organize Eaglebine temperature data"
   ]
  },
  {
   "cell_type": "markdown",
   "metadata": {},
   "source": [
    "## 2.1 read in BHT"
   ]
  },
  {
   "cell_type": "code",
   "execution_count": 3,
   "metadata": {
    "pycharm": {
     "name": "#%%\n"
    }
   },
   "outputs": [
    {
     "data": {
      "text/plain": "              UWI    SurfLat   SurfLong  TD (ft)  GL(ft)  \\\n0  42013301410000  28.690426 -98.470138  19629.0  345.90   \n1  42013301930000  28.779921 -98.208313  10775.0  397.40   \n2  42013302760000  28.994360 -98.421799   6168.0  460.40   \n3  42013305480000  28.759118 -98.156410   8198.0  410.40   \n4  42013310190000  28.817400 -98.155319  11000.0  508.92   \n\n   BHT_below sea level (ft)  BHT_ subsurface (ft)  \\\n0                  12222.50               12568.4   \n1                  10396.00               10793.4   \n2                   5733.00                6193.4   \n3                   7806.00                8216.4   \n4                  10509.48               11018.4   \n\n   BHTorMRT (maximum recorded temperature) oF  \\\n0                                       143.0   \n1                                       225.0   \n2                                       150.0   \n3                                       170.0   \n4                                       210.0   \n\n   TSC or ORT (time since circulation or original recorded time in hours)  \\\n0                                               5.50                        \n1                                              11.00                        \n2                                               5.50                        \n3                                               5.00                        \n4                                               7.75                        \n\n    TempC_BHT  \n0   61.666667  \n1  107.222222  \n2   65.555556  \n3   76.666667  \n4   98.888889  ",
      "text/html": "<div>\n<style scoped>\n    .dataframe tbody tr th:only-of-type {\n        vertical-align: middle;\n    }\n\n    .dataframe tbody tr th {\n        vertical-align: top;\n    }\n\n    .dataframe thead th {\n        text-align: right;\n    }\n</style>\n<table border=\"1\" class=\"dataframe\">\n  <thead>\n    <tr style=\"text-align: right;\">\n      <th></th>\n      <th>UWI</th>\n      <th>SurfLat</th>\n      <th>SurfLong</th>\n      <th>TD (ft)</th>\n      <th>GL(ft)</th>\n      <th>BHT_below sea level (ft)</th>\n      <th>BHT_ subsurface (ft)</th>\n      <th>BHTorMRT (maximum recorded temperature) oF</th>\n      <th>TSC or ORT (time since circulation or original recorded time in hours)</th>\n      <th>TempC_BHT</th>\n    </tr>\n  </thead>\n  <tbody>\n    <tr>\n      <th>0</th>\n      <td>42013301410000</td>\n      <td>28.690426</td>\n      <td>-98.470138</td>\n      <td>19629.0</td>\n      <td>345.90</td>\n      <td>12222.50</td>\n      <td>12568.4</td>\n      <td>143.0</td>\n      <td>5.50</td>\n      <td>61.666667</td>\n    </tr>\n    <tr>\n      <th>1</th>\n      <td>42013301930000</td>\n      <td>28.779921</td>\n      <td>-98.208313</td>\n      <td>10775.0</td>\n      <td>397.40</td>\n      <td>10396.00</td>\n      <td>10793.4</td>\n      <td>225.0</td>\n      <td>11.00</td>\n      <td>107.222222</td>\n    </tr>\n    <tr>\n      <th>2</th>\n      <td>42013302760000</td>\n      <td>28.994360</td>\n      <td>-98.421799</td>\n      <td>6168.0</td>\n      <td>460.40</td>\n      <td>5733.00</td>\n      <td>6193.4</td>\n      <td>150.0</td>\n      <td>5.50</td>\n      <td>65.555556</td>\n    </tr>\n    <tr>\n      <th>3</th>\n      <td>42013305480000</td>\n      <td>28.759118</td>\n      <td>-98.156410</td>\n      <td>8198.0</td>\n      <td>410.40</td>\n      <td>7806.00</td>\n      <td>8216.4</td>\n      <td>170.0</td>\n      <td>5.00</td>\n      <td>76.666667</td>\n    </tr>\n    <tr>\n      <th>4</th>\n      <td>42013310190000</td>\n      <td>28.817400</td>\n      <td>-98.155319</td>\n      <td>11000.0</td>\n      <td>508.92</td>\n      <td>10509.48</td>\n      <td>11018.4</td>\n      <td>210.0</td>\n      <td>7.75</td>\n      <td>98.888889</td>\n    </tr>\n  </tbody>\n</table>\n</div>"
     },
     "execution_count": 3,
     "metadata": {},
     "output_type": "execute_result"
    }
   ],
   "source": [
    "Eaglebine_BHT = pd.read_excel(dir_eaglebine / 'Eaglebine BHT TSC data for SPE April 21 2020.xlsx')\n",
    "Eaglebine_BHT['TempC_BHT'] = (Eaglebine_BHT['BHTorMRT (maximum recorded temperature) oF'] - 32) * (5./9.)\n",
    "Eaglebine_BHT.head()"
   ]
  },
  {
   "cell_type": "code",
   "execution_count": 4,
   "metadata": {
    "pycharm": {
     "name": "#%%\n"
    }
   },
   "outputs": [
    {
     "name": "stdout",
     "output_type": "stream",
     "text": [
      "number of unique wells: 324\n"
     ]
    }
   ],
   "source": [
    "print(\"number of unique wells: \" + str(len(pd.unique(Eaglebine_BHT['UWI']))))"
   ]
  },
  {
   "cell_type": "markdown",
   "metadata": {},
   "source": [
    "## 2.2 Read in Eaglebine synthetic \"true formation temperature\""
   ]
  },
  {
   "cell_type": "code",
   "execution_count": 5,
   "metadata": {
    "pycharm": {
     "name": "#%%\n"
    }
   },
   "outputs": [
    {
     "data": {
      "text/plain": "              UWI  Depth sub-sea (feet)  True Temperature   (oF)\n0  42013301410000                  -350                    70.33\n1  42013301410000                  -300                    70.33\n2  42013301410000                  -250                    70.33\n3  42013301410000                  -200                    71.49\n4  42013301410000                  -150                    72.66",
      "text/html": "<div>\n<style scoped>\n    .dataframe tbody tr th:only-of-type {\n        vertical-align: middle;\n    }\n\n    .dataframe tbody tr th {\n        vertical-align: top;\n    }\n\n    .dataframe thead th {\n        text-align: right;\n    }\n</style>\n<table border=\"1\" class=\"dataframe\">\n  <thead>\n    <tr style=\"text-align: right;\">\n      <th></th>\n      <th>UWI</th>\n      <th>Depth sub-sea (feet)</th>\n      <th>True Temperature   (oF)</th>\n    </tr>\n  </thead>\n  <tbody>\n    <tr>\n      <th>0</th>\n      <td>42013301410000</td>\n      <td>-350</td>\n      <td>70.33</td>\n    </tr>\n    <tr>\n      <th>1</th>\n      <td>42013301410000</td>\n      <td>-300</td>\n      <td>70.33</td>\n    </tr>\n    <tr>\n      <th>2</th>\n      <td>42013301410000</td>\n      <td>-250</td>\n      <td>70.33</td>\n    </tr>\n    <tr>\n      <th>3</th>\n      <td>42013301410000</td>\n      <td>-200</td>\n      <td>71.49</td>\n    </tr>\n    <tr>\n      <th>4</th>\n      <td>42013301410000</td>\n      <td>-150</td>\n      <td>72.66</td>\n    </tr>\n  </tbody>\n</table>\n</div>"
     },
     "execution_count": 5,
     "metadata": {},
     "output_type": "execute_result"
    }
   ],
   "source": [
    "Eaglebine_Truth = pd.read_excel(dir_eaglebine / 'Eaglebine TrueTemp_Train2.xlsx')\n",
    "Eaglebine_Truth.head()"
   ]
  },
  {
   "cell_type": "code",
   "execution_count": 6,
   "metadata": {
    "pycharm": {
     "name": "#%%\n"
    }
   },
   "outputs": [],
   "source": [
    "# convert to Celsius\n",
    "Eaglebine_Truth['TempTrue_degC'] = (Eaglebine_Truth['True Temperature   (oF)'] - 32) * (5./9.)"
   ]
  },
  {
   "cell_type": "code",
   "execution_count": 7,
   "metadata": {
    "pycharm": {
     "name": "#%%\n"
    }
   },
   "outputs": [
    {
     "name": "stdout",
     "output_type": "stream",
     "text": [
      "number of unique wells in Eaglebine in training set: 243\n"
     ]
    }
   ],
   "source": [
    "print(\"number of unique wells in Eaglebine in training set: \" + str(len(pd.unique(Eaglebine_Truth['UWI']))))"
   ]
  },
  {
   "cell_type": "markdown",
   "metadata": {},
   "source": [
    "## 2.3 Combine measured BHT and true temperature"
   ]
  },
  {
   "cell_type": "code",
   "execution_count": 8,
   "metadata": {
    "pycharm": {
     "name": "#%%\n"
    }
   },
   "outputs": [],
   "source": [
    "Eaglebine_Combined = Eaglebine_BHT.merge(Eaglebine_Truth, on='UWI', how='left')"
   ]
  },
  {
   "cell_type": "code",
   "execution_count": 9,
   "metadata": {
    "pycharm": {
     "name": "#%%\n"
    }
   },
   "outputs": [
    {
     "data": {
      "text/plain": "              UWI    SurfLat   SurfLong  TD (ft)  GL(ft)  \\\n0  42013301410000  28.690426 -98.470138  19629.0  345.90   \n1  42013301930000  28.779921 -98.208313  10775.0  397.40   \n2  42013302760000  28.994360 -98.421799   6168.0  460.40   \n3  42013305480000  28.759118 -98.156410   8198.0  410.40   \n4  42013310190000  28.817400 -98.155319  11000.0  508.92   \n\n   BHT_below sea level (ft)  BHT_ subsurface (ft)  \\\n0                  12222.50               12568.4   \n1                  10396.00               10793.4   \n2                   5733.00                6193.4   \n3                   7806.00                8216.4   \n4                  10509.48               11018.4   \n\n   BHTorMRT (maximum recorded temperature) oF  \\\n0                                       143.0   \n1                                       225.0   \n2                                       150.0   \n3                                       170.0   \n4                                       210.0   \n\n   TSC or ORT (time since circulation or original recorded time in hours)  \\\n0                                               5.50                        \n1                                              11.00                        \n2                                               5.50                        \n3                                               5.00                        \n4                                               7.75                        \n\n    TempC_BHT  diff_depth_abs  TempTrue_degC  \n0   61.666667           22.50     141.555556  \n1  107.222222            4.00     132.038889  \n2   65.555556           17.00      89.161111  \n3   76.666667            6.00     107.961111  \n4   98.888889            9.48     133.722222  ",
      "text/html": "<div>\n<style scoped>\n    .dataframe tbody tr th:only-of-type {\n        vertical-align: middle;\n    }\n\n    .dataframe tbody tr th {\n        vertical-align: top;\n    }\n\n    .dataframe thead th {\n        text-align: right;\n    }\n</style>\n<table border=\"1\" class=\"dataframe\">\n  <thead>\n    <tr style=\"text-align: right;\">\n      <th></th>\n      <th>UWI</th>\n      <th>SurfLat</th>\n      <th>SurfLong</th>\n      <th>TD (ft)</th>\n      <th>GL(ft)</th>\n      <th>BHT_below sea level (ft)</th>\n      <th>BHT_ subsurface (ft)</th>\n      <th>BHTorMRT (maximum recorded temperature) oF</th>\n      <th>TSC or ORT (time since circulation or original recorded time in hours)</th>\n      <th>TempC_BHT</th>\n      <th>diff_depth_abs</th>\n      <th>TempTrue_degC</th>\n    </tr>\n  </thead>\n  <tbody>\n    <tr>\n      <th>0</th>\n      <td>42013301410000</td>\n      <td>28.690426</td>\n      <td>-98.470138</td>\n      <td>19629.0</td>\n      <td>345.90</td>\n      <td>12222.50</td>\n      <td>12568.4</td>\n      <td>143.0</td>\n      <td>5.50</td>\n      <td>61.666667</td>\n      <td>22.50</td>\n      <td>141.555556</td>\n    </tr>\n    <tr>\n      <th>1</th>\n      <td>42013301930000</td>\n      <td>28.779921</td>\n      <td>-98.208313</td>\n      <td>10775.0</td>\n      <td>397.40</td>\n      <td>10396.00</td>\n      <td>10793.4</td>\n      <td>225.0</td>\n      <td>11.00</td>\n      <td>107.222222</td>\n      <td>4.00</td>\n      <td>132.038889</td>\n    </tr>\n    <tr>\n      <th>2</th>\n      <td>42013302760000</td>\n      <td>28.994360</td>\n      <td>-98.421799</td>\n      <td>6168.0</td>\n      <td>460.40</td>\n      <td>5733.00</td>\n      <td>6193.4</td>\n      <td>150.0</td>\n      <td>5.50</td>\n      <td>65.555556</td>\n      <td>17.00</td>\n      <td>89.161111</td>\n    </tr>\n    <tr>\n      <th>3</th>\n      <td>42013305480000</td>\n      <td>28.759118</td>\n      <td>-98.156410</td>\n      <td>8198.0</td>\n      <td>410.40</td>\n      <td>7806.00</td>\n      <td>8216.4</td>\n      <td>170.0</td>\n      <td>5.00</td>\n      <td>76.666667</td>\n      <td>6.00</td>\n      <td>107.961111</td>\n    </tr>\n    <tr>\n      <th>4</th>\n      <td>42013310190000</td>\n      <td>28.817400</td>\n      <td>-98.155319</td>\n      <td>11000.0</td>\n      <td>508.92</td>\n      <td>10509.48</td>\n      <td>11018.4</td>\n      <td>210.0</td>\n      <td>7.75</td>\n      <td>98.888889</td>\n      <td>9.48</td>\n      <td>133.722222</td>\n    </tr>\n  </tbody>\n</table>\n</div>"
     },
     "execution_count": 9,
     "metadata": {},
     "output_type": "execute_result"
    }
   ],
   "source": [
    "# only keep from the synthetic data, the temperature at the elevation closest to the model\n",
    "Eaglebine_Combined['diff_depth'] = Eaglebine_Combined['Depth sub-sea (feet)']-Eaglebine_Combined['BHT_below sea level (ft)']\n",
    "Eaglebine_Combined['diff_depth_abs'] = np.abs(Eaglebine_Combined['diff_depth'])\n",
    "idx = Eaglebine_Combined.groupby(['UWI'])['diff_depth_abs'].transform(min) == Eaglebine_Combined['diff_depth_abs']\n",
    "TrueTempUWI = Eaglebine_Combined.loc[idx, ['UWI', 'diff_depth_abs', 'TempTrue_degC']]\n",
    "TrueTempUWI = TrueTempUWI.copy(deep=True)\n",
    "Eaglebine_Combined_cln = Eaglebine_BHT.merge(TrueTempUWI, on='UWI', how='left')\n",
    "Eaglebine_Combined_cln.head()"
   ]
  },
  {
   "cell_type": "code",
   "execution_count": 10,
   "metadata": {
    "pycharm": {
     "name": "#%%\n"
    }
   },
   "outputs": [
    {
     "data": {
      "text/plain": "324"
     },
     "execution_count": 10,
     "metadata": {},
     "output_type": "execute_result"
    }
   ],
   "source": [
    "len(Eaglebine_Combined_cln)"
   ]
  },
  {
   "cell_type": "markdown",
   "metadata": {},
   "source": [
    "## 2.4 Read in static temperature information and merge into dataset"
   ]
  },
  {
   "cell_type": "code",
   "execution_count": 11,
   "metadata": {
    "pycharm": {
     "name": "#%%\n"
    }
   },
   "outputs": [
    {
     "data": {
      "text/plain": "          Well_ID  Depth (ft)  Temp (degC)      Field\n0  42013301930000     10700.0   132.778000  Eaglebine\n1  42041305800000      7360.0    82.777778  Eaglebine\n2  42041311700000      7828.0   118.888889  Eaglebine\n3  42041311980000      7954.0   105.000000  Eaglebine\n4  42051305380000      8380.0   111.111111  Eaglebine",
      "text/html": "<div>\n<style scoped>\n    .dataframe tbody tr th:only-of-type {\n        vertical-align: middle;\n    }\n\n    .dataframe tbody tr th {\n        vertical-align: top;\n    }\n\n    .dataframe thead th {\n        text-align: right;\n    }\n</style>\n<table border=\"1\" class=\"dataframe\">\n  <thead>\n    <tr style=\"text-align: right;\">\n      <th></th>\n      <th>Well_ID</th>\n      <th>Depth (ft)</th>\n      <th>Temp (degC)</th>\n      <th>Field</th>\n    </tr>\n  </thead>\n  <tbody>\n    <tr>\n      <th>0</th>\n      <td>42013301930000</td>\n      <td>10700.0</td>\n      <td>132.778000</td>\n      <td>Eaglebine</td>\n    </tr>\n    <tr>\n      <th>1</th>\n      <td>42041305800000</td>\n      <td>7360.0</td>\n      <td>82.777778</td>\n      <td>Eaglebine</td>\n    </tr>\n    <tr>\n      <th>2</th>\n      <td>42041311700000</td>\n      <td>7828.0</td>\n      <td>118.888889</td>\n      <td>Eaglebine</td>\n    </tr>\n    <tr>\n      <th>3</th>\n      <td>42041311980000</td>\n      <td>7954.0</td>\n      <td>105.000000</td>\n      <td>Eaglebine</td>\n    </tr>\n    <tr>\n      <th>4</th>\n      <td>42051305380000</td>\n      <td>8380.0</td>\n      <td>111.111111</td>\n      <td>Eaglebine</td>\n    </tr>\n  </tbody>\n</table>\n</div>"
     },
     "execution_count": 11,
     "metadata": {},
     "output_type": "execute_result"
    }
   ],
   "source": [
    "Static_log_temp = pd.read_csv(ROOT_DIR / 'gtx/data/Data_static_logs.csv')\n",
    "Static_log_temp.head()"
   ]
  },
  {
   "cell_type": "code",
   "execution_count": 12,
   "metadata": {
    "pycharm": {
     "name": "#%%\n"
    }
   },
   "outputs": [],
   "source": [
    "Eaglebine_Combined_cln['UWI'] = Eaglebine_Combined_cln['UWI'].astype(str)\n",
    "Eaglebine_Combined_cln = Eaglebine_Combined_cln.copy(deep=True)\n",
    "Eaglebine_Combined_cln['TrueTemp_datasource_syn'] = 'synthetic'\n",
    "Static_log_temp['TrueTemp_datasource_stat'] = 'static_temp_logs'\n",
    "Eaglebine_Combined_stat = Eaglebine_Combined_cln.merge(Static_log_temp, left_on='UWI',right_on='Well_ID', how='left')"
   ]
  },
  {
   "cell_type": "code",
   "execution_count": 13,
   "metadata": {
    "pycharm": {
     "name": "#%%\n"
    }
   },
   "outputs": [
    {
     "data": {
      "text/plain": "              UWI    SurfLat   SurfLong  TD (ft)  GL(ft)  \\\n0  42013301410000  28.690426 -98.470138  19629.0  345.90   \n1  42013301930000  28.779921 -98.208313  10775.0  397.40   \n2  42013302760000  28.994360 -98.421799   6168.0  460.40   \n3  42013305480000  28.759118 -98.156410   8198.0  410.40   \n4  42013310190000  28.817400 -98.155319  11000.0  508.92   \n\n   BHT_below sea level (ft)  BHT_ subsurface (ft)  \\\n0                  12222.50               12568.4   \n1                  10396.00               10793.4   \n2                   5733.00                6193.4   \n3                   7806.00                8216.4   \n4                  10509.48               11018.4   \n\n   BHTorMRT (maximum recorded temperature) oF  \\\n0                                       143.0   \n1                                       225.0   \n2                                       150.0   \n3                                       170.0   \n4                                       210.0   \n\n   TSC or ORT (time since circulation or original recorded time in hours)  \\\n0                                               5.50                        \n1                                              11.00                        \n2                                               5.50                        \n3                                               5.00                        \n4                                               7.75                        \n\n    TempC_BHT  diff_depth_abs  TempTrue_degC TrueTemp_datasource_syn  \\\n0   61.666667           22.50     141.555556               synthetic   \n1  107.222222            4.00     132.038889               synthetic   \n2   65.555556           17.00      89.161111               synthetic   \n3   76.666667            6.00     107.961111               synthetic   \n4   98.888889            9.48     133.722222               synthetic   \n\n          Well_ID  Depth (ft)  Temp (degC)      Field  \\\n0             NaN         NaN          NaN        NaN   \n1  42013301930000     10700.0      132.778  Eaglebine   \n2             NaN         NaN          NaN        NaN   \n3             NaN         NaN          NaN        NaN   \n4             NaN         NaN          NaN        NaN   \n\n  TrueTemp_datasource_stat   TempC_Fin TrueTemp_datasource  \n0                      NaN  141.555556           synthetic  \n1         static_temp_logs  132.778000    static_temp_logs  \n2                      NaN   89.161111           synthetic  \n3                      NaN  107.961111           synthetic  \n4                      NaN  133.722222           synthetic  ",
      "text/html": "<div>\n<style scoped>\n    .dataframe tbody tr th:only-of-type {\n        vertical-align: middle;\n    }\n\n    .dataframe tbody tr th {\n        vertical-align: top;\n    }\n\n    .dataframe thead th {\n        text-align: right;\n    }\n</style>\n<table border=\"1\" class=\"dataframe\">\n  <thead>\n    <tr style=\"text-align: right;\">\n      <th></th>\n      <th>UWI</th>\n      <th>SurfLat</th>\n      <th>SurfLong</th>\n      <th>TD (ft)</th>\n      <th>GL(ft)</th>\n      <th>BHT_below sea level (ft)</th>\n      <th>BHT_ subsurface (ft)</th>\n      <th>BHTorMRT (maximum recorded temperature) oF</th>\n      <th>TSC or ORT (time since circulation or original recorded time in hours)</th>\n      <th>TempC_BHT</th>\n      <th>diff_depth_abs</th>\n      <th>TempTrue_degC</th>\n      <th>TrueTemp_datasource_syn</th>\n      <th>Well_ID</th>\n      <th>Depth (ft)</th>\n      <th>Temp (degC)</th>\n      <th>Field</th>\n      <th>TrueTemp_datasource_stat</th>\n      <th>TempC_Fin</th>\n      <th>TrueTemp_datasource</th>\n    </tr>\n  </thead>\n  <tbody>\n    <tr>\n      <th>0</th>\n      <td>42013301410000</td>\n      <td>28.690426</td>\n      <td>-98.470138</td>\n      <td>19629.0</td>\n      <td>345.90</td>\n      <td>12222.50</td>\n      <td>12568.4</td>\n      <td>143.0</td>\n      <td>5.50</td>\n      <td>61.666667</td>\n      <td>22.50</td>\n      <td>141.555556</td>\n      <td>synthetic</td>\n      <td>NaN</td>\n      <td>NaN</td>\n      <td>NaN</td>\n      <td>NaN</td>\n      <td>NaN</td>\n      <td>141.555556</td>\n      <td>synthetic</td>\n    </tr>\n    <tr>\n      <th>1</th>\n      <td>42013301930000</td>\n      <td>28.779921</td>\n      <td>-98.208313</td>\n      <td>10775.0</td>\n      <td>397.40</td>\n      <td>10396.00</td>\n      <td>10793.4</td>\n      <td>225.0</td>\n      <td>11.00</td>\n      <td>107.222222</td>\n      <td>4.00</td>\n      <td>132.038889</td>\n      <td>synthetic</td>\n      <td>42013301930000</td>\n      <td>10700.0</td>\n      <td>132.778</td>\n      <td>Eaglebine</td>\n      <td>static_temp_logs</td>\n      <td>132.778000</td>\n      <td>static_temp_logs</td>\n    </tr>\n    <tr>\n      <th>2</th>\n      <td>42013302760000</td>\n      <td>28.994360</td>\n      <td>-98.421799</td>\n      <td>6168.0</td>\n      <td>460.40</td>\n      <td>5733.00</td>\n      <td>6193.4</td>\n      <td>150.0</td>\n      <td>5.50</td>\n      <td>65.555556</td>\n      <td>17.00</td>\n      <td>89.161111</td>\n      <td>synthetic</td>\n      <td>NaN</td>\n      <td>NaN</td>\n      <td>NaN</td>\n      <td>NaN</td>\n      <td>NaN</td>\n      <td>89.161111</td>\n      <td>synthetic</td>\n    </tr>\n    <tr>\n      <th>3</th>\n      <td>42013305480000</td>\n      <td>28.759118</td>\n      <td>-98.156410</td>\n      <td>8198.0</td>\n      <td>410.40</td>\n      <td>7806.00</td>\n      <td>8216.4</td>\n      <td>170.0</td>\n      <td>5.00</td>\n      <td>76.666667</td>\n      <td>6.00</td>\n      <td>107.961111</td>\n      <td>synthetic</td>\n      <td>NaN</td>\n      <td>NaN</td>\n      <td>NaN</td>\n      <td>NaN</td>\n      <td>NaN</td>\n      <td>107.961111</td>\n      <td>synthetic</td>\n    </tr>\n    <tr>\n      <th>4</th>\n      <td>42013310190000</td>\n      <td>28.817400</td>\n      <td>-98.155319</td>\n      <td>11000.0</td>\n      <td>508.92</td>\n      <td>10509.48</td>\n      <td>11018.4</td>\n      <td>210.0</td>\n      <td>7.75</td>\n      <td>98.888889</td>\n      <td>9.48</td>\n      <td>133.722222</td>\n      <td>synthetic</td>\n      <td>NaN</td>\n      <td>NaN</td>\n      <td>NaN</td>\n      <td>NaN</td>\n      <td>NaN</td>\n      <td>133.722222</td>\n      <td>synthetic</td>\n    </tr>\n  </tbody>\n</table>\n</div>"
     },
     "execution_count": 13,
     "metadata": {},
     "output_type": "execute_result"
    }
   ],
   "source": [
    "# Coalesce columns together with priority for true temperature measurements\n",
    "Eaglebine_Combined_stat['TempC_Fin'] = Eaglebine_Combined_stat['Temp (degC)'].fillna(Eaglebine_Combined_stat['TempTrue_degC'])\n",
    "Eaglebine_Combined_stat['TrueTemp_datasource'] = Eaglebine_Combined_stat['TrueTemp_datasource_stat'].fillna(Eaglebine_Combined_stat['TrueTemp_datasource_syn'])\n",
    "Eaglebine_Combined_stat.head()"
   ]
  },
  {
   "cell_type": "markdown",
   "metadata": {},
   "source": [
    "## 2.5 plot the eaglebine temperature data"
   ]
  },
  {
   "cell_type": "code",
   "execution_count": 14,
   "metadata": {
    "pycharm": {
     "name": "#%%\n"
    }
   },
   "outputs": [
    {
     "data": {
      "text/plain": "<matplotlib.legend.Legend at 0x1fbb5891b88>"
     },
     "execution_count": 14,
     "metadata": {},
     "output_type": "execute_result"
    },
    {
     "data": {
      "text/plain": "<Figure size 288x288 with 1 Axes>",
      "image/png": "[encoded data removed]"
     },
     "metadata": {
      "needs_background": "light"
     },
     "output_type": "display_data"
    }
   ],
   "source": [
    "import matplotlib.pyplot as plt\n",
    "plt.close('all')\n",
    "fig, ax = plt.subplots(1, 1, figsize=(4,4))\n",
    "\n",
    "sns.scatterplot(data=Eaglebine_Combined_stat, x=\"TempC_BHT\", y=\"TempC_Fin\", hue='BHT_below sea level (ft)', ax=ax)\n",
    "\n",
    "ax.set_xlim([30, 220])\n",
    "ax.set_ylim([30, 220])\n",
    "ax.plot([0, 220], [0, 220])\n",
    "plt.legend(bbox_to_anchor=(1.04,1), loc=\"upper left\")"
   ]
  },
  {
   "cell_type": "markdown",
   "metadata": {},
   "source": [
    "# 3 Organize Duvernay temperature data"
   ]
  },
  {
   "cell_type": "markdown",
   "metadata": {},
   "source": [
    "## 3.1 Read in DST BHT input and \"true temp\" synthetic data"
   ]
  },
  {
   "cell_type": "code",
   "execution_count": 15,
   "metadata": {
    "pycharm": {
     "name": "#%%\n"
    }
   },
   "outputs": [
    {
     "data": {
      "text/plain": "                UWI  Depths subsea (m)  True Temperature (oC)\n0  100010107020W500               -720                   2.53\n1  100010107020W500               -700                   2.54\n2  100010107020W500               -680                   2.54\n3  100010107020W500               -660                   3.30\n4  100010107020W500               -640                   4.06",
      "text/html": "<div>\n<style scoped>\n    .dataframe tbody tr th:only-of-type {\n        vertical-align: middle;\n    }\n\n    .dataframe tbody tr th {\n        vertical-align: top;\n    }\n\n    .dataframe thead th {\n        text-align: right;\n    }\n</style>\n<table border=\"1\" class=\"dataframe\">\n  <thead>\n    <tr style=\"text-align: right;\">\n      <th></th>\n      <th>UWI</th>\n      <th>Depths subsea (m)</th>\n      <th>True Temperature (oC)</th>\n    </tr>\n  </thead>\n  <tbody>\n    <tr>\n      <th>0</th>\n      <td>100010107020W500</td>\n      <td>-720</td>\n      <td>2.53</td>\n    </tr>\n    <tr>\n      <th>1</th>\n      <td>100010107020W500</td>\n      <td>-700</td>\n      <td>2.54</td>\n    </tr>\n    <tr>\n      <th>2</th>\n      <td>100010107020W500</td>\n      <td>-680</td>\n      <td>2.54</td>\n    </tr>\n    <tr>\n      <th>3</th>\n      <td>100010107020W500</td>\n      <td>-660</td>\n      <td>3.30</td>\n    </tr>\n    <tr>\n      <th>4</th>\n      <td>100010107020W500</td>\n      <td>-640</td>\n      <td>4.06</td>\n    </tr>\n  </tbody>\n</table>\n</div>"
     },
     "execution_count": 15,
     "metadata": {},
     "output_type": "execute_result"
    }
   ],
   "source": [
    "Duvernay_Truth = pd.read_excel(dir_duvernay / 'Duvenay TrueTemp_Train.xlsx')\n",
    "Duvernay_DST = pd.read_excel(dir_duvernay / 'Duvernay DST BHT for SPE April 20 2021.xlsx')\n",
    "Duvernay_Truth.head()"
   ]
  },
  {
   "cell_type": "code",
   "execution_count": 16,
   "metadata": {
    "pycharm": {
     "name": "#%%\n"
    }
   },
   "outputs": [
    {
     "data": {
      "text/plain": "            Well ID  DST Start Depth (MD) (m)  DST End Depth (MD) (m)  \\\n0  100010107020W500                    1410.6                  1423.4   \n1  100010608109W500                    1686.0                  1694.0   \n2  100010904012W500                    3698.0                  3718.0   \n3  100011206021W400                     822.0                   825.0   \n4  100011506915W500                    1801.0                  1818.0   \n\n   DST Bottom Hole Temp. (degC)  DST Test Date Test Type DST Misrun  \\\n0                         48.33          26025       DST          N   \n1                         34.26          33647       DST          N   \n2                        104.40          30798       LRT          N   \n3                         29.00          29543       DST          N   \n4                         64.00          30760       DST          N   \n\n   DST Number Formation DSTd  Unnamed: 9  elevation M above sea level  \\\n0           2      TRmontney         NaN                        701.0   \n1           1        Dmuskeg         NaN                        645.6   \n2           1        Melkton         NaN                       1283.8   \n3           4      Dwintrbrn         NaN                        651.6   \n4           4       Dwabamun         NaN                        873.1   \n\n                UWI  Depth_SS(m)  \n0  100010107020W500        716.0  \n1  100010608109W500       1044.4  \n2  100010904012W500       2424.2  \n3  100011206021W400        171.9  \n4  100011506915W500        936.4  ",
      "text/html": "<div>\n<style scoped>\n    .dataframe tbody tr th:only-of-type {\n        vertical-align: middle;\n    }\n\n    .dataframe tbody tr th {\n        vertical-align: top;\n    }\n\n    .dataframe thead th {\n        text-align: right;\n    }\n</style>\n<table border=\"1\" class=\"dataframe\">\n  <thead>\n    <tr style=\"text-align: right;\">\n      <th></th>\n      <th>Well ID</th>\n      <th>DST Start Depth (MD) (m)</th>\n      <th>DST End Depth (MD) (m)</th>\n      <th>DST Bottom Hole Temp. (degC)</th>\n      <th>DST Test Date</th>\n      <th>Test Type</th>\n      <th>DST Misrun</th>\n      <th>DST Number</th>\n      <th>Formation DSTd</th>\n      <th>Unnamed: 9</th>\n      <th>elevation M above sea level</th>\n      <th>UWI</th>\n      <th>Depth_SS(m)</th>\n    </tr>\n  </thead>\n  <tbody>\n    <tr>\n      <th>0</th>\n      <td>100010107020W500</td>\n      <td>1410.6</td>\n      <td>1423.4</td>\n      <td>48.33</td>\n      <td>26025</td>\n      <td>DST</td>\n      <td>N</td>\n      <td>2</td>\n      <td>TRmontney</td>\n      <td>NaN</td>\n      <td>701.0</td>\n      <td>100010107020W500</td>\n      <td>716.0</td>\n    </tr>\n    <tr>\n      <th>1</th>\n      <td>100010608109W500</td>\n      <td>1686.0</td>\n      <td>1694.0</td>\n      <td>34.26</td>\n      <td>33647</td>\n      <td>DST</td>\n      <td>N</td>\n      <td>1</td>\n      <td>Dmuskeg</td>\n      <td>NaN</td>\n      <td>645.6</td>\n      <td>100010608109W500</td>\n      <td>1044.4</td>\n    </tr>\n    <tr>\n      <th>2</th>\n      <td>100010904012W500</td>\n      <td>3698.0</td>\n      <td>3718.0</td>\n      <td>104.40</td>\n      <td>30798</td>\n      <td>LRT</td>\n      <td>N</td>\n      <td>1</td>\n      <td>Melkton</td>\n      <td>NaN</td>\n      <td>1283.8</td>\n      <td>100010904012W500</td>\n      <td>2424.2</td>\n    </tr>\n    <tr>\n      <th>3</th>\n      <td>100011206021W400</td>\n      <td>822.0</td>\n      <td>825.0</td>\n      <td>29.00</td>\n      <td>29543</td>\n      <td>DST</td>\n      <td>N</td>\n      <td>4</td>\n      <td>Dwintrbrn</td>\n      <td>NaN</td>\n      <td>651.6</td>\n      <td>100011206021W400</td>\n      <td>171.9</td>\n    </tr>\n    <tr>\n      <th>4</th>\n      <td>100011506915W500</td>\n      <td>1801.0</td>\n      <td>1818.0</td>\n      <td>64.00</td>\n      <td>30760</td>\n      <td>DST</td>\n      <td>N</td>\n      <td>4</td>\n      <td>Dwabamun</td>\n      <td>NaN</td>\n      <td>873.1</td>\n      <td>100011506915W500</td>\n      <td>936.4</td>\n    </tr>\n  </tbody>\n</table>\n</div>"
     },
     "execution_count": 16,
     "metadata": {},
     "output_type": "execute_result"
    }
   ],
   "source": [
    "# add in an extra column calculating the depth sub sea (elevation-depth)*-1 \n",
    "Duvernay_DST['Depth_SS(m)']=-1*(Duvernay_DST['elevation M above sea level']-(Duvernay_DST['DST Start Depth (MD) (m)']+Duvernay_DST['DST End Depth (MD) (m)'])/2)\n",
    "Duvernay_DST.head()"
   ]
  },
  {
   "cell_type": "code",
   "execution_count": 17,
   "metadata": {
    "pycharm": {
     "name": "#%%\n"
    }
   },
   "outputs": [
    {
     "data": {
      "text/plain": "            Well ID  DST Start Depth (MD) (m)  DST End Depth (MD) (m)  \\\n0  100010107020W500                    1410.6                  1423.4   \n1  100010107020W500                    1410.6                  1423.4   \n2  100010107020W500                    1410.6                  1423.4   \n3  100010107020W500                    1410.6                  1423.4   \n4  100010107020W500                    1410.6                  1423.4   \n\n   DST Bottom Hole Temp. (degC)  DST Test Date Test Type DST Misrun  \\\n0                         48.33          26025       DST          N   \n1                         48.33          26025       DST          N   \n2                         48.33          26025       DST          N   \n3                         48.33          26025       DST          N   \n4                         48.33          26025       DST          N   \n\n   DST Number Formation DSTd  Unnamed: 9  elevation M above sea level  \\\n0           2      TRmontney         NaN                        701.0   \n1           2      TRmontney         NaN                        701.0   \n2           2      TRmontney         NaN                        701.0   \n3           2      TRmontney         NaN                        701.0   \n4           2      TRmontney         NaN                        701.0   \n\n                UWI  Depth_SS(m)  Depths subsea (m)  True Temperature (oC)  \n0  100010107020W500        716.0             -720.0                   2.53  \n1  100010107020W500        716.0             -700.0                   2.54  \n2  100010107020W500        716.0             -680.0                   2.54  \n3  100010107020W500        716.0             -660.0                   3.30  \n4  100010107020W500        716.0             -640.0                   4.06  ",
      "text/html": "<div>\n<style scoped>\n    .dataframe tbody tr th:only-of-type {\n        vertical-align: middle;\n    }\n\n    .dataframe tbody tr th {\n        vertical-align: top;\n    }\n\n    .dataframe thead th {\n        text-align: right;\n    }\n</style>\n<table border=\"1\" class=\"dataframe\">\n  <thead>\n    <tr style=\"text-align: right;\">\n      <th></th>\n      <th>Well ID</th>\n      <th>DST Start Depth (MD) (m)</th>\n      <th>DST End Depth (MD) (m)</th>\n      <th>DST Bottom Hole Temp. (degC)</th>\n      <th>DST Test Date</th>\n      <th>Test Type</th>\n      <th>DST Misrun</th>\n      <th>DST Number</th>\n      <th>Formation DSTd</th>\n      <th>Unnamed: 9</th>\n      <th>elevation M above sea level</th>\n      <th>UWI</th>\n      <th>Depth_SS(m)</th>\n      <th>Depths subsea (m)</th>\n      <th>True Temperature (oC)</th>\n    </tr>\n  </thead>\n  <tbody>\n    <tr>\n      <th>0</th>\n      <td>100010107020W500</td>\n      <td>1410.6</td>\n      <td>1423.4</td>\n      <td>48.33</td>\n      <td>26025</td>\n      <td>DST</td>\n      <td>N</td>\n      <td>2</td>\n      <td>TRmontney</td>\n      <td>NaN</td>\n      <td>701.0</td>\n      <td>100010107020W500</td>\n      <td>716.0</td>\n      <td>-720.0</td>\n      <td>2.53</td>\n    </tr>\n    <tr>\n      <th>1</th>\n      <td>100010107020W500</td>\n      <td>1410.6</td>\n      <td>1423.4</td>\n      <td>48.33</td>\n      <td>26025</td>\n      <td>DST</td>\n      <td>N</td>\n      <td>2</td>\n      <td>TRmontney</td>\n      <td>NaN</td>\n      <td>701.0</td>\n      <td>100010107020W500</td>\n      <td>716.0</td>\n      <td>-700.0</td>\n      <td>2.54</td>\n    </tr>\n    <tr>\n      <th>2</th>\n      <td>100010107020W500</td>\n      <td>1410.6</td>\n      <td>1423.4</td>\n      <td>48.33</td>\n      <td>26025</td>\n      <td>DST</td>\n      <td>N</td>\n      <td>2</td>\n      <td>TRmontney</td>\n      <td>NaN</td>\n      <td>701.0</td>\n      <td>100010107020W500</td>\n      <td>716.0</td>\n      <td>-680.0</td>\n      <td>2.54</td>\n    </tr>\n    <tr>\n      <th>3</th>\n      <td>100010107020W500</td>\n      <td>1410.6</td>\n      <td>1423.4</td>\n      <td>48.33</td>\n      <td>26025</td>\n      <td>DST</td>\n      <td>N</td>\n      <td>2</td>\n      <td>TRmontney</td>\n      <td>NaN</td>\n      <td>701.0</td>\n      <td>100010107020W500</td>\n      <td>716.0</td>\n      <td>-660.0</td>\n      <td>3.30</td>\n    </tr>\n    <tr>\n      <th>4</th>\n      <td>100010107020W500</td>\n      <td>1410.6</td>\n      <td>1423.4</td>\n      <td>48.33</td>\n      <td>26025</td>\n      <td>DST</td>\n      <td>N</td>\n      <td>2</td>\n      <td>TRmontney</td>\n      <td>NaN</td>\n      <td>701.0</td>\n      <td>100010107020W500</td>\n      <td>716.0</td>\n      <td>-640.0</td>\n      <td>4.06</td>\n    </tr>\n  </tbody>\n</table>\n</div>"
     },
     "execution_count": 17,
     "metadata": {},
     "output_type": "execute_result"
    }
   ],
   "source": [
    "# merge\n",
    "Duvernay_Combined = Duvernay_DST.merge(Duvernay_Truth, on='UWI', how='left')\n",
    "Duvernay_Combined.head()"
   ]
  },
  {
   "cell_type": "code",
   "execution_count": 18,
   "metadata": {
    "pycharm": {
     "name": "#%%\n"
    }
   },
   "outputs": [
    {
     "data": {
      "text/plain": "            Well ID  DST Start Depth (MD) (m)  DST End Depth (MD) (m)  \\\n0  100010107020W500                    1410.6                  1423.4   \n1  100010608109W500                    1686.0                  1694.0   \n2  100010904012W500                    3698.0                  3718.0   \n3  100011206021W400                     822.0                   825.0   \n4  100011506915W500                    1801.0                  1818.0   \n\n   DST Bottom Hole Temp. (degC)  DST Test Date Test Type DST Misrun  \\\n0                         48.33          26025       DST          N   \n1                         34.26          33647       DST          N   \n2                        104.40          30798       LRT          N   \n3                         29.00          29543       DST          N   \n4                         64.00          30760       DST          N   \n\n   DST Number Formation DSTd  Unnamed: 9  elevation M above sea level  \\\n0           2      TRmontney         NaN                        701.0   \n1           1        Dmuskeg         NaN                        645.6   \n2           1        Melkton         NaN                       1283.8   \n3           4      Dwintrbrn         NaN                        651.6   \n4           4       Dwabamun         NaN                        873.1   \n\n                UWI  Depth_SS(m)  diff_depth_abs  True Temperature (oC)  \n0  100010107020W500        716.0             4.0                  60.97  \n1  100010608109W500       1044.4             4.4                  63.98  \n2  100010904012W500       2424.2             NaN                    NaN  \n3  100011206021W400        171.9             8.1                  39.07  \n4  100011506915W500        936.4             3.6                  69.47  ",
      "text/html": "<div>\n<style scoped>\n    .dataframe tbody tr th:only-of-type {\n        vertical-align: middle;\n    }\n\n    .dataframe tbody tr th {\n        vertical-align: top;\n    }\n\n    .dataframe thead th {\n        text-align: right;\n    }\n</style>\n<table border=\"1\" class=\"dataframe\">\n  <thead>\n    <tr style=\"text-align: right;\">\n      <th></th>\n      <th>Well ID</th>\n      <th>DST Start Depth (MD) (m)</th>\n      <th>DST End Depth (MD) (m)</th>\n      <th>DST Bottom Hole Temp. (degC)</th>\n      <th>DST Test Date</th>\n      <th>Test Type</th>\n      <th>DST Misrun</th>\n      <th>DST Number</th>\n      <th>Formation DSTd</th>\n      <th>Unnamed: 9</th>\n      <th>elevation M above sea level</th>\n      <th>UWI</th>\n      <th>Depth_SS(m)</th>\n      <th>diff_depth_abs</th>\n      <th>True Temperature (oC)</th>\n    </tr>\n  </thead>\n  <tbody>\n    <tr>\n      <th>0</th>\n      <td>100010107020W500</td>\n      <td>1410.6</td>\n      <td>1423.4</td>\n      <td>48.33</td>\n      <td>26025</td>\n      <td>DST</td>\n      <td>N</td>\n      <td>2</td>\n      <td>TRmontney</td>\n      <td>NaN</td>\n      <td>701.0</td>\n      <td>100010107020W500</td>\n      <td>716.0</td>\n      <td>4.0</td>\n      <td>60.97</td>\n    </tr>\n    <tr>\n      <th>1</th>\n      <td>100010608109W500</td>\n      <td>1686.0</td>\n      <td>1694.0</td>\n      <td>34.26</td>\n      <td>33647</td>\n      <td>DST</td>\n      <td>N</td>\n      <td>1</td>\n      <td>Dmuskeg</td>\n      <td>NaN</td>\n      <td>645.6</td>\n      <td>100010608109W500</td>\n      <td>1044.4</td>\n      <td>4.4</td>\n      <td>63.98</td>\n    </tr>\n    <tr>\n      <th>2</th>\n      <td>100010904012W500</td>\n      <td>3698.0</td>\n      <td>3718.0</td>\n      <td>104.40</td>\n      <td>30798</td>\n      <td>LRT</td>\n      <td>N</td>\n      <td>1</td>\n      <td>Melkton</td>\n      <td>NaN</td>\n      <td>1283.8</td>\n      <td>100010904012W500</td>\n      <td>2424.2</td>\n      <td>NaN</td>\n      <td>NaN</td>\n    </tr>\n    <tr>\n      <th>3</th>\n      <td>100011206021W400</td>\n      <td>822.0</td>\n      <td>825.0</td>\n      <td>29.00</td>\n      <td>29543</td>\n      <td>DST</td>\n      <td>N</td>\n      <td>4</td>\n      <td>Dwintrbrn</td>\n      <td>NaN</td>\n      <td>651.6</td>\n      <td>100011206021W400</td>\n      <td>171.9</td>\n      <td>8.1</td>\n      <td>39.07</td>\n    </tr>\n    <tr>\n      <th>4</th>\n      <td>100011506915W500</td>\n      <td>1801.0</td>\n      <td>1818.0</td>\n      <td>64.00</td>\n      <td>30760</td>\n      <td>DST</td>\n      <td>N</td>\n      <td>4</td>\n      <td>Dwabamun</td>\n      <td>NaN</td>\n      <td>873.1</td>\n      <td>100011506915W500</td>\n      <td>936.4</td>\n      <td>3.6</td>\n      <td>69.47</td>\n    </tr>\n  </tbody>\n</table>\n</div>"
     },
     "execution_count": 18,
     "metadata": {},
     "output_type": "execute_result"
    }
   ],
   "source": [
    "# keep only the synthetic model temperature data for the relevant depths for which there is BHT measurement\n",
    "Duvernay_Combined['diff_depth'] = Duvernay_Combined['Depth_SS(m)']-Duvernay_Combined['Depths subsea (m)']\n",
    "Duvernay_Combined['diff_depth_abs'] = np.abs(Duvernay_Combined['diff_depth'])\n",
    "idx = Duvernay_Combined.groupby(['UWI'])['diff_depth_abs'].transform(min) == Duvernay_Combined['diff_depth_abs']\n",
    "\n",
    "TrueTempUWI = Duvernay_Combined.loc[idx, ['UWI', 'diff_depth_abs', 'True Temperature (oC)']]\n",
    "TrueTempUWI = TrueTempUWI.copy(deep=True)\n",
    "Duvernay_Combined_cln = Duvernay_DST.merge(TrueTempUWI, on='UWI', how='left')\n",
    "Duvernay_Combined_cln = Duvernay_Combined_cln.drop_duplicates(['UWI'])\n",
    "Duvernay_Combined_cln.head()"
   ]
  },
  {
   "cell_type": "code",
   "execution_count": 19,
   "metadata": {
    "pycharm": {
     "name": "#%%\n"
    }
   },
   "outputs": [
    {
     "data": {
      "text/plain": "512"
     },
     "execution_count": 19,
     "metadata": {},
     "output_type": "execute_result"
    }
   ],
   "source": [
    "len(Duvernay_Combined_cln)"
   ]
  },
  {
   "cell_type": "markdown",
   "metadata": {},
   "source": [
    "## 3.2 Merge in static temperature log data"
   ]
  },
  {
   "cell_type": "code",
   "execution_count": 20,
   "metadata": {
    "pycharm": {
     "name": "#%%\n"
    }
   },
   "outputs": [],
   "source": [
    "Duvernay_Combined_cln['UWI'] = Duvernay_Combined_cln['UWI'].astype(str)\n",
    "Duvernay_Combined_cln = Duvernay_Combined_cln.copy(deep=True)\n",
    "Duvernay_Combined_cln['TrueTemp_datasource_syn'] = 'synthetic'\n",
    "Static_log_temp['TrueTemp_datasource_stat'] = 'static_temp_logs'\n",
    "Duvernay_Combined_stat = Duvernay_Combined_cln.merge(Static_log_temp, left_on='UWI',right_on='Well_ID', how='left')"
   ]
  },
  {
   "cell_type": "code",
   "execution_count": 21,
   "metadata": {
    "pycharm": {
     "name": "#%%\n"
    }
   },
   "outputs": [
    {
     "data": {
      "text/plain": "          Well_ID  Depth (ft)  Temp (degC)      Field TrueTemp_datasource_stat\n0  42013301930000     10700.0   132.778000  Eaglebine         static_temp_logs\n1  42041305800000      7360.0    82.777778  Eaglebine         static_temp_logs\n2  42041311700000      7828.0   118.888889  Eaglebine         static_temp_logs\n3  42041311980000      7954.0   105.000000  Eaglebine         static_temp_logs\n4  42051305380000      8380.0   111.111111  Eaglebine         static_temp_logs",
      "text/html": "<div>\n<style scoped>\n    .dataframe tbody tr th:only-of-type {\n        vertical-align: middle;\n    }\n\n    .dataframe tbody tr th {\n        vertical-align: top;\n    }\n\n    .dataframe thead th {\n        text-align: right;\n    }\n</style>\n<table border=\"1\" class=\"dataframe\">\n  <thead>\n    <tr style=\"text-align: right;\">\n      <th></th>\n      <th>Well_ID</th>\n      <th>Depth (ft)</th>\n      <th>Temp (degC)</th>\n      <th>Field</th>\n      <th>TrueTemp_datasource_stat</th>\n    </tr>\n  </thead>\n  <tbody>\n    <tr>\n      <th>0</th>\n      <td>42013301930000</td>\n      <td>10700.0</td>\n      <td>132.778000</td>\n      <td>Eaglebine</td>\n      <td>static_temp_logs</td>\n    </tr>\n    <tr>\n      <th>1</th>\n      <td>42041305800000</td>\n      <td>7360.0</td>\n      <td>82.777778</td>\n      <td>Eaglebine</td>\n      <td>static_temp_logs</td>\n    </tr>\n    <tr>\n      <th>2</th>\n      <td>42041311700000</td>\n      <td>7828.0</td>\n      <td>118.888889</td>\n      <td>Eaglebine</td>\n      <td>static_temp_logs</td>\n    </tr>\n    <tr>\n      <th>3</th>\n      <td>42041311980000</td>\n      <td>7954.0</td>\n      <td>105.000000</td>\n      <td>Eaglebine</td>\n      <td>static_temp_logs</td>\n    </tr>\n    <tr>\n      <th>4</th>\n      <td>42051305380000</td>\n      <td>8380.0</td>\n      <td>111.111111</td>\n      <td>Eaglebine</td>\n      <td>static_temp_logs</td>\n    </tr>\n  </tbody>\n</table>\n</div>"
     },
     "execution_count": 21,
     "metadata": {},
     "output_type": "execute_result"
    }
   ],
   "source": [
    "Static_log_temp.head()"
   ]
  },
  {
   "cell_type": "code",
   "execution_count": 22,
   "metadata": {
    "pycharm": {
     "name": "#%%\n"
    }
   },
   "outputs": [
    {
     "data": {
      "text/plain": "            Well ID  DST Start Depth (MD) (m)  DST End Depth (MD) (m)  \\\n0  100010107020W500                    1410.6                  1423.4   \n1  100010608109W500                    1686.0                  1694.0   \n2  100010904012W500                    3698.0                  3718.0   \n3  100011206021W400                     822.0                   825.0   \n4  100011506915W500                    1801.0                  1818.0   \n\n   DST Bottom Hole Temp. (degC)  DST Test Date Test Type DST Misrun  \\\n0                         48.33          26025       DST          N   \n1                         34.26          33647       DST          N   \n2                        104.40          30798       LRT          N   \n3                         29.00          29543       DST          N   \n4                         64.00          30760       DST          N   \n\n   DST Number Formation DSTd  Unnamed: 9  ...  diff_depth_abs  \\\n0           2      TRmontney         NaN  ...             4.0   \n1           1        Dmuskeg         NaN  ...             4.4   \n2           1        Melkton         NaN  ...             NaN   \n3           4      Dwintrbrn         NaN  ...             8.1   \n4           4       Dwabamun         NaN  ...             3.6   \n\n  True Temperature (oC)  TrueTemp_datasource_syn  Well_ID  Depth (ft)  \\\n0                 60.97                synthetic      NaN         NaN   \n1                 63.98                synthetic      NaN         NaN   \n2                   NaN                synthetic      NaN         NaN   \n3                 39.07                synthetic      NaN         NaN   \n4                 69.47                synthetic      NaN         NaN   \n\n  Temp (degC) Field  TrueTemp_datasource_stat  TempC_Fin TrueTemp_datasource  \n0         NaN   NaN                       NaN      60.97           synthetic  \n1         NaN   NaN                       NaN      63.98           synthetic  \n2         NaN   NaN                       NaN        NaN           synthetic  \n3         NaN   NaN                       NaN      39.07           synthetic  \n4         NaN   NaN                       NaN      69.47           synthetic  \n\n[5 rows x 23 columns]",
      "text/html": "<div>\n<style scoped>\n    .dataframe tbody tr th:only-of-type {\n        vertical-align: middle;\n    }\n\n    .dataframe tbody tr th {\n        vertical-align: top;\n    }\n\n    .dataframe thead th {\n        text-align: right;\n    }\n</style>\n<table border=\"1\" class=\"dataframe\">\n  <thead>\n    <tr style=\"text-align: right;\">\n      <th></th>\n      <th>Well ID</th>\n      <th>DST Start Depth (MD) (m)</th>\n      <th>DST End Depth (MD) (m)</th>\n      <th>DST Bottom Hole Temp. (degC)</th>\n      <th>DST Test Date</th>\n      <th>Test Type</th>\n      <th>DST Misrun</th>\n      <th>DST Number</th>\n      <th>Formation DSTd</th>\n      <th>Unnamed: 9</th>\n      <th>...</th>\n      <th>diff_depth_abs</th>\n      <th>True Temperature (oC)</th>\n      <th>TrueTemp_datasource_syn</th>\n      <th>Well_ID</th>\n      <th>Depth (ft)</th>\n      <th>Temp (degC)</th>\n      <th>Field</th>\n      <th>TrueTemp_datasource_stat</th>\n      <th>TempC_Fin</th>\n      <th>TrueTemp_datasource</th>\n    </tr>\n  </thead>\n  <tbody>\n    <tr>\n      <th>0</th>\n      <td>100010107020W500</td>\n      <td>1410.6</td>\n      <td>1423.4</td>\n      <td>48.33</td>\n      <td>26025</td>\n      <td>DST</td>\n      <td>N</td>\n      <td>2</td>\n      <td>TRmontney</td>\n      <td>NaN</td>\n      <td>...</td>\n      <td>4.0</td>\n      <td>60.97</td>\n      <td>synthetic</td>\n      <td>NaN</td>\n      <td>NaN</td>\n      <td>NaN</td>\n      <td>NaN</td>\n      <td>NaN</td>\n      <td>60.97</td>\n      <td>synthetic</td>\n    </tr>\n    <tr>\n      <th>1</th>\n      <td>100010608109W500</td>\n      <td>1686.0</td>\n      <td>1694.0</td>\n      <td>34.26</td>\n      <td>33647</td>\n      <td>DST</td>\n      <td>N</td>\n      <td>1</td>\n      <td>Dmuskeg</td>\n      <td>NaN</td>\n      <td>...</td>\n      <td>4.4</td>\n      <td>63.98</td>\n      <td>synthetic</td>\n      <td>NaN</td>\n      <td>NaN</td>\n      <td>NaN</td>\n      <td>NaN</td>\n      <td>NaN</td>\n      <td>63.98</td>\n      <td>synthetic</td>\n    </tr>\n    <tr>\n      <th>2</th>\n      <td>100010904012W500</td>\n      <td>3698.0</td>\n      <td>3718.0</td>\n      <td>104.40</td>\n      <td>30798</td>\n      <td>LRT</td>\n      <td>N</td>\n      <td>1</td>\n      <td>Melkton</td>\n      <td>NaN</td>\n      <td>...</td>\n      <td>NaN</td>\n      <td>NaN</td>\n      <td>synthetic</td>\n      <td>NaN</td>\n      <td>NaN</td>\n      <td>NaN</td>\n      <td>NaN</td>\n      <td>NaN</td>\n      <td>NaN</td>\n      <td>synthetic</td>\n    </tr>\n    <tr>\n      <th>3</th>\n      <td>100011206021W400</td>\n      <td>822.0</td>\n      <td>825.0</td>\n      <td>29.00</td>\n      <td>29543</td>\n      <td>DST</td>\n      <td>N</td>\n      <td>4</td>\n      <td>Dwintrbrn</td>\n      <td>NaN</td>\n      <td>...</td>\n      <td>8.1</td>\n      <td>39.07</td>\n      <td>synthetic</td>\n      <td>NaN</td>\n      <td>NaN</td>\n      <td>NaN</td>\n      <td>NaN</td>\n      <td>NaN</td>\n      <td>39.07</td>\n      <td>synthetic</td>\n    </tr>\n    <tr>\n      <th>4</th>\n      <td>100011506915W500</td>\n      <td>1801.0</td>\n      <td>1818.0</td>\n      <td>64.00</td>\n      <td>30760</td>\n      <td>DST</td>\n      <td>N</td>\n      <td>4</td>\n      <td>Dwabamun</td>\n      <td>NaN</td>\n      <td>...</td>\n      <td>3.6</td>\n      <td>69.47</td>\n      <td>synthetic</td>\n      <td>NaN</td>\n      <td>NaN</td>\n      <td>NaN</td>\n      <td>NaN</td>\n      <td>NaN</td>\n      <td>69.47</td>\n      <td>synthetic</td>\n    </tr>\n  </tbody>\n</table>\n<p>5 rows × 23 columns</p>\n</div>"
     },
     "execution_count": 22,
     "metadata": {},
     "output_type": "execute_result"
    }
   ],
   "source": [
    "# Coalesce columns together with priority for true temperature measurements\n",
    "Duvernay_Combined_stat['TempC_Fin'] = Duvernay_Combined_stat['Temp (degC)'].fillna(Duvernay_Combined_stat['True Temperature (oC)'])\n",
    "Duvernay_Combined_stat['TrueTemp_datasource'] = Duvernay_Combined_stat['TrueTemp_datasource_stat'].fillna(Duvernay_Combined_stat['TrueTemp_datasource_syn'])\n",
    "\n",
    "Duvernay_Combined_stat.head()"
   ]
  },
  {
   "cell_type": "markdown",
   "metadata": {},
   "source": [
    "## 3.3 Plot the temp data"
   ]
  },
  {
   "cell_type": "code",
   "execution_count": 23,
   "metadata": {
    "pycharm": {
     "name": "#%%\n"
    }
   },
   "outputs": [
    {
     "data": {
      "text/plain": "<matplotlib.legend.Legend at 0x1fbb5e03208>"
     },
     "execution_count": 23,
     "metadata": {},
     "output_type": "execute_result"
    },
    {
     "data": {
      "text/plain": "<Figure size 288x288 with 1 Axes>",
      "image/png": "[encoded data removed]"
     },
     "metadata": {
      "needs_background": "light"
     },
     "output_type": "display_data"
    }
   ],
   "source": [
    "import matplotlib.pyplot as plt\n",
    "plt.close('all')\n",
    "fig, ax = plt.subplots(1, 1, figsize=(4,4))\n",
    "\n",
    "sns.scatterplot(data=Duvernay_Combined_stat, \n",
    "                x=\"DST Bottom Hole Temp. (degC)\",\n",
    "                y=\"TempC_Fin\",\n",
    "                hue='diff_depth_abs', ax=ax)\n",
    "\n",
    "#ax.set_xlim([30, 220])\n",
    "#ax.set_ylim([30, 220])\n",
    "ax.plot([0, 220], [0, 220])\n",
    "plt.legend(bbox_to_anchor=(1.04,1), loc=\"upper left\")"
   ]
  },
  {
   "cell_type": "markdown",
   "metadata": {},
   "source": [
    "# 4 Combine Eaglebine and Duvernay temperature datasets"
   ]
  },
  {
   "cell_type": "code",
   "execution_count": 24,
   "metadata": {
    "pycharm": {
     "name": "#%%\n"
    }
   },
   "outputs": [
    {
     "data": {
      "text/plain": "                UWI     BHT  TrueTemp  Depth_SS(m)     Field  TD (ft)\n0  100010107020W500   48.33     60.97        716.0  Duvernay      NaN\n1  100010608109W500   34.26     63.98       1044.4  Duvernay      NaN\n2  100010904012W500  104.40       NaN       2424.2  Duvernay      NaN\n3  100011206021W400   29.00     39.07        171.9  Duvernay      NaN\n4  100011506915W500   64.00     69.47        936.4  Duvernay      NaN",
      "text/html": "<div>\n<style scoped>\n    .dataframe tbody tr th:only-of-type {\n        vertical-align: middle;\n    }\n\n    .dataframe tbody tr th {\n        vertical-align: top;\n    }\n\n    .dataframe thead th {\n        text-align: right;\n    }\n</style>\n<table border=\"1\" class=\"dataframe\">\n  <thead>\n    <tr style=\"text-align: right;\">\n      <th></th>\n      <th>UWI</th>\n      <th>BHT</th>\n      <th>TrueTemp</th>\n      <th>Depth_SS(m)</th>\n      <th>Field</th>\n      <th>TD (ft)</th>\n    </tr>\n  </thead>\n  <tbody>\n    <tr>\n      <th>0</th>\n      <td>100010107020W500</td>\n      <td>48.33</td>\n      <td>60.97</td>\n      <td>716.0</td>\n      <td>Duvernay</td>\n      <td>NaN</td>\n    </tr>\n    <tr>\n      <th>1</th>\n      <td>100010608109W500</td>\n      <td>34.26</td>\n      <td>63.98</td>\n      <td>1044.4</td>\n      <td>Duvernay</td>\n      <td>NaN</td>\n    </tr>\n    <tr>\n      <th>2</th>\n      <td>100010904012W500</td>\n      <td>104.40</td>\n      <td>NaN</td>\n      <td>2424.2</td>\n      <td>Duvernay</td>\n      <td>NaN</td>\n    </tr>\n    <tr>\n      <th>3</th>\n      <td>100011206021W400</td>\n      <td>29.00</td>\n      <td>39.07</td>\n      <td>171.9</td>\n      <td>Duvernay</td>\n      <td>NaN</td>\n    </tr>\n    <tr>\n      <th>4</th>\n      <td>100011506915W500</td>\n      <td>64.00</td>\n      <td>69.47</td>\n      <td>936.4</td>\n      <td>Duvernay</td>\n      <td>NaN</td>\n    </tr>\n  </tbody>\n</table>\n</div>"
     },
     "execution_count": 24,
     "metadata": {},
     "output_type": "execute_result"
    }
   ],
   "source": [
    "Duvernay = Duvernay_Combined_stat[['UWI', 'DST Bottom Hole Temp. (degC)', 'TempC_Fin','Depth_SS(m)']]\n",
    "Duvernay = Duvernay.rename(columns={'DST Bottom Hole Temp. (degC)': 'BHT', 'TempC_Fin': 'TrueTemp'})\n",
    "Duvernay['Field'] = 'Duvernay'\n",
    "\n",
    "Eaglebine = Eaglebine_Combined_stat[['UWI', 'TempC_BHT', 'TempC_Fin', 'TD (ft)']]\n",
    "Eaglebine = Eaglebine.rename(columns={'TempC_BHT': 'BHT', 'TempC_Fin': 'TrueTemp'})\n",
    "Eaglebine['Field'] = 'Eaglebine'\n",
    "\n",
    "combined_temperature = pd.concat((Duvernay, Eaglebine))\n",
    "combined_temperature.head()"
   ]
  },
  {
   "cell_type": "code",
   "execution_count": 25,
   "metadata": {
    "pycharm": {
     "name": "#%%\n"
    }
   },
   "outputs": [],
   "source": [
    "# save this structured data to file\n",
    "! mkdir StructuredData\n",
    "combined_temperature.to_csv('StructuredData/combined_temperature.csv')"
   ]
  },
  {
   "cell_type": "code",
   "execution_count": 26,
   "metadata": {
    "pycharm": {
     "name": "#%%\n"
    }
   },
   "outputs": [
    {
     "data": {
      "text/plain": "<matplotlib.legend.Legend at 0x1fbb4f4e4c8>"
     },
     "execution_count": 26,
     "metadata": {},
     "output_type": "execute_result"
    },
    {
     "data": {
      "text/plain": "<Figure size 288x288 with 1 Axes>",
      "image/png": "[encoded data removed]"
     },
     "metadata": {
      "needs_background": "light"
     },
     "output_type": "display_data"
    }
   ],
   "source": [
    "plt.close('all')\n",
    "fig, ax = plt.subplots(1, 1, figsize=(4,4))\n",
    "\n",
    "sns.scatterplot(data=combined_temperature, \n",
    "                x=\"BHT\",\n",
    "                y=\"TrueTemp\",\n",
    "                hue='Field', ax=ax)\n",
    "\n",
    "ax.plot([0, 220], [0, 220])\n",
    "plt.legend(bbox_to_anchor=(1.04,1), loc=\"upper left\")"
   ]
  },
  {
   "cell_type": "markdown",
   "metadata": {
    "pycharm": {
     "name": "#%% md\n"
    }
   },
   "source": [
    "## 4.1 TVD Vs Temperatures (Eaglebine & Duvernay Basins)"
   ]
  },
  {
   "cell_type": "code",
   "execution_count": 27,
   "metadata": {
    "pycharm": {
     "name": "#%%\n"
    }
   },
   "outputs": [
    {
     "data": {
      "text/plain": "<Figure size 432x288 with 1 Axes>",
      "image/png": "[encoded data removed]"
     },
     "metadata": {
      "needs_background": "light"
     },
     "output_type": "display_data"
    }
   ],
   "source": [
    "fig, ax1 = plt.subplots(sharex=True)\n",
    "combined_temperature.plot.scatter(x='TrueTemp', y='TD (ft)', c='green', ax=ax1, label='True Temp')\n",
    "combined_temperature.plot.scatter(x='BHT', y='TD (ft)', c='red', ax=ax1, label='BHT')\n",
    "ax1.invert_yaxis()\n",
    "ax1.set_xlabel('TVD (m)')\n",
    "ax1.set_ylabel('Temperature (oC')\n",
    "ax1.set_title('TVD Vs Temperatures (Eaglebine)')\n",
    "plt.legend(bbox_to_anchor=(1.04,1), loc=\"upper left\")\n",
    "plt.show()"
   ]
  },
  {
   "cell_type": "code",
   "execution_count": 28,
   "metadata": {
    "pycharm": {
     "name": "#%%\n"
    }
   },
   "outputs": [
    {
     "data": {
      "text/plain": "<Figure size 432x288 with 1 Axes>",
      "image/png": "[encoded data removed]"
     },
     "metadata": {
      "needs_background": "light"
     },
     "output_type": "display_data"
    }
   ],
   "source": [
    "fig, ax2 = plt.subplots(sharex=True)\n",
    "combined_temperature.plot.scatter(x='TrueTemp', y='Depth_SS(m)', c='green', ax=ax2, label='True Temp')\n",
    "combined_temperature.plot.scatter(x='BHT', y='Depth_SS(m)', c='red', ax=ax2, label='BHT')\n",
    "ax2.invert_yaxis()\n",
    "ax2.set_xlabel('TVD (m)')\n",
    "ax2.set_ylabel('Temperature (oC)')\n",
    "ax2.set_title('TVD Vs Temperatures (Duvernay)')\n",
    "plt.legend(bbox_to_anchor=(1.04,1), loc=\"upper left\")\n",
    "plt.show()\n",
    "\n"
   ]
  }
 ],
 "metadata": {
  "colab": {
   "collapsed_sections": [
    "LS5TPpRK9AoT",
    "ENgcMvT6qb_o",
    "y5R_E9uB2CFX",
    "nAtJe98BGeYc",
    "mfhvIUXBcW35",
    "ZyUG_vUzm-wD",
    "k9VXbU7wg8ct",
    "9WF_Xm7Wx7oB",
    "NvWZiLDI0QLp"
   ],
   "name": "Data_wrangling_GtX.ipynb",
   "provenance": [
    {
     "file_id": "1Vh47l_RW1isTF2k2fVwPVkv6qpMQuZZj",
     "timestamp": 1621968204220
    },
    {
     "file_id": "16jxnndyTAv0cNtOHwnucUUmEUvGEqQlY",
     "timestamp": 1621804701066
    }
   ],
   "toc_visible": true
  },
  "kernelspec": {
   "display_name": "Python 3",
   "language": "python",
   "name": "python3"
  },
  "language_info": {
   "codemirror_mode": {
    "name": "ipython",
    "version": 3
   },
   "file_extension": ".py",
   "mimetype": "text/x-python",
   "name": "python",
   "nbconvert_exporter": "python",
   "pygments_lexer": "ipython3",
   "version": "3.8.5"
  },
  "widgets": {
   "application/vnd.jupyter.widget-state+json": {
    "12c7d3bfd458455f9fa8454ddbe5b83c": {
     "model_module": "@jupyter-widgets/base",
     "model_name": "LayoutModel",
     "state": {
      "_model_module": "@jupyter-widgets/base",
      "_model_module_version": "1.2.0",
      "_model_name": "LayoutModel",
      "_view_count": null,
      "_view_module": "@jupyter-widgets/base",
      "_view_module_version": "1.2.0",
      "_view_name": "LayoutView",
      "align_content": null,
      "align_items": null,
      "align_self": null,
      "border": null,
      "bottom": null,
      "display": null,
      "flex": null,
      "flex_flow": null,
      "grid_area": null,
      "grid_auto_columns": null,
      "grid_auto_flow": null,
      "grid_auto_rows": null,
      "grid_column": null,
      "grid_gap": null,
      "grid_row": null,
      "grid_template_areas": null,
      "grid_template_columns": null,
      "grid_template_rows": null,
      "height": null,
      "justify_content": null,
      "justify_items": null,
      "left": null,
      "margin": null,
      "max_height": null,
      "max_width": null,
      "min_height": null,
      "min_width": null,
      "object_fit": null,
      "object_position": null,
      "order": null,
      "overflow": null,
      "overflow_x": null,
      "overflow_y": null,
      "padding": null,
      "right": null,
      "top": null,
      "visibility": null,
      "width": null
     }
    },
    "14cba00d333346fe94dcf119be3c4898": {
     "model_module": "@jupyter-widgets/controls",
     "model_name": "FloatProgressModel",
     "state": {
      "_dom_classes": [],
      "_model_module": "@jupyter-widgets/controls",
      "_model_module_version": "1.5.0",
      "_model_name": "FloatProgressModel",
      "_view_count": null,
      "_view_module": "@jupyter-widgets/controls",
      "_view_module_version": "1.5.0",
      "_view_name": "ProgressView",
      "bar_style": "success",
      "description": "100%",
      "description_tooltip": null,
      "layout": "IPY_MODEL_1955b33c7d2f4d798a07ee1b8583dbb8",
      "max": 1498,
      "min": 0,
      "orientation": "horizontal",
      "style": "IPY_MODEL_2d69470b3fa247af83867402368a9ed9",
      "value": 1498
     }
    },
    "1955b33c7d2f4d798a07ee1b8583dbb8": {
     "model_module": "@jupyter-widgets/base",
     "model_name": "LayoutModel",
     "state": {
      "_model_module": "@jupyter-widgets/base",
      "_model_module_version": "1.2.0",
      "_model_name": "LayoutModel",
      "_view_count": null,
      "_view_module": "@jupyter-widgets/base",
      "_view_module_version": "1.2.0",
      "_view_name": "LayoutView",
      "align_content": null,
      "align_items": null,
      "align_self": null,
      "border": null,
      "bottom": null,
      "display": null,
      "flex": null,
      "flex_flow": null,
      "grid_area": null,
      "grid_auto_columns": null,
      "grid_auto_flow": null,
      "grid_auto_rows": null,
      "grid_column": null,
      "grid_gap": null,
      "grid_row": null,
      "grid_template_areas": null,
      "grid_template_columns": null,
      "grid_template_rows": null,
      "height": null,
      "justify_content": null,
      "justify_items": null,
      "left": null,
      "margin": null,
      "max_height": null,
      "max_width": null,
      "min_height": null,
      "min_width": null,
      "object_fit": null,
      "object_position": null,
      "order": null,
      "overflow": null,
      "overflow_x": null,
      "overflow_y": null,
      "padding": null,
      "right": null,
      "top": null,
      "visibility": null,
      "width": null
     }
    },
    "2d69470b3fa247af83867402368a9ed9": {
     "model_module": "@jupyter-widgets/controls",
     "model_name": "ProgressStyleModel",
     "state": {
      "_model_module": "@jupyter-widgets/controls",
      "_model_module_version": "1.5.0",
      "_model_name": "ProgressStyleModel",
      "_view_count": null,
      "_view_module": "@jupyter-widgets/base",
      "_view_module_version": "1.2.0",
      "_view_name": "StyleView",
      "bar_color": null,
      "description_width": "initial"
     }
    },
    "3c23669739844d2190e63f6db27ab9c5": {
     "model_module": "@jupyter-widgets/controls",
     "model_name": "HBoxModel",
     "state": {
      "_dom_classes": [],
      "_model_module": "@jupyter-widgets/controls",
      "_model_module_version": "1.5.0",
      "_model_name": "HBoxModel",
      "_view_count": null,
      "_view_module": "@jupyter-widgets/controls",
      "_view_module_version": "1.5.0",
      "_view_name": "HBoxView",
      "box_style": "",
      "children": [
       "IPY_MODEL_625210fdd64248c7bad33ab4588e4047",
       "IPY_MODEL_d6f2ded031c84febad719ebd5e1e4d3e"
      ],
      "layout": "IPY_MODEL_6d7ea52ae1dd44e7910ab0231705fa4f"
     }
    },
    "427e8905841a437ab8b6dcf8f84047d3": {
     "model_module": "@jupyter-widgets/base",
     "model_name": "LayoutModel",
     "state": {
      "_model_module": "@jupyter-widgets/base",
      "_model_module_version": "1.2.0",
      "_model_name": "LayoutModel",
      "_view_count": null,
      "_view_module": "@jupyter-widgets/base",
      "_view_module_version": "1.2.0",
      "_view_name": "LayoutView",
      "align_content": null,
      "align_items": null,
      "align_self": null,
      "border": null,
      "bottom": null,
      "display": null,
      "flex": null,
      "flex_flow": null,
      "grid_area": null,
      "grid_auto_columns": null,
      "grid_auto_flow": null,
      "grid_auto_rows": null,
      "grid_column": null,
      "grid_gap": null,
      "grid_row": null,
      "grid_template_areas": null,
      "grid_template_columns": null,
      "grid_template_rows": null,
      "height": null,
      "justify_content": null,
      "justify_items": null,
      "left": null,
      "margin": null,
      "max_height": null,
      "max_width": null,
      "min_height": null,
      "min_width": null,
      "object_fit": null,
      "object_position": null,
      "order": null,
      "overflow": null,
      "overflow_x": null,
      "overflow_y": null,
      "padding": null,
      "right": null,
      "top": null,
      "visibility": null,
      "width": null
     }
    },
    "45e743a8b5dd417abf1f75a93e9b071e": {
     "model_module": "@jupyter-widgets/controls",
     "model_name": "DescriptionStyleModel",
     "state": {
      "_model_module": "@jupyter-widgets/controls",
      "_model_module_version": "1.5.0",
      "_model_name": "DescriptionStyleModel",
      "_view_count": null,
      "_view_module": "@jupyter-widgets/base",
      "_view_module_version": "1.2.0",
      "_view_name": "StyleView",
      "description_width": ""
     }
    },
    "4e0da4a319774688b72626a7318b8c4a": {
     "model_module": "@jupyter-widgets/base",
     "model_name": "LayoutModel",
     "state": {
      "_model_module": "@jupyter-widgets/base",
      "_model_module_version": "1.2.0",
      "_model_name": "LayoutModel",
      "_view_count": null,
      "_view_module": "@jupyter-widgets/base",
      "_view_module_version": "1.2.0",
      "_view_name": "LayoutView",
      "align_content": null,
      "align_items": null,
      "align_self": null,
      "border": null,
      "bottom": null,
      "display": null,
      "flex": null,
      "flex_flow": null,
      "grid_area": null,
      "grid_auto_columns": null,
      "grid_auto_flow": null,
      "grid_auto_rows": null,
      "grid_column": null,
      "grid_gap": null,
      "grid_row": null,
      "grid_template_areas": null,
      "grid_template_columns": null,
      "grid_template_rows": null,
      "height": null,
      "justify_content": null,
      "justify_items": null,
      "left": null,
      "margin": null,
      "max_height": null,
      "max_width": null,
      "min_height": null,
      "min_width": null,
      "object_fit": null,
      "object_position": null,
      "order": null,
      "overflow": null,
      "overflow_x": null,
      "overflow_y": null,
      "padding": null,
      "right": null,
      "top": null,
      "visibility": null,
      "width": null
     }
    },
    "55b155cb52b748dcb016775fcbe6f71c": {
     "model_module": "@jupyter-widgets/base",
     "model_name": "LayoutModel",
     "state": {
      "_model_module": "@jupyter-widgets/base",
      "_model_module_version": "1.2.0",
      "_model_name": "LayoutModel",
      "_view_count": null,
      "_view_module": "@jupyter-widgets/base",
      "_view_module_version": "1.2.0",
      "_view_name": "LayoutView",
      "align_content": null,
      "align_items": null,
      "align_self": null,
      "border": null,
      "bottom": null,
      "display": null,
      "flex": null,
      "flex_flow": null,
      "grid_area": null,
      "grid_auto_columns": null,
      "grid_auto_flow": null,
      "grid_auto_rows": null,
      "grid_column": null,
      "grid_gap": null,
      "grid_row": null,
      "grid_template_areas": null,
      "grid_template_columns": null,
      "grid_template_rows": null,
      "height": null,
      "justify_content": null,
      "justify_items": null,
      "left": null,
      "margin": null,
      "max_height": null,
      "max_width": null,
      "min_height": null,
      "min_width": null,
      "object_fit": null,
      "object_position": null,
      "order": null,
      "overflow": null,
      "overflow_x": null,
      "overflow_y": null,
      "padding": null,
      "right": null,
      "top": null,
      "visibility": null,
      "width": null
     }
    },
    "625210fdd64248c7bad33ab4588e4047": {
     "model_module": "@jupyter-widgets/controls",
     "model_name": "FloatProgressModel",
     "state": {
      "_dom_classes": [],
      "_model_module": "@jupyter-widgets/controls",
      "_model_module_version": "1.5.0",
      "_model_name": "FloatProgressModel",
      "_view_count": null,
      "_view_module": "@jupyter-widgets/controls",
      "_view_module_version": "1.5.0",
      "_view_name": "ProgressView",
      "bar_style": "success",
      "description": "100%",
      "description_tooltip": null,
      "layout": "IPY_MODEL_4e0da4a319774688b72626a7318b8c4a",
      "max": 1498,
      "min": 0,
      "orientation": "horizontal",
      "style": "IPY_MODEL_8053532c688445c1bf8d60f6550a6b68",
      "value": 1498
     }
    },
    "6d7ea52ae1dd44e7910ab0231705fa4f": {
     "model_module": "@jupyter-widgets/base",
     "model_name": "LayoutModel",
     "state": {
      "_model_module": "@jupyter-widgets/base",
      "_model_module_version": "1.2.0",
      "_model_name": "LayoutModel",
      "_view_count": null,
      "_view_module": "@jupyter-widgets/base",
      "_view_module_version": "1.2.0",
      "_view_name": "LayoutView",
      "align_content": null,
      "align_items": null,
      "align_self": null,
      "border": null,
      "bottom": null,
      "display": null,
      "flex": null,
      "flex_flow": null,
      "grid_area": null,
      "grid_auto_columns": null,
      "grid_auto_flow": null,
      "grid_auto_rows": null,
      "grid_column": null,
      "grid_gap": null,
      "grid_row": null,
      "grid_template_areas": null,
      "grid_template_columns": null,
      "grid_template_rows": null,
      "height": null,
      "justify_content": null,
      "justify_items": null,
      "left": null,
      "margin": null,
      "max_height": null,
      "max_width": null,
      "min_height": null,
      "min_width": null,
      "object_fit": null,
      "object_position": null,
      "order": null,
      "overflow": null,
      "overflow_x": null,
      "overflow_y": null,
      "padding": null,
      "right": null,
      "top": null,
      "visibility": null,
      "width": null
     }
    },
    "7454fb5dc1af4716b4ef21db1b942fa5": {
     "model_module": "@jupyter-widgets/base",
     "model_name": "LayoutModel",
     "state": {
      "_model_module": "@jupyter-widgets/base",
      "_model_module_version": "1.2.0",
      "_model_name": "LayoutModel",
      "_view_count": null,
      "_view_module": "@jupyter-widgets/base",
      "_view_module_version": "1.2.0",
      "_view_name": "LayoutView",
      "align_content": null,
      "align_items": null,
      "align_self": null,
      "border": null,
      "bottom": null,
      "display": null,
      "flex": null,
      "flex_flow": null,
      "grid_area": null,
      "grid_auto_columns": null,
      "grid_auto_flow": null,
      "grid_auto_rows": null,
      "grid_column": null,
      "grid_gap": null,
      "grid_row": null,
      "grid_template_areas": null,
      "grid_template_columns": null,
      "grid_template_rows": null,
      "height": null,
      "justify_content": null,
      "justify_items": null,
      "left": null,
      "margin": null,
      "max_height": null,
      "max_width": null,
      "min_height": null,
      "min_width": null,
      "object_fit": null,
      "object_position": null,
      "order": null,
      "overflow": null,
      "overflow_x": null,
      "overflow_y": null,
      "padding": null,
      "right": null,
      "top": null,
      "visibility": null,
      "width": null
     }
    },
    "8053532c688445c1bf8d60f6550a6b68": {
     "model_module": "@jupyter-widgets/controls",
     "model_name": "ProgressStyleModel",
     "state": {
      "_model_module": "@jupyter-widgets/controls",
      "_model_module_version": "1.5.0",
      "_model_name": "ProgressStyleModel",
      "_view_count": null,
      "_view_module": "@jupyter-widgets/base",
      "_view_module_version": "1.2.0",
      "_view_name": "StyleView",
      "bar_color": null,
      "description_width": "initial"
     }
    },
    "8333f747b5354e208fe42f9e163f77a5": {
     "model_module": "@jupyter-widgets/controls",
     "model_name": "DescriptionStyleModel",
     "state": {
      "_model_module": "@jupyter-widgets/controls",
      "_model_module_version": "1.5.0",
      "_model_name": "DescriptionStyleModel",
      "_view_count": null,
      "_view_module": "@jupyter-widgets/base",
      "_view_module_version": "1.2.0",
      "_view_name": "StyleView",
      "description_width": ""
     }
    },
    "8a093dd8cd4f40b4b949c210782f27fd": {
     "model_module": "@jupyter-widgets/controls",
     "model_name": "HTMLModel",
     "state": {
      "_dom_classes": [],
      "_model_module": "@jupyter-widgets/controls",
      "_model_module_version": "1.5.0",
      "_model_name": "HTMLModel",
      "_view_count": null,
      "_view_module": "@jupyter-widgets/controls",
      "_view_module_version": "1.5.0",
      "_view_name": "HTMLView",
      "description": "",
      "description_tooltip": null,
      "layout": "IPY_MODEL_12c7d3bfd458455f9fa8454ddbe5b83c",
      "placeholder": "​",
      "style": "IPY_MODEL_dd664ffa3d934751a777dd59491d9580",
      "value": " 1498/1498 [00:01&lt;00:00, 925.72it/s]"
     }
    },
    "900c06a57346475d95d96f982f3a455f": {
     "model_module": "@jupyter-widgets/base",
     "model_name": "LayoutModel",
     "state": {
      "_model_module": "@jupyter-widgets/base",
      "_model_module_version": "1.2.0",
      "_model_name": "LayoutModel",
      "_view_count": null,
      "_view_module": "@jupyter-widgets/base",
      "_view_module_version": "1.2.0",
      "_view_name": "LayoutView",
      "align_content": null,
      "align_items": null,
      "align_self": null,
      "border": null,
      "bottom": null,
      "display": null,
      "flex": null,
      "flex_flow": null,
      "grid_area": null,
      "grid_auto_columns": null,
      "grid_auto_flow": null,
      "grid_auto_rows": null,
      "grid_column": null,
      "grid_gap": null,
      "grid_row": null,
      "grid_template_areas": null,
      "grid_template_columns": null,
      "grid_template_rows": null,
      "height": null,
      "justify_content": null,
      "justify_items": null,
      "left": null,
      "margin": null,
      "max_height": null,
      "max_width": null,
      "min_height": null,
      "min_width": null,
      "object_fit": null,
      "object_position": null,
      "order": null,
      "overflow": null,
      "overflow_x": null,
      "overflow_y": null,
      "padding": null,
      "right": null,
      "top": null,
      "visibility": null,
      "width": null
     }
    },
    "a40bf4547ef2438e9c5cb50c5e8276f1": {
     "model_module": "@jupyter-widgets/controls",
     "model_name": "HBoxModel",
     "state": {
      "_dom_classes": [],
      "_model_module": "@jupyter-widgets/controls",
      "_model_module_version": "1.5.0",
      "_model_name": "HBoxModel",
      "_view_count": null,
      "_view_module": "@jupyter-widgets/controls",
      "_view_module_version": "1.5.0",
      "_view_name": "HBoxView",
      "box_style": "",
      "children": [
       "IPY_MODEL_fbccb4c389614756a6c2761c1e9d8815",
       "IPY_MODEL_8a093dd8cd4f40b4b949c210782f27fd"
      ],
      "layout": "IPY_MODEL_7454fb5dc1af4716b4ef21db1b942fa5"
     }
    },
    "cbf6c4c636594c4fb5d168238b9e53ab": {
     "model_module": "@jupyter-widgets/controls",
     "model_name": "ProgressStyleModel",
     "state": {
      "_model_module": "@jupyter-widgets/controls",
      "_model_module_version": "1.5.0",
      "_model_name": "ProgressStyleModel",
      "_view_count": null,
      "_view_module": "@jupyter-widgets/base",
      "_view_module_version": "1.2.0",
      "_view_name": "StyleView",
      "bar_color": null,
      "description_width": "initial"
     }
    },
    "d02b433014bd4c4bad46e5e77cd374e1": {
     "model_module": "@jupyter-widgets/controls",
     "model_name": "HBoxModel",
     "state": {
      "_dom_classes": [],
      "_model_module": "@jupyter-widgets/controls",
      "_model_module_version": "1.5.0",
      "_model_name": "HBoxModel",
      "_view_count": null,
      "_view_module": "@jupyter-widgets/controls",
      "_view_module_version": "1.5.0",
      "_view_name": "HBoxView",
      "box_style": "",
      "children": [
       "IPY_MODEL_14cba00d333346fe94dcf119be3c4898",
       "IPY_MODEL_d2e60a6d7f3547458874d872008c1265"
      ],
      "layout": "IPY_MODEL_427e8905841a437ab8b6dcf8f84047d3"
     }
    },
    "d2e60a6d7f3547458874d872008c1265": {
     "model_module": "@jupyter-widgets/controls",
     "model_name": "HTMLModel",
     "state": {
      "_dom_classes": [],
      "_model_module": "@jupyter-widgets/controls",
      "_model_module_version": "1.5.0",
      "_model_name": "HTMLModel",
      "_view_count": null,
      "_view_module": "@jupyter-widgets/controls",
      "_view_module_version": "1.5.0",
      "_view_name": "HTMLView",
      "description": "",
      "description_tooltip": null,
      "layout": "IPY_MODEL_900c06a57346475d95d96f982f3a455f",
      "placeholder": "​",
      "style": "IPY_MODEL_8333f747b5354e208fe42f9e163f77a5",
      "value": " 1498/1498 [00:51&lt;00:00, 29.14it/s]"
     }
    },
    "d6f2ded031c84febad719ebd5e1e4d3e": {
     "model_module": "@jupyter-widgets/controls",
     "model_name": "HTMLModel",
     "state": {
      "_dom_classes": [],
      "_model_module": "@jupyter-widgets/controls",
      "_model_module_version": "1.5.0",
      "_model_name": "HTMLModel",
      "_view_count": null,
      "_view_module": "@jupyter-widgets/controls",
      "_view_module_version": "1.5.0",
      "_view_name": "HTMLView",
      "description": "",
      "description_tooltip": null,
      "layout": "IPY_MODEL_e35aaf7ead8442a2a03d51fa9114743f",
      "placeholder": "​",
      "style": "IPY_MODEL_45e743a8b5dd417abf1f75a93e9b071e",
      "value": " 1498/1498 [00:04&lt;00:00, 336.09it/s]"
     }
    },
    "dd664ffa3d934751a777dd59491d9580": {
     "model_module": "@jupyter-widgets/controls",
     "model_name": "DescriptionStyleModel",
     "state": {
      "_model_module": "@jupyter-widgets/controls",
      "_model_module_version": "1.5.0",
      "_model_name": "DescriptionStyleModel",
      "_view_count": null,
      "_view_module": "@jupyter-widgets/base",
      "_view_module_version": "1.2.0",
      "_view_name": "StyleView",
      "description_width": ""
     }
    },
    "e35aaf7ead8442a2a03d51fa9114743f": {
     "model_module": "@jupyter-widgets/base",
     "model_name": "LayoutModel",
     "state": {
      "_model_module": "@jupyter-widgets/base",
      "_model_module_version": "1.2.0",
      "_model_name": "LayoutModel",
      "_view_count": null,
      "_view_module": "@jupyter-widgets/base",
      "_view_module_version": "1.2.0",
      "_view_name": "LayoutView",
      "align_content": null,
      "align_items": null,
      "align_self": null,
      "border": null,
      "bottom": null,
      "display": null,
      "flex": null,
      "flex_flow": null,
      "grid_area": null,
      "grid_auto_columns": null,
      "grid_auto_flow": null,
      "grid_auto_rows": null,
      "grid_column": null,
      "grid_gap": null,
      "grid_row": null,
      "grid_template_areas": null,
      "grid_template_columns": null,
      "grid_template_rows": null,
      "height": null,
      "justify_content": null,
      "justify_items": null,
      "left": null,
      "margin": null,
      "max_height": null,
      "max_width": null,
      "min_height": null,
      "min_width": null,
      "object_fit": null,
      "object_position": null,
      "order": null,
      "overflow": null,
      "overflow_x": null,
      "overflow_y": null,
      "padding": null,
      "right": null,
      "top": null,
      "visibility": null,
      "width": null
     }
    },
    "fbccb4c389614756a6c2761c1e9d8815": {
     "model_module": "@jupyter-widgets/controls",
     "model_name": "FloatProgressModel",
     "state": {
      "_dom_classes": [],
      "_model_module": "@jupyter-widgets/controls",
      "_model_module_version": "1.5.0",
      "_model_name": "FloatProgressModel",
      "_view_count": null,
      "_view_module": "@jupyter-widgets/controls",
      "_view_module_version": "1.5.0",
      "_view_name": "ProgressView",
      "bar_style": "success",
      "description": "100%",
      "description_tooltip": null,
      "layout": "IPY_MODEL_55b155cb52b748dcb016775fcbe6f71c",
      "max": 1498,
      "min": 0,
      "orientation": "horizontal",
      "style": "IPY_MODEL_cbf6c4c636594c4fb5d168238b9e53ab",
      "value": 1498
     }
    }
   }
  }
 },
 "nbformat": 4,
 "nbformat_minor": 1
}