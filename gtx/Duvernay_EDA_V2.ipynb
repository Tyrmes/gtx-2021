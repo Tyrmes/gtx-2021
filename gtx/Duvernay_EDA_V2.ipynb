{
 "cells": [
  {
   "cell_type": "code",
   "execution_count": 1,
   "outputs": [],
   "source": [
    "import numpy as np\n",
    "import pandas as pd\n",
    "import matplotlib.pyplot as plt\n",
    "import geopandas as gpd\n",
    "#import contextily as cx\n",
    "from welly import Well\n",
    "import welly\n",
    "from sqlalchemy import create_engine, MetaData\n",
    "from base import ROOT_DIR\n"
   ],
   "metadata": {
    "collapsed": false,
    "pycharm": {
     "name": "#%% Importing libraries\n"
    }
   }
  },
  {
   "cell_type": "code",
   "execution_count": 2,
   "outputs": [
    {
     "name": "stdout",
     "output_type": "stream",
     "text": [
      "               UWI   Elevation Meters ElevationDatum  TD meters   \\\n",
      "0  100072507623W500             555.7             KB      2545.0   \n",
      "1  100062007823W500             560.9             KB      2430.0   \n",
      "2  100052107723W500             558.4             KB      2515.5   \n",
      "3  100061307518W500             631.4             KB      2411.0   \n",
      "4  100070907618W500             627.0             KB      2408.0   \n",
      "\n",
      "   SurfaceLatitude_NAD83  SurfaceLongitude_NAD83  BottomLatitude_NAD83  \\\n",
      "0              55.613640             -117.423800             55.613640   \n",
      "1              55.770872             -117.537674             55.770872   \n",
      "2              55.683723             -117.516168             55.683723   \n",
      "3              55.494600             -116.653606             55.494600   \n",
      "4              55.566965             -116.726243             55.566965   \n",
      "\n",
      "   BottomLongitude_NAD83  SurfaceLatitude_NAD27  SurfaceLongitude_NAD27  \\\n",
      "0            -117.423800              55.613640             -117.423800   \n",
      "1            -117.537674              55.770872             -117.537674   \n",
      "2            -117.516168              55.683723             -117.516168   \n",
      "3            -116.653606              55.494600             -116.653606   \n",
      "4            -116.726243              55.566965             -116.726243   \n",
      "\n",
      "   BottomLatitude_NAD27  BottomLongitude_NAD27  \n",
      "0             55.613640            -117.423800  \n",
      "1             55.770872            -117.537674  \n",
      "2             55.683723            -117.516168  \n",
      "3             55.494600            -116.653606  \n",
      "4             55.566965            -116.726243  \n"
     ]
    }
   ],
   "source": [
    "file = ROOT_DIR / 'gtx/data/Duvernay/Duvernay/Duvernay well headers SPE April 21 2021 .xlsx'\n",
    "df_well = pd.read_excel(file)\n",
    "print(df_well.head())"
   ],
   "metadata": {
    "collapsed": false,
    "pycharm": {
     "name": "#%% Read data\n"
    }
   }
  },
  {
   "cell_type": "code",
   "execution_count": 3,
   "outputs": [
    {
     "name": "stdout",
     "output_type": "stream",
     "text": [
      "Index(['UWI ', 'Elevation Meters', 'ElevationDatum', 'TD meters ',\n",
      "       'SurfaceLatitude_NAD83', 'SurfaceLongitude_NAD83',\n",
      "       'BottomLatitude_NAD83', 'BottomLongitude_NAD83',\n",
      "       'SurfaceLatitude_NAD27', 'SurfaceLongitude_NAD27',\n",
      "       'BottomLatitude_NAD27', 'BottomLongitude_NAD27'],\n",
      "      dtype='object')\n",
      "               UWI   Elevation Meters  TD meters   SurfaceLongitude_NAD83  \\\n",
      "0  100072507623W500             555.7      2545.0             -117.423800   \n",
      "1  100062007823W500             560.9      2430.0             -117.537674   \n",
      "2  100052107723W500             558.4      2515.5             -117.516168   \n",
      "3  100061307518W500             631.4      2411.0             -116.653606   \n",
      "4  100070907618W500             627.0      2408.0             -116.726243   \n",
      "\n",
      "   SurfaceLatitude_NAD83  \n",
      "0              55.613640  \n",
      "1              55.770872  \n",
      "2              55.683723  \n",
      "3              55.494600  \n",
      "4              55.566965  \n"
     ]
    }
   ],
   "source": [
    "column_names = df_well.columns\n",
    "print(column_names)\n",
    "duvernay_geo = df_well[\n",
    "    ['UWI ', 'Elevation Meters', 'TD meters ', 'SurfaceLongitude_NAD83',\n",
    "     'SurfaceLatitude_NAD83',\n",
    "     ]]\n",
    "print(duvernay_geo.head())"
   ],
   "metadata": {
    "collapsed": false,
    "pycharm": {
     "name": "#%% Subsetting dataframe\n"
    }
   }
  },
  {
   "cell_type": "code",
   "execution_count": 4,
   "outputs": [
    {
     "name": "stdout",
     "output_type": "stream",
     "text": [
      "UWI                       False\n",
      "Elevation Meters          False\n",
      "ElevationDatum            False\n",
      "TD meters                 False\n",
      "SurfaceLatitude_NAD83     False\n",
      "SurfaceLongitude_NAD83    False\n",
      "BottomLatitude_NAD83      False\n",
      "BottomLongitude_NAD83     False\n",
      "SurfaceLatitude_NAD27     False\n",
      "SurfaceLongitude_NAD27    False\n",
      "BottomLatitude_NAD27      False\n",
      "BottomLongitude_NAD27     False\n",
      "dtype: bool\n"
     ]
    }
   ],
   "source": [
    "print(df_well.isna().any())"
   ],
   "metadata": {
    "collapsed": false,
    "pycharm": {
     "name": "#%% verify if there are missing values\n"
    }
   }
  },
  {
   "cell_type": "code",
   "execution_count": 5,
   "outputs": [
    {
     "name": "stdout",
     "output_type": "stream",
     "text": [
      "               UWI   Elevation Meters  TD meters   SurfaceLongitude_NAD83  \\\n",
      "0  100072507623W500             555.7      2545.0             -117.423800   \n",
      "1  100062007823W500             560.9      2430.0             -117.537674   \n",
      "2  100052107723W500             558.4      2515.5             -117.516168   \n",
      "3  100061307518W500             631.4      2411.0             -116.653606   \n",
      "4  100070907618W500             627.0      2408.0             -116.726243   \n",
      "\n",
      "   SurfaceLatitude_NAD83                     geometry  \n",
      "0              55.613640  POINT (-117.42380 55.61364)  \n",
      "1              55.770872  POINT (-117.53767 55.77087)  \n",
      "2              55.683723  POINT (-117.51617 55.68372)  \n",
      "3              55.494600  POINT (-116.65361 55.49460)  \n",
      "4              55.566965  POINT (-116.72624 55.56697)  \n"
     ]
    }
   ],
   "source": [
    "gdf = gpd.GeoDataFrame(\n",
    "    duvernay_geo, crs='epsg:4269', geometry=gpd.points_from_xy\n",
    "    (duvernay_geo.SurfaceLongitude_NAD83, duvernay_geo.SurfaceLatitude_NAD83))\n",
    "\n",
    "print(gdf.head())"
   ],
   "metadata": {
    "collapsed": false,
    "pycharm": {
     "name": "#%% Converting to geopandas dataframe\n"
    }
   }
  },
  {
   "cell_type": "code",
   "execution_count": 6,
   "outputs": [
    {
     "name": "stdout",
     "output_type": "stream",
     "text": [
      "               UWI   Elevation Meters  TD meters   SurfaceLongitude_NAD83  \\\n",
      "0  100072507623W500             555.7      2545.0             -117.423800   \n",
      "1  100062007823W500             560.9      2430.0             -117.537674   \n",
      "2  100052107723W500             558.4      2515.5             -117.516168   \n",
      "3  100061307518W500             631.4      2411.0             -116.653606   \n",
      "4  100070907618W500             627.0      2408.0             -116.726243   \n",
      "\n",
      "   SurfaceLatitude_NAD83                           geometry  \n",
      "0              55.613640  POINT (-13071557.623 7481883.651)  \n",
      "1              55.770872  POINT (-13084234.019 7512937.315)  \n",
      "2              55.683723  POINT (-13081839.982 7495709.772)  \n",
      "3              55.494600  POINT (-12985820.019 7458455.717)  \n",
      "4              55.566965  POINT (-12993905.933 7472689.213)  \n"
     ]
    }
   ],
   "source": [
    "gdf = gdf.to_crs(epsg=3857)\n",
    "print(gdf.head())"
   ],
   "metadata": {
    "collapsed": false,
    "pycharm": {
     "name": "#%%\n"
    }
   }
  },
  {
   "cell_type": "code",
   "execution_count": null,
   "outputs": [],
   "source": [
    "ax = gdf.plot(markersize=7, figsize=(20, 17))\n",
    "cx.add_basemap(ax)\n",
    "plt.title(\"Duvernay well location\", fontsize=15)\n",
    "plt.show()"
   ],
   "metadata": {
    "collapsed": false,
    "pycharm": {
     "name": "#%% Plotting well points\n"
    }
   }
  },
  {
   "cell_type": "code",
   "execution_count": null,
   "outputs": [],
   "source": [
    "file = r'C:\\Users\\karol\\OneDrive\\Documents\\GitHub\\gtx-2021\\gtx\\data\\Duvernay\\Duvernay\\SPE Duvernay production summary April 20 2021.xlsx'\n",
    "prod_dvnay = pd.read_excel(file)\n",
    "print(prod_dvnay.info())"
   ],
   "metadata": {
    "collapsed": false,
    "pycharm": {
     "name": "#%% importing data\n"
    }
   }
  },
  {
   "cell_type": "code",
   "execution_count": null,
   "outputs": [],
   "source": [
    "print(prod_dvnay.columns)\n",
    "prod_dvnay_2 = prod_dvnay[['API   ', 'Completion Date   ', 'Oil Total Cum (bbl)   ',\n",
    "                           'Water Total Cum (bbl)   ', 'Gas Total Cum (mcf)   ',\n",
    "                           'Spud Date   ', 'Last Production Month   ']]\n",
    "print(prod_dvnay_2.info())"
   ],
   "metadata": {
    "collapsed": false,
    "pycharm": {
     "name": "#%% getting column names and subsetting\n"
    }
   }
  },
  {
   "cell_type": "code",
   "execution_count": null,
   "outputs": [],
   "source": [
    "prod_dvnay_2['Liquid_Cum'] = prod_dvnay['Oil Total Cum (bbl)   '] \\\n",
    "                             + prod_dvnay['Water Total Cum (bbl)   ']\n",
    "print(prod_dvnay_2.info())\n"
   ],
   "metadata": {
    "collapsed": false,
    "pycharm": {
     "name": "#%% Adding liquid cumulative\n"
    }
   }
  },
  {
   "cell_type": "code",
   "execution_count": null,
   "outputs": [],
   "source": [
    "def plot_data(axes, x, y, color, xlabel, ylabel):\n",
    "    axes.scatter(x, y, color=color)\n",
    "    axes.set_xlabel(xlabel)\n",
    "    axes.set_ylabel(ylabel, color=color)\n",
    "\n",
    "\n",
    "fig, ax = plt.subplots(figsize=(15, 12))\n",
    "plot_data(ax, prod_dvnay['Oil Maximum Date   '],\n",
    "          prod_dvnay['Oil Maximum (bbl)   '], \"green\", \"Date\", \"Oil maximum cumulative\")\n",
    "ax2 = ax.twinx()\n",
    "plot_data(ax2, prod_dvnay['Water Maximum Date   '],\n",
    "          prod_dvnay['Water Maximum (bbl)   '], \"blue\", \"Date\",\n",
    "          \"Water maximum cumulative\")\n",
    "plt.show()"
   ],
   "metadata": {
    "collapsed": false,
    "pycharm": {
     "name": "#%% Plotting production data\n"
    }
   }
  },
  {
   "cell_type": "code",
   "execution_count": null,
   "outputs": [],
   "source": [
    "gdf_2 = gdf.merge(prod_dvnay_2, how='left', left_on='UWI ', right_on='API   ')\n",
    "gdf_2.drop('API   ', axis=1, inplace=True)\n",
    "print(gdf_2.columns)"
   ],
   "metadata": {
    "collapsed": false,
    "pycharm": {
     "name": "#%% Merging with x, y locations data\n"
    }
   }
  },
  {
   "cell_type": "code",
   "execution_count": null,
   "outputs": [],
   "source": [
    "\n",
    "gpkg_save_path = r\"C:\\Users\\karol\\OneDrive\\Documents\\GitHub\\gtx-2021\\gtx\\Scripts_gtx\\dvnay.gpkg\"\n",
    "gdf_2.to_file(gpkg_save_path, layer=\"production\", driver='GPKG')"
   ],
   "metadata": {
    "collapsed": false,
    "pycharm": {
     "name": "#%% Converting to geopackage\n"
    }
   }
  },
  {
   "cell_type": "markdown",
   "source": [
    "# Formation Tops"
   ],
   "metadata": {
    "collapsed": false
   }
  },
  {
   "cell_type": "code",
   "execution_count": 7,
   "outputs": [
    {
     "name": "stdout",
     "output_type": "stream",
     "text": [
      "<class 'pandas.core.frame.DataFrame'>\n",
      "RangeIndex: 512 entries, 0 to 511\n",
      "Data columns (total 21 columns):\n",
      " #   Column                                                    Non-Null Count  Dtype  \n",
      "---  ------                                                    --------------  -----  \n",
      " 0   UWI                                                       512 non-null    object \n",
      " 1   Bottom Hole Location X_m_NAD27_Zone 11N (120 W to 114 W)  512 non-null    float64\n",
      " 2   Bottom Hole Location Y_m_NAD27_Zone 11N (120 W to 114 W)  512 non-null    float64\n",
      " 3   Elevation(m above sea level)                              512 non-null    float64\n",
      " 4   01_Battle (Surbiton)[SSTVD] (m)                           25 non-null     float64\n",
      " 5   02_Lea_Park (Surbiton)[SSTVD] (m)                         376 non-null    float64\n",
      " 6   03_1st_White_Speckled_Shale (Surbiton)[SSTVD] (m)         445 non-null    float64\n",
      " 7   04_2nd_White_Speckled_Shale (Surbiton)[SSTVD] (m)         446 non-null    float64\n",
      " 8   05_Fish_scales (Surbiton)[SSTVD] (m)                      500 non-null    float64\n",
      " 9   06_Mannville_Top (Surbiton)[SSTVD] (m)                    501 non-null    float64\n",
      " 10  07_Ostracod_Beds (Surbiton)[SSTVD] (m)                    379 non-null    float64\n",
      " 11  08_Jurassic_Top (Surbiton)[SSTVD] (m)                     341 non-null    float64\n",
      " 12  09_Montney_Top (Surbiton)[SSTVD] (m)                      237 non-null    float64\n",
      " 13  10_Permian_Top (Surbiton)[SSTVD] (m)                      208 non-null    float64\n",
      " 14  11_Wabamun (Surbiton)[SSTVD] (m)                          504 non-null    float64\n",
      " 15  12_Winterburn (Surbiton)[SSTVD] (m)                       497 non-null    float64\n",
      " 16  13_Woodbend (Surbiton)[SSTVD] (m)                         512 non-null    float64\n",
      " 17  14_Duvernay_Top (Surbiton)[SSTVD] (m)                     480 non-null    float64\n",
      " 18  15_Beaverhill (Surbiton)[SSTVD] (m)                       512 non-null    float64\n",
      " 19  16_Elk_Point (Surbiton)[SSTVD] (m)                        466 non-null    float64\n",
      " 20  17_Precambrian Basement (Surbiton)[SSTVD] (m)             55 non-null     float64\n",
      "dtypes: float64(20), object(1)\n",
      "memory usage: 84.1+ KB\n",
      "None\n",
      "Index(['UWI', 'Bottom Hole Location X_m_NAD27_Zone 11N (120 W to 114 W)',\n",
      "       'Bottom Hole Location Y_m_NAD27_Zone 11N (120 W to 114 W)',\n",
      "       'Elevation(m above sea level)', '01_Battle (Surbiton)[SSTVD] (m)',\n",
      "       '02_Lea_Park (Surbiton)[SSTVD] (m)',\n",
      "       '03_1st_White_Speckled_Shale (Surbiton)[SSTVD] (m)',\n",
      "       '04_2nd_White_Speckled_Shale (Surbiton)[SSTVD] (m)',\n",
      "       '05_Fish_scales (Surbiton)[SSTVD] (m)',\n",
      "       '06_Mannville_Top (Surbiton)[SSTVD] (m)',\n",
      "       '07_Ostracod_Beds (Surbiton)[SSTVD] (m)',\n",
      "       '08_Jurassic_Top (Surbiton)[SSTVD] (m)',\n",
      "       '09_Montney_Top (Surbiton)[SSTVD] (m)',\n",
      "       '10_Permian_Top (Surbiton)[SSTVD] (m)',\n",
      "       '11_Wabamun (Surbiton)[SSTVD] (m)',\n",
      "       '12_Winterburn (Surbiton)[SSTVD] (m)',\n",
      "       '13_Woodbend (Surbiton)[SSTVD] (m)',\n",
      "       '14_Duvernay_Top (Surbiton)[SSTVD] (m)',\n",
      "       '15_Beaverhill (Surbiton)[SSTVD] (m)',\n",
      "       '16_Elk_Point (Surbiton)[SSTVD] (m)',\n",
      "       '17_Precambrian Basement (Surbiton)[SSTVD] (m)'],\n",
      "      dtype='object')\n"
     ]
    }
   ],
   "source": [
    "duvernay_folder = ROOT_DIR / \"gtx/data/Duvernay/Duvernay\"\n",
    "dvnay_form_tops = pd.read_excel(duvernay_folder / \"Duvernay formation tops SPE April 20 \"\n",
    "                                                 \"2021.xlsx\")\n",
    "print(dvnay_form_tops.info())\n",
    "print(dvnay_form_tops.columns)"
   ],
   "metadata": {
    "collapsed": false,
    "pycharm": {
     "name": "#%% reading formation tops duvernay\n"
    }
   }
  },
  {
   "cell_type": "code",
   "execution_count": 8,
   "outputs": [
    {
     "name": "stdout",
     "output_type": "stream",
     "text": [
      "<class 'geopandas.geodataframe.GeoDataFrame'>\n",
      "RangeIndex: 512 entries, 0 to 511\n",
      "Data columns (total 20 columns):\n",
      " #   Column                                             Non-Null Count  Dtype   \n",
      "---  ------                                             --------------  -----   \n",
      " 0   UWI                                                512 non-null    object  \n",
      " 1   Elevation(m above sea level)                       512 non-null    float64 \n",
      " 2   01_Battle (Surbiton)[SSTVD] (m)                    25 non-null     float64 \n",
      " 3   02_Lea_Park (Surbiton)[SSTVD] (m)                  376 non-null    float64 \n",
      " 4   03_1st_White_Speckled_Shale (Surbiton)[SSTVD] (m)  445 non-null    float64 \n",
      " 5   04_2nd_White_Speckled_Shale (Surbiton)[SSTVD] (m)  446 non-null    float64 \n",
      " 6   05_Fish_scales (Surbiton)[SSTVD] (m)               500 non-null    float64 \n",
      " 7   06_Mannville_Top (Surbiton)[SSTVD] (m)             501 non-null    float64 \n",
      " 8   07_Ostracod_Beds (Surbiton)[SSTVD] (m)             379 non-null    float64 \n",
      " 9   08_Jurassic_Top (Surbiton)[SSTVD] (m)              341 non-null    float64 \n",
      " 10  09_Montney_Top (Surbiton)[SSTVD] (m)               237 non-null    float64 \n",
      " 11  10_Permian_Top (Surbiton)[SSTVD] (m)               208 non-null    float64 \n",
      " 12  11_Wabamun (Surbiton)[SSTVD] (m)                   504 non-null    float64 \n",
      " 13  12_Winterburn (Surbiton)[SSTVD] (m)                497 non-null    float64 \n",
      " 14  13_Woodbend (Surbiton)[SSTVD] (m)                  512 non-null    float64 \n",
      " 15  14_Duvernay_Top (Surbiton)[SSTVD] (m)              480 non-null    float64 \n",
      " 16  15_Beaverhill (Surbiton)[SSTVD] (m)                512 non-null    float64 \n",
      " 17  16_Elk_Point (Surbiton)[SSTVD] (m)                 466 non-null    float64 \n",
      " 18  17_Precambrian Basement (Surbiton)[SSTVD] (m)      55 non-null     float64 \n",
      " 19  geometry                                           512 non-null    geometry\n",
      "dtypes: float64(18), geometry(1), object(1)\n",
      "memory usage: 80.1+ KB\n",
      "None\n"
     ]
    },
    {
     "data": {
      "text/plain": "                UWI  Elevation(m above sea level)  \\\n0  100010107020W500                         701.0   \n1  100010608109W500                         645.6   \n2  100010904012W500                        1283.8   \n3  100011206021W400                         651.6   \n4  100011506915W500                         873.1   \n\n   01_Battle (Surbiton)[SSTVD] (m)  02_Lea_Park (Surbiton)[SSTVD] (m)  \\\n0                              NaN                                NaN   \n1                              NaN                                NaN   \n2                              NaN                           -1081.79   \n3                              NaN                             464.00   \n4                              NaN                             293.98   \n\n   03_1st_White_Speckled_Shale (Surbiton)[SSTVD] (m)  \\\n0                                             189.50   \n1                                                NaN   \n2                                           -1265.89   \n3                                             323.30   \n4                                             223.10   \n\n   04_2nd_White_Speckled_Shale (Surbiton)[SSTVD] (m)  \\\n0                                               -3.4   \n1                                                NaN   \n2                                            -1741.2   \n3                                              190.1   \n4                                                NaN   \n\n   05_Fish_scales (Surbiton)[SSTVD] (m)  \\\n0                               -214.00   \n1                                390.30   \n2                              -1984.70   \n3                                 91.10   \n4                               -129.94   \n\n   06_Mannville_Top (Surbiton)[SSTVD] (m)  \\\n0                                  -307.0   \n1                                   342.5   \n2                                 -2034.7   \n3                                    35.6   \n4                                  -213.7   \n\n   07_Ostracod_Beds (Surbiton)[SSTVD] (m)  \\\n0                                  -607.7   \n1                                     NaN   \n2                                 -2231.2   \n3                                  -125.1   \n4                                  -461.9   \n\n   08_Jurassic_Top (Surbiton)[SSTVD] (m)  \\\n0                                 -627.3   \n1                                    NaN   \n2                                -2335.2   \n3                                    NaN   \n4                                    NaN   \n\n   09_Montney_Top (Surbiton)[SSTVD] (m)  10_Permian_Top (Surbiton)[SSTVD] (m)  \\\n0                                -713.3                                   NaN   \n1                                   NaN                                   NaN   \n2                                   NaN                                   NaN   \n3                                   NaN                                   NaN   \n4                                   NaN                                   NaN   \n\n   11_Wabamun (Surbiton)[SSTVD] (m)  12_Winterburn (Surbiton)[SSTVD] (m)  \\\n0                           -1271.1                              -1508.8   \n1                            -206.4                               -483.9   \n2                           -2735.2                              -3011.2   \n3                               NaN                               -168.4   \n4                            -919.8                              -1164.7   \n\n   13_Woodbend (Surbiton)[SSTVD] (m)  14_Duvernay_Top (Surbiton)[SSTVD] (m)  \\\n0                            -1605.1                               -1900.50   \n1                             -604.7                                -842.77   \n2                            -3082.2                               -3293.20   \n3                             -246.4                                -422.40   \n4                            -1279.7                               -1557.30   \n\n   15_Beaverhill (Surbiton)[SSTVD] (m)  16_Elk_Point (Surbiton)[SSTVD] (m)  \\\n0                              -1937.3                             -2044.3   \n1                               -895.4                             -1042.5   \n2                              -3340.2                             -3504.7   \n3                               -579.4                              -811.4   \n4                              -1602.2                             -1744.9   \n\n   17_Precambrian Basement (Surbiton)[SSTVD] (m)  \\\n0                                            NaN   \n1                                        -1078.4   \n2                                            NaN   \n3                                            NaN   \n4                                            NaN   \n\n                         geometry  \n0  POINT (506245.600 6097691.890)  \n1  POINT (600487.160 6205637.530)  \n2  POINT (591372.370 5808846.490)  \n3  POINT (760983.750 6009309.660)  \n4  POINT (552047.780 6091428.820)  ",
      "text/html": "<div>\n<style scoped>\n    .dataframe tbody tr th:only-of-type {\n        vertical-align: middle;\n    }\n\n    .dataframe tbody tr th {\n        vertical-align: top;\n    }\n\n    .dataframe thead th {\n        text-align: right;\n    }\n</style>\n<table border=\"1\" class=\"dataframe\">\n  <thead>\n    <tr style=\"text-align: right;\">\n      <th></th>\n      <th>UWI</th>\n      <th>Elevation(m above sea level)</th>\n      <th>01_Battle (Surbiton)[SSTVD] (m)</th>\n      <th>02_Lea_Park (Surbiton)[SSTVD] (m)</th>\n      <th>03_1st_White_Speckled_Shale (Surbiton)[SSTVD] (m)</th>\n      <th>04_2nd_White_Speckled_Shale (Surbiton)[SSTVD] (m)</th>\n      <th>05_Fish_scales (Surbiton)[SSTVD] (m)</th>\n      <th>06_Mannville_Top (Surbiton)[SSTVD] (m)</th>\n      <th>07_Ostracod_Beds (Surbiton)[SSTVD] (m)</th>\n      <th>08_Jurassic_Top (Surbiton)[SSTVD] (m)</th>\n      <th>09_Montney_Top (Surbiton)[SSTVD] (m)</th>\n      <th>10_Permian_Top (Surbiton)[SSTVD] (m)</th>\n      <th>11_Wabamun (Surbiton)[SSTVD] (m)</th>\n      <th>12_Winterburn (Surbiton)[SSTVD] (m)</th>\n      <th>13_Woodbend (Surbiton)[SSTVD] (m)</th>\n      <th>14_Duvernay_Top (Surbiton)[SSTVD] (m)</th>\n      <th>15_Beaverhill (Surbiton)[SSTVD] (m)</th>\n      <th>16_Elk_Point (Surbiton)[SSTVD] (m)</th>\n      <th>17_Precambrian Basement (Surbiton)[SSTVD] (m)</th>\n      <th>geometry</th>\n    </tr>\n  </thead>\n  <tbody>\n    <tr>\n      <th>0</th>\n      <td>100010107020W500</td>\n      <td>701.0</td>\n      <td>NaN</td>\n      <td>NaN</td>\n      <td>189.50</td>\n      <td>-3.4</td>\n      <td>-214.00</td>\n      <td>-307.0</td>\n      <td>-607.7</td>\n      <td>-627.3</td>\n      <td>-713.3</td>\n      <td>NaN</td>\n      <td>-1271.1</td>\n      <td>-1508.8</td>\n      <td>-1605.1</td>\n      <td>-1900.50</td>\n      <td>-1937.3</td>\n      <td>-2044.3</td>\n      <td>NaN</td>\n      <td>POINT (506245.600 6097691.890)</td>\n    </tr>\n    <tr>\n      <th>1</th>\n      <td>100010608109W500</td>\n      <td>645.6</td>\n      <td>NaN</td>\n      <td>NaN</td>\n      <td>NaN</td>\n      <td>NaN</td>\n      <td>390.30</td>\n      <td>342.5</td>\n      <td>NaN</td>\n      <td>NaN</td>\n      <td>NaN</td>\n      <td>NaN</td>\n      <td>-206.4</td>\n      <td>-483.9</td>\n      <td>-604.7</td>\n      <td>-842.77</td>\n      <td>-895.4</td>\n      <td>-1042.5</td>\n      <td>-1078.4</td>\n      <td>POINT (600487.160 6205637.530)</td>\n    </tr>\n    <tr>\n      <th>2</th>\n      <td>100010904012W500</td>\n      <td>1283.8</td>\n      <td>NaN</td>\n      <td>-1081.79</td>\n      <td>-1265.89</td>\n      <td>-1741.2</td>\n      <td>-1984.70</td>\n      <td>-2034.7</td>\n      <td>-2231.2</td>\n      <td>-2335.2</td>\n      <td>NaN</td>\n      <td>NaN</td>\n      <td>-2735.2</td>\n      <td>-3011.2</td>\n      <td>-3082.2</td>\n      <td>-3293.20</td>\n      <td>-3340.2</td>\n      <td>-3504.7</td>\n      <td>NaN</td>\n      <td>POINT (591372.370 5808846.490)</td>\n    </tr>\n    <tr>\n      <th>3</th>\n      <td>100011206021W400</td>\n      <td>651.6</td>\n      <td>NaN</td>\n      <td>464.00</td>\n      <td>323.30</td>\n      <td>190.1</td>\n      <td>91.10</td>\n      <td>35.6</td>\n      <td>-125.1</td>\n      <td>NaN</td>\n      <td>NaN</td>\n      <td>NaN</td>\n      <td>NaN</td>\n      <td>-168.4</td>\n      <td>-246.4</td>\n      <td>-422.40</td>\n      <td>-579.4</td>\n      <td>-811.4</td>\n      <td>NaN</td>\n      <td>POINT (760983.750 6009309.660)</td>\n    </tr>\n    <tr>\n      <th>4</th>\n      <td>100011506915W500</td>\n      <td>873.1</td>\n      <td>NaN</td>\n      <td>293.98</td>\n      <td>223.10</td>\n      <td>NaN</td>\n      <td>-129.94</td>\n      <td>-213.7</td>\n      <td>-461.9</td>\n      <td>NaN</td>\n      <td>NaN</td>\n      <td>NaN</td>\n      <td>-919.8</td>\n      <td>-1164.7</td>\n      <td>-1279.7</td>\n      <td>-1557.30</td>\n      <td>-1602.2</td>\n      <td>-1744.9</td>\n      <td>NaN</td>\n      <td>POINT (552047.780 6091428.820)</td>\n    </tr>\n  </tbody>\n</table>\n</div>"
     },
     "execution_count": 8,
     "metadata": {},
     "output_type": "execute_result"
    }
   ],
   "source": [
    "# converting to geodataframe\n",
    "x = dvnay_form_tops['Bottom Hole Location X_m_NAD27_Zone 11N (120 W to 114 W)']\n",
    "y = dvnay_form_tops['Bottom Hole Location Y_m_NAD27_Zone 11N (120 W to 114 W)']\n",
    "gdf_form_tops = gpd.GeoDataFrame(\n",
    "    dvnay_form_tops, crs='epsg:4267', geometry=gpd.points_from_xy\n",
    "    (x, y))\n",
    "gdf_form_tops.drop(['Bottom Hole Location X_m_NAD27_Zone 11N (120 W to 114 W)', 'Bottom Hole Location Y_m_NAD27_Zone 11N (120 W to 114 W)'] , axis=1, inplace=True)\n",
    "print(gdf_form_tops.info())\n",
    "gdf_form_tops.head()"
   ],
   "metadata": {
    "collapsed": false,
    "pycharm": {
     "name": "#%%\n"
    }
   }
  },
  {
   "cell_type": "code",
   "execution_count": null,
   "outputs": [],
   "source": [
    "gdf_form_tops = gdf_form_tops.to_crs(epsg=3857)\n",
    "gpkg_path = r\"C:\\Users\\karol\\OneDrive\\Documents\\GitHub\\gtx-2021\\gtx\\EDA_Duvernay\\form_tops_v2.gpkg\"\n",
    "gdf_form_tops.to_file(gpkg_path, layer=\"formation tops\", driver='GPKG')\n"
   ],
   "metadata": {
    "collapsed": false,
    "pycharm": {
     "name": "#%% Converting to geopackage\n"
    }
   }
  },
  {
   "cell_type": "markdown",
   "source": [
    "# Plotting well Logs"
   ],
   "metadata": {
    "collapsed": false
   }
  },
  {
   "cell_type": "code",
   "execution_count": null,
   "outputs": [],
   "source": [
    "las_file = r\"C:\\Users\\karol\\OneDrive\\Documents\\GitHub\\gtx-2021\\gtx\\data\\well_log_files\\duvernay_LAS\\CA100011804403W500_3067458_00006H3794594_W.LAS\"\n",
    "w = Well.from_las(las_file)\n",
    "w.data.keys()\n",
    "w.Well.uwi"
   ],
   "metadata": {
    "collapsed": false,
    "pycharm": {
     "name": "#%% Reading log data for each well\n"
    }
   }
  },
  {
   "cell_type": "code",
   "execution_count": null,
   "outputs": [],
   "source": [
    "tracks = ['GRRED', 'GRSED', 'SPRED', 'SPWS', 'ILDED', 'ILMED', 'CONDWS', 'DPHISSED', 'DPOLSWS' ]\n",
    "w.data['NPHISSED'].plot()\n",
    "w.data['RHOBED'].plot()\n",
    "w.plot(tracks=tracks)"
   ],
   "metadata": {
    "collapsed": false,
    "pycharm": {
     "name": "#%% plotting logs\n"
    }
   }
  },
  {
   "cell_type": "code",
   "execution_count": null,
   "outputs": [],
   "source": [
    "segment_GR = w.data['GRRED'].to_basis(start=0, stop=2700)\n",
    "segment_SP = w.data['SPRED'].to_basis(start=0, stop=2700)\n",
    "segment_RT = w.data['ILDED'].to_basis(start=0, stop=2700)\n",
    "segment_DE = w.data['DPHISSED'].to_basis(start=0, stop=2700)\n",
    "segment_NPHI = w.data['NPHISSED'].to_basis(start=0, stop=2700)\n",
    "segment_RHOB = w.data['RHOBED'].to_basis(start=0, stop=2700)"
   ],
   "metadata": {
    "collapsed": false,
    "pycharm": {
     "name": "#%% customizing logs\n"
    }
   }
  },
  {
   "cell_type": "code",
   "execution_count": null,
   "outputs": [],
   "source": [
    "#Matplotlib plotly function\n",
    "fig, axes = plt.subplots(nrows=1, ncols=5, constrained_layout=True, figsize=(10,10))\n",
    "segment_GR.plot(ax=axes[0], c=\"g\")\n",
    "axes[0].set_xlim([0, 150]) #escala registro\n",
    "axes[0].fill_betweenx(segment_GR.basis, 150, segment_GR, hatch=\"///\", edgecolor='green', facecolor=\"none\")\n",
    "\n",
    "ax1=axes[1]\n",
    "ax1.set_xlim([-200, 0])\n",
    "segment_SP.plot(ax=axes[1], c=\"black\")\n",
    "\n",
    "ax2=axes[2]\n",
    "ax2.set_xlim([0, 2000])\n",
    "segment_RT.plot(ax=axes[2], c=\"red\")\n",
    "\n",
    "ax3=axes[3]\n",
    "ax3.set_xlim([0, 0.5])\n",
    "segment_DE.plot(ax=axes[3], c=\"blue\")"
   ],
   "metadata": {
    "collapsed": false,
    "pycharm": {
     "name": "#%% matplotlib function\n"
    }
   }
  },
  {
   "cell_type": "markdown",
   "source": [
    "# Log Files"
   ],
   "metadata": {
    "collapsed": false,
    "pycharm": {
     "name": "#%% md\n"
    }
   }
  },
  {
   "cell_type": "code",
   "execution_count": null,
   "outputs": [],
   "source": [
    "# directory = ROOT_DIR/'gtx/data/well_log_files/duvernay_LAS'\n",
    "las_files = (ROOT_DIR/ 'gtx/data/well_log_files').glob(\"*.las\")"
   ],
   "metadata": {
    "collapsed": false,
    "pycharm": {
     "name": "#%% Checking wells where depth units is ft\n"
    }
   }
  },
  {
   "cell_type": "code",
   "execution_count": null,
   "outputs": [],
   "source": [
    "df_las_all = pd.DataFrame()\n",
    "uwi_col = \"UWI\"\n",
    "basin_col = \"basin\"\n",
    "for las_file in las_files:\n",
    "    las = welly.Well.from_las(las_file, index='ft')\n",
    "    las_df = las.df()\n",
    "    uwi: str = las.uwi\n",
    "    las_df[uwi_col] = uwi\n",
    "    las_df[basin_col] = \"Eaglebine\" if uwi.startswith(\"42\") else \"Duvernay\"\n",
    "    df_las_all = df_las_all.append(las_df)\n",
    "df_las_all.to_csv(\"well_logs_u.csv\")"
   ],
   "metadata": {
    "collapsed": false,
    "pycharm": {
     "name": "#%%\n"
    }
   }
  },
  {
   "cell_type": "code",
   "execution_count": null,
   "outputs": [],
   "source": [
    "print(df_las_all)"
   ],
   "metadata": {
    "collapsed": false,
    "pycharm": {
     "name": "#%%\n"
    }
   }
  },
  {
   "cell_type": "code",
   "execution_count": null,
   "outputs": [],
   "source": [
    "path_file = r'C:\\Users\\fredd\\PycharmProjects\\gtx-2021\\gtx\\EDA_well_logs\\logs_v2.db'"
   ],
   "metadata": {
    "collapsed": false,
    "pycharm": {
     "name": "#%% Creating sql engine\n"
    }
   }
  },
  {
   "cell_type": "code",
   "execution_count": null,
   "outputs": [],
   "source": [
    "engine = create_engine('sqlite:////Users/fredd/PycharmProjects/gtx-2021/gtx/EDA_well_logs/logs_v2.db')"
   ],
   "metadata": {
    "collapsed": false,
    "pycharm": {
     "name": "#%%\n"
    }
   }
  },
  {
   "cell_type": "code",
   "execution_count": null,
   "outputs": [],
   "source": [
    "meta_db = MetaData(bind=engine)\n",
    "meta_db.create_all(engine)"
   ],
   "metadata": {
    "collapsed": false,
    "pycharm": {
     "name": "#%%\n"
    }
   }
  },
  {
   "cell_type": "code",
   "execution_count": 9,
   "outputs": [
    {
     "name": "stderr",
     "output_type": "stream",
     "text": [
      "C:\\Users\\fredd\\miniconda3\\lib\\site-packages\\IPython\\core\\interactiveshell.py:3146: DtypeWarning: Columns (16) have mixed types.Specify dtype option on import or set low_memory=False.\n",
      "  has_raised = await self.run_ast_nodes(code_ast.body, cell_name,\n"
     ]
    },
    {
     "data": {
      "text/plain": "    Depth   CALSED    CALWS    CONDWS   DRESWS   DTED   DTWS  GRSED  GRWS  \\\n0   950.0   9.6926   9.6926  230.2433   4.3433  140.0  140.0    NaN   NaN   \n1  1000.0   8.3385   8.3385   67.4727  14.8208  140.0  140.0    NaN   NaN   \n2  1050.0   9.4662   9.4662  170.1346   5.8777    NaN    NaN    NaN   NaN   \n3  1100.0  10.6005  10.6005  234.4886   4.2646    NaN    NaN    NaN   NaN   \n4  1150.0  11.3021  11.3021  194.5147   5.1410    NaN    NaN    NaN   NaN   \n\n     ILDED  ...  AF90  AF10ED  AF90ED  DPHZED  TNPHED  CHTD ARFL ASGU  LL3ED  \\\n0   4.3433  ...   NaN     NaN     NaN     NaN     NaN   NaN  NaN  NaN    NaN   \n1  14.8208  ...   NaN     NaN     NaN     NaN     NaN   NaN  NaN  NaN    NaN   \n2   5.8777  ...   NaN     NaN     NaN     NaN     NaN   NaN  NaN  NaN    NaN   \n3   4.2646  ...   NaN     NaN     NaN     NaN     NaN   NaN  NaN  NaN    NaN   \n4   5.1410  ...   NaN     NaN     NaN     NaN     NaN   NaN  NaN  NaN    NaN   \n\n   LL3  \n0  NaN  \n1  NaN  \n2  NaN  \n3  NaN  \n4  NaN  \n\n[5 rows x 796 columns]",
      "text/html": "<div>\n<style scoped>\n    .dataframe tbody tr th:only-of-type {\n        vertical-align: middle;\n    }\n\n    .dataframe tbody tr th {\n        vertical-align: top;\n    }\n\n    .dataframe thead th {\n        text-align: right;\n    }\n</style>\n<table border=\"1\" class=\"dataframe\">\n  <thead>\n    <tr style=\"text-align: right;\">\n      <th></th>\n      <th>Depth</th>\n      <th>CALSED</th>\n      <th>CALWS</th>\n      <th>CONDWS</th>\n      <th>DRESWS</th>\n      <th>DTED</th>\n      <th>DTWS</th>\n      <th>GRSED</th>\n      <th>GRWS</th>\n      <th>ILDED</th>\n      <th>...</th>\n      <th>AF90</th>\n      <th>AF10ED</th>\n      <th>AF90ED</th>\n      <th>DPHZED</th>\n      <th>TNPHED</th>\n      <th>CHTD</th>\n      <th>ARFL</th>\n      <th>ASGU</th>\n      <th>LL3ED</th>\n      <th>LL3</th>\n    </tr>\n  </thead>\n  <tbody>\n    <tr>\n      <th>0</th>\n      <td>950.0</td>\n      <td>9.6926</td>\n      <td>9.6926</td>\n      <td>230.2433</td>\n      <td>4.3433</td>\n      <td>140.0</td>\n      <td>140.0</td>\n      <td>NaN</td>\n      <td>NaN</td>\n      <td>4.3433</td>\n      <td>...</td>\n      <td>NaN</td>\n      <td>NaN</td>\n      <td>NaN</td>\n      <td>NaN</td>\n      <td>NaN</td>\n      <td>NaN</td>\n      <td>NaN</td>\n      <td>NaN</td>\n      <td>NaN</td>\n      <td>NaN</td>\n    </tr>\n    <tr>\n      <th>1</th>\n      <td>1000.0</td>\n      <td>8.3385</td>\n      <td>8.3385</td>\n      <td>67.4727</td>\n      <td>14.8208</td>\n      <td>140.0</td>\n      <td>140.0</td>\n      <td>NaN</td>\n      <td>NaN</td>\n      <td>14.8208</td>\n      <td>...</td>\n      <td>NaN</td>\n      <td>NaN</td>\n      <td>NaN</td>\n      <td>NaN</td>\n      <td>NaN</td>\n      <td>NaN</td>\n      <td>NaN</td>\n      <td>NaN</td>\n      <td>NaN</td>\n      <td>NaN</td>\n    </tr>\n    <tr>\n      <th>2</th>\n      <td>1050.0</td>\n      <td>9.4662</td>\n      <td>9.4662</td>\n      <td>170.1346</td>\n      <td>5.8777</td>\n      <td>NaN</td>\n      <td>NaN</td>\n      <td>NaN</td>\n      <td>NaN</td>\n      <td>5.8777</td>\n      <td>...</td>\n      <td>NaN</td>\n      <td>NaN</td>\n      <td>NaN</td>\n      <td>NaN</td>\n      <td>NaN</td>\n      <td>NaN</td>\n      <td>NaN</td>\n      <td>NaN</td>\n      <td>NaN</td>\n      <td>NaN</td>\n    </tr>\n    <tr>\n      <th>3</th>\n      <td>1100.0</td>\n      <td>10.6005</td>\n      <td>10.6005</td>\n      <td>234.4886</td>\n      <td>4.2646</td>\n      <td>NaN</td>\n      <td>NaN</td>\n      <td>NaN</td>\n      <td>NaN</td>\n      <td>4.2646</td>\n      <td>...</td>\n      <td>NaN</td>\n      <td>NaN</td>\n      <td>NaN</td>\n      <td>NaN</td>\n      <td>NaN</td>\n      <td>NaN</td>\n      <td>NaN</td>\n      <td>NaN</td>\n      <td>NaN</td>\n      <td>NaN</td>\n    </tr>\n    <tr>\n      <th>4</th>\n      <td>1150.0</td>\n      <td>11.3021</td>\n      <td>11.3021</td>\n      <td>194.5147</td>\n      <td>5.1410</td>\n      <td>NaN</td>\n      <td>NaN</td>\n      <td>NaN</td>\n      <td>NaN</td>\n      <td>5.1410</td>\n      <td>...</td>\n      <td>NaN</td>\n      <td>NaN</td>\n      <td>NaN</td>\n      <td>NaN</td>\n      <td>NaN</td>\n      <td>NaN</td>\n      <td>NaN</td>\n      <td>NaN</td>\n      <td>NaN</td>\n      <td>NaN</td>\n    </tr>\n  </tbody>\n</table>\n<p>5 rows × 796 columns</p>\n</div>"
     },
     "execution_count": 9,
     "metadata": {},
     "output_type": "execute_result"
    }
   ],
   "source": [
    "df = pd.read_csv(ROOT_DIR / 'gtx/eda_oc/well_logs.csv')\n",
    "df.head()"
   ],
   "metadata": {
    "collapsed": false,
    "pycharm": {
     "name": "#%% Importing csv file\n"
    }
   }
  },
  {
   "cell_type": "code",
   "execution_count": 10,
   "outputs": [
    {
     "data": {
      "text/plain": "array(['Duvernay'], dtype=object)"
     },
     "execution_count": 10,
     "metadata": {},
     "output_type": "execute_result"
    }
   ],
   "source": [
    "df_logs = df[df.basin=='Duvernay']\n",
    "df_logs.basin.unique()"
   ],
   "metadata": {
    "collapsed": false,
    "pycharm": {
     "name": "#%%\n"
    }
   }
  },
  {
   "cell_type": "code",
   "execution_count": 11,
   "outputs": [
    {
     "data": {
      "text/plain": "512"
     },
     "execution_count": 11,
     "metadata": {},
     "output_type": "execute_result"
    }
   ],
   "source": [
    "# Amount of unique wells\n",
    "len(df_logs.UWI.unique())"
   ],
   "metadata": {
    "collapsed": false,
    "pycharm": {
     "name": "#%%\n"
    }
   }
  },
  {
   "cell_type": "code",
   "execution_count": null,
   "outputs": [],
   "source": [
    "df.to_sql('logs', con=engine)"
   ],
   "metadata": {
    "collapsed": false,
    "pycharm": {
     "name": "#%% Converting to db format\n"
    }
   }
  },
  {
   "cell_type": "code",
   "execution_count": null,
   "outputs": [],
   "source": [
    "logs_duvernay = ''' select * from logs where basin = 'Duvernay'  '''"
   ],
   "metadata": {
    "collapsed": false,
    "pycharm": {
     "name": "#%% filtering table to get duvernay records\n"
    }
   }
  },
  {
   "cell_type": "code",
   "execution_count": null,
   "outputs": [],
   "source": [
    "df_logs_dvnay = pd.read_sql_query(logs_duvernay, engine)"
   ],
   "metadata": {
    "collapsed": false,
    "pycharm": {
     "name": "#%%\n"
    }
   }
  },
  {
   "cell_type": "code",
   "execution_count": null,
   "outputs": [],
   "source": [
    "print(df_logs_dvnay.head(50))\n",
    "print(df_logs_dvnay.columns)"
   ],
   "metadata": {
    "collapsed": false,
    "pycharm": {
     "name": "#%% displaying first 50 rows\n"
    }
   }
  },
  {
   "cell_type": "code",
   "execution_count": null,
   "outputs": [],
   "source": [
    "df_logs_dvnay['UWI'].unique()"
   ],
   "metadata": {
    "collapsed": false,
    "pycharm": {
     "name": "#%% getting well names\n"
    }
   }
  },
  {
   "cell_type": "code",
   "execution_count": null,
   "outputs": [],
   "source": [
    "print(df_logs_dvnay[df_logs_dvnay['UWI'] == \"100010608109W500\"])"
   ],
   "metadata": {
    "collapsed": false,
    "pycharm": {
     "name": "#%% verifiying conversion of depth from meters to ft\n"
    }
   }
  },
  {
   "cell_type": "markdown",
   "source": [
    "## Assigning formation tops to each well log - duvernay basin"
   ],
   "metadata": {
    "collapsed": false,
    "pycharm": {
     "name": "#%% md\n"
    }
   }
  },
  {
   "cell_type": "code",
   "execution_count": 12,
   "outputs": [
    {
     "name": "stdout",
     "output_type": "stream",
     "text": [
      "<class 'pandas.core.frame.DataFrame'>\n",
      "RangeIndex: 512 entries, 0 to 511\n",
      "Data columns (total 21 columns):\n",
      " #   Column                                                    Non-Null Count  Dtype  \n",
      "---  ------                                                    --------------  -----  \n",
      " 0   UWI                                                       512 non-null    object \n",
      " 1   Bottom Hole Location X_m_NAD27_Zone 11N (120 W to 114 W)  512 non-null    float64\n",
      " 2   Bottom Hole Location Y_m_NAD27_Zone 11N (120 W to 114 W)  512 non-null    float64\n",
      " 3   Elevation(m above sea level)                              512 non-null    float64\n",
      " 4   01_Battle (Surbiton)[SSTVD] (m)                           25 non-null     float64\n",
      " 5   02_Lea_Park (Surbiton)[SSTVD] (m)                         376 non-null    float64\n",
      " 6   03_1st_White_Speckled_Shale (Surbiton)[SSTVD] (m)         445 non-null    float64\n",
      " 7   04_2nd_White_Speckled_Shale (Surbiton)[SSTVD] (m)         446 non-null    float64\n",
      " 8   05_Fish_scales (Surbiton)[SSTVD] (m)                      500 non-null    float64\n",
      " 9   06_Mannville_Top (Surbiton)[SSTVD] (m)                    501 non-null    float64\n",
      " 10  07_Ostracod_Beds (Surbiton)[SSTVD] (m)                    379 non-null    float64\n",
      " 11  08_Jurassic_Top (Surbiton)[SSTVD] (m)                     341 non-null    float64\n",
      " 12  09_Montney_Top (Surbiton)[SSTVD] (m)                      237 non-null    float64\n",
      " 13  10_Permian_Top (Surbiton)[SSTVD] (m)                      208 non-null    float64\n",
      " 14  11_Wabamun (Surbiton)[SSTVD] (m)                          504 non-null    float64\n",
      " 15  12_Winterburn (Surbiton)[SSTVD] (m)                       497 non-null    float64\n",
      " 16  13_Woodbend (Surbiton)[SSTVD] (m)                         512 non-null    float64\n",
      " 17  14_Duvernay_Top (Surbiton)[SSTVD] (m)                     480 non-null    float64\n",
      " 18  15_Beaverhill (Surbiton)[SSTVD] (m)                       512 non-null    float64\n",
      " 19  16_Elk_Point (Surbiton)[SSTVD] (m)                        466 non-null    float64\n",
      " 20  17_Precambrian Basement (Surbiton)[SSTVD] (m)             55 non-null     float64\n",
      "dtypes: float64(20), object(1)\n",
      "memory usage: 84.1+ KB\n",
      "None\n",
      "Index(['UWI', 'Bottom Hole Location X_m_NAD27_Zone 11N (120 W to 114 W)',\n",
      "       'Bottom Hole Location Y_m_NAD27_Zone 11N (120 W to 114 W)',\n",
      "       'Elevation(m above sea level)', '01_Battle (Surbiton)[SSTVD] (m)',\n",
      "       '02_Lea_Park (Surbiton)[SSTVD] (m)',\n",
      "       '03_1st_White_Speckled_Shale (Surbiton)[SSTVD] (m)',\n",
      "       '04_2nd_White_Speckled_Shale (Surbiton)[SSTVD] (m)',\n",
      "       '05_Fish_scales (Surbiton)[SSTVD] (m)',\n",
      "       '06_Mannville_Top (Surbiton)[SSTVD] (m)',\n",
      "       '07_Ostracod_Beds (Surbiton)[SSTVD] (m)',\n",
      "       '08_Jurassic_Top (Surbiton)[SSTVD] (m)',\n",
      "       '09_Montney_Top (Surbiton)[SSTVD] (m)',\n",
      "       '10_Permian_Top (Surbiton)[SSTVD] (m)',\n",
      "       '11_Wabamun (Surbiton)[SSTVD] (m)',\n",
      "       '12_Winterburn (Surbiton)[SSTVD] (m)',\n",
      "       '13_Woodbend (Surbiton)[SSTVD] (m)',\n",
      "       '14_Duvernay_Top (Surbiton)[SSTVD] (m)',\n",
      "       '15_Beaverhill (Surbiton)[SSTVD] (m)',\n",
      "       '16_Elk_Point (Surbiton)[SSTVD] (m)',\n",
      "       '17_Precambrian Basement (Surbiton)[SSTVD] (m)'],\n",
      "      dtype='object')\n"
     ]
    }
   ],
   "source": [
    "duvernay_folder = ROOT_DIR / \"gtx/data/Duvernay/Duvernay\"\n",
    "tops_df = pd.read_excel(duvernay_folder / \"Duvernay formation tops SPE April 20 \"\n",
    "                                                 \"2021.xlsx\")\n",
    "print(tops_df.info())\n",
    "print(tops_df.columns)"
   ],
   "metadata": {
    "collapsed": false,
    "pycharm": {
     "name": "#%% Reading formation tops data\n"
    }
   }
  },
  {
   "cell_type": "code",
   "execution_count": 13,
   "outputs": [],
   "source": [
    "top_sstvd_col = \"top_sstvd\"\n",
    "formation_col = \"formation\"\n",
    "tops_df = tops_df.set_index('UWI').loc[:, '01_Battle (Surbiton)[SSTVD] (m)':]"
   ],
   "metadata": {
    "collapsed": false,
    "pycharm": {
     "name": "#%% Assigning new columns\n"
    }
   }
  },
  {
   "cell_type": "code",
   "execution_count": 14,
   "outputs": [
    {
     "name": "stdout",
     "output_type": "stream",
     "text": [
      "                UWI                        formation  top_sstvd\n",
      "0  100010107020W500  01_Battle (Surbiton)[SSTVD] (m)        NaN\n",
      "1  100010608109W500  01_Battle (Surbiton)[SSTVD] (m)        NaN\n",
      "2  100010904012W500  01_Battle (Surbiton)[SSTVD] (m)        NaN\n",
      "3  100011206021W400  01_Battle (Surbiton)[SSTVD] (m)        NaN\n",
      "4  100011506915W500  01_Battle (Surbiton)[SSTVD] (m)        NaN\n"
     ]
    }
   ],
   "source": [
    "tops_df = tops_df.reset_index().melt(id_vars=['UWI'],\n",
    "                       var_name=formation_col,\n",
    "                      value_name=top_sstvd_col)\n",
    "print(tops_df.head())"
   ],
   "metadata": {
    "collapsed": false,
    "pycharm": {
     "name": "#%% Reshape dataframe (columns to rows using melt method)\n"
    }
   }
  },
  {
   "cell_type": "code",
   "execution_count": 15,
   "outputs": [
    {
     "name": "stdout",
     "output_type": "stream",
     "text": [
      "                   UWI             formation  top_sstvd\n",
      "0     100010107020W500                Battle        NaN\n",
      "1     100010608109W500                Battle        NaN\n",
      "2     100010904012W500                Battle        NaN\n",
      "3     100011206021W400                Battle        NaN\n",
      "4     100011506915W500                Battle        NaN\n",
      "...                ...                   ...        ...\n",
      "8699  102101403324W400  Precambrian Basement        NaN\n",
      "8700  102102106218W500  Precambrian Basement        NaN\n",
      "8701  102112204416W500  Precambrian Basement        NaN\n",
      "8702  102142004709W500  Precambrian Basement        NaN\n",
      "8703  106141105522W400  Precambrian Basement        NaN\n",
      "\n",
      "[8704 rows x 3 columns]\n"
     ]
    },
    {
     "name": "stderr",
     "output_type": "stream",
     "text": [
      "<ipython-input-15-f8661bbc3818>:1: FutureWarning: The default value of regex will change from True to False in a future version.\n",
      "  tops_df[formation_col] = tops_df[formation_col].str.replace('[^a-zA-Z]', ' ').\\\n"
     ]
    }
   ],
   "source": [
    "tops_df[formation_col] = tops_df[formation_col].str.replace('[^a-zA-Z]', ' ').\\\n",
    "str.replace('Surbiton  SSTVD   m', \"\").str.strip()\n",
    "print(tops_df)"
   ],
   "metadata": {
    "collapsed": false,
    "pycharm": {
     "name": "#%% Getting actual formation names using regular expressions\n"
    }
   }
  },
  {
   "cell_type": "code",
   "execution_count": 16,
   "outputs": [
    {
     "name": "stdout",
     "output_type": "stream",
     "text": [
      "<class 'pandas.core.frame.DataFrame'>\n",
      "Int64Index: 6484 entries, 5 to 8682\n",
      "Data columns (total 3 columns):\n",
      " #   Column     Non-Null Count  Dtype  \n",
      "---  ------     --------------  -----  \n",
      " 0   UWI        6484 non-null   object \n",
      " 1   formation  6484 non-null   object \n",
      " 2   top_sstvd  6484 non-null   float64\n",
      "dtypes: float64(1), object(2)\n",
      "memory usage: 202.6+ KB\n",
      "None\n"
     ]
    }
   ],
   "source": [
    "tops_df[top_sstvd_col] = tops_df[top_sstvd_col].replace(0, np.nan)\n",
    "tops_df.dropna(inplace=True)\n",
    "print(tops_df.info())"
   ],
   "metadata": {
    "collapsed": false,
    "pycharm": {
     "name": "#%% Replacing zero values with null values (nan)\n"
    }
   }
  },
  {
   "cell_type": "code",
   "execution_count": 17,
   "outputs": [
    {
     "name": "stdout",
     "output_type": "stream",
     "text": [
      "<class 'pandas.core.frame.DataFrame'>\n",
      "RangeIndex: 512 entries, 0 to 511\n",
      "Data columns (total 2 columns):\n",
      " #   Column            Non-Null Count  Dtype  \n",
      "---  ------            --------------  -----  \n",
      " 0   UWI               512 non-null    object \n",
      " 1   Elevation Meters  512 non-null    float64\n",
      "dtypes: float64(1), object(1)\n",
      "memory usage: 8.1+ KB\n",
      "None\n"
     ]
    }
   ],
   "source": [
    "uwi_col = \"UWI\"\n",
    "elev_col = 'Elevation Meters'\n",
    "gdf_headers = gdf.rename(columns={'UWI ': uwi_col, 'Elevation Meters': elev_col })\n",
    "gdf_headers = gdf_headers[[uwi_col, elev_col ]]\n",
    "print(gdf_headers.info())"
   ],
   "metadata": {
    "collapsed": false,
    "pycharm": {
     "name": "#%% Adding elevation meters column to formation tops\n"
    }
   }
  },
  {
   "cell_type": "code",
   "execution_count": 18,
   "outputs": [],
   "source": [
    "tops_df = tops_df.merge(gdf_headers, on='UWI')"
   ],
   "metadata": {
    "collapsed": false,
    "pycharm": {
     "name": "#%%\n"
    }
   }
  },
  {
   "cell_type": "code",
   "execution_count": 19,
   "outputs": [
    {
     "data": {
      "text/plain": "Index(['UWI', 'formation', 'top_sstvd', 'Elevation Meters'], dtype='object')"
     },
     "execution_count": 19,
     "metadata": {},
     "output_type": "execute_result"
    }
   ],
   "source": [
    "tops_df.columns"
   ],
   "metadata": {
    "collapsed": false,
    "pycharm": {
     "name": "#%% checking new dataframe tops_df\n"
    }
   }
  },
  {
   "cell_type": "code",
   "execution_count": null,
   "outputs": [],
   "source": [
    "gdf = gdf.rename(columns={'UWI ': uwi_col, 'Elevation Meters': elev_col })"
   ],
   "metadata": {
    "collapsed": false,
    "pycharm": {
     "name": "#%% Converting top formation dataframe to geopackage to make structural maps\n"
    }
   }
  },
  {
   "cell_type": "code",
   "execution_count": null,
   "outputs": [],
   "source": [
    "gdf_form = gdf.merge(tops_df, on='UWI')"
   ],
   "metadata": {
    "collapsed": false,
    "pycharm": {
     "name": "#%%\n"
    }
   }
  },
  {
   "cell_type": "code",
   "execution_count": null,
   "outputs": [],
   "source": [
    "print(gdf_form)"
   ],
   "metadata": {
    "collapsed": false,
    "pycharm": {
     "name": "#%%\n"
    }
   }
  },
  {
   "cell_type": "code",
   "execution_count": null,
   "outputs": [],
   "source": [
    "gpkg_path_3 = r\"C:\\Users\\karol\\OneDrive\\Documents\\GitHub\\gtx-2021\\gtx\\EDA_Duvernay\\form_tops_dv.gpkg\"\n",
    "gdf_form.to_file(gpkg_path_3, layer=\"formation tops\", driver='GPKG')\n"
   ],
   "metadata": {
    "collapsed": false,
    "pycharm": {
     "name": "#%%\n"
    }
   }
  },
  {
   "cell_type": "code",
   "execution_count": null,
   "outputs": [],
   "source": [
    "depth = np.empty([1,0])\n",
    "for value in tops_df['top_sstvd']:\n",
    "    if value < 0:\n",
    "        value = value * -1\n",
    "        depth = np.append(depth, value)\n",
    "    else:\n",
    "        value = value\n",
    "        depth = np.append(depth, value)\n",
    "tops_df['top_sstvd_2'] = depth\n",
    "print(tops_df['top_sstvd_2'])"
   ],
   "metadata": {
    "collapsed": false,
    "pycharm": {
     "name": "#%% converting to positive values sstvd to calculate md\n"
    }
   }
  },
  {
   "cell_type": "code",
   "execution_count": null,
   "outputs": [],
   "source": [
    "print(tops_df.info())"
   ],
   "metadata": {
    "collapsed": false,
    "pycharm": {
     "name": "#%%\n"
    }
   }
  },
  {
   "cell_type": "code",
   "execution_count": 20,
   "outputs": [],
   "source": [
    "tops_df[top_sstvd_col] = tops_df[top_sstvd_col] * 3.2808\n",
    "tops_df['Elevation Meters'] = tops_df['Elevation Meters'] * 3.2808"
   ],
   "metadata": {
    "collapsed": false,
    "pycharm": {
     "name": "#%%\n"
    }
   }
  },
  {
   "cell_type": "code",
   "execution_count": 21,
   "outputs": [],
   "source": [
    "tops_df.rename(columns={'Elevation Meters':'Elevation(ft)'}, inplace=True)"
   ],
   "metadata": {
    "collapsed": false,
    "pycharm": {
     "name": "#%%\n"
    }
   }
  },
  {
   "cell_type": "code",
   "execution_count": 22,
   "outputs": [
    {
     "name": "stdout",
     "output_type": "stream",
     "text": [
      "<class 'pandas.core.frame.DataFrame'>\n",
      "Int64Index: 6484 entries, 0 to 6483\n",
      "Data columns (total 4 columns):\n",
      " #   Column         Non-Null Count  Dtype  \n",
      "---  ------         --------------  -----  \n",
      " 0   UWI            6484 non-null   object \n",
      " 1   formation      6484 non-null   object \n",
      " 2   top_sstvd      6484 non-null   float64\n",
      " 3   Elevation(ft)  6484 non-null   float64\n",
      "dtypes: float64(2), object(2)\n",
      "memory usage: 253.3+ KB\n"
     ]
    }
   ],
   "source": [
    "tops_df.info()"
   ],
   "metadata": {
    "collapsed": false,
    "pycharm": {
     "name": "#%%\n"
    }
   }
  },
  {
   "cell_type": "code",
   "execution_count": 23,
   "outputs": [
    {
     "name": "stdout",
     "output_type": "stream",
     "text": [
      "<class 'pandas.core.frame.DataFrame'>\n",
      "Int64Index: 6484 entries, 0 to 6483\n",
      "Data columns (total 5 columns):\n",
      " #   Column         Non-Null Count  Dtype  \n",
      "---  ------         --------------  -----  \n",
      " 0   UWI            6484 non-null   object \n",
      " 1   formation      6484 non-null   object \n",
      " 2   top_sstvd      6484 non-null   float64\n",
      " 3   Elevation(ft)  6484 non-null   float64\n",
      " 4   top_md(ft)     6484 non-null   float64\n",
      "dtypes: float64(3), object(2)\n",
      "memory usage: 303.9+ KB\n"
     ]
    }
   ],
   "source": [
    "tops_df['top_md(ft)'] = np.where(tops_df['top_sstvd'] < 0, (-1 * tops_df['top_sstvd']) + tops_df['Elevation(ft)'],\n",
    "                                 tops_df['Elevation(ft)'] - tops_df['top_sstvd'])\n",
    "tops_df.info()"
   ],
   "metadata": {
    "collapsed": false,
    "pycharm": {
     "name": "#%%\n"
    }
   }
  },
  {
   "cell_type": "code",
   "execution_count": 24,
   "outputs": [
    {
     "data": {
      "text/plain": "                UWI                formation    top_sstvd  Elevation(ft)  \\\n0  100011804403W500                   Battle  2029.502880     3106.58952   \n1  100011804403W500                 Lea Park  -810.685680     3106.58952   \n2  100011804403W500  st White Speckled Shale -1228.987680     3106.58952   \n3  100011804403W500  nd White Speckled Shale -2114.803680     3106.58952   \n4  100011804403W500              Fish scales -2579.397768     3106.58952   \n\n    top_md(ft)  \n0  1077.086640  \n1  3917.275200  \n2  4335.577200  \n3  5221.393200  \n4  5685.987288  ",
      "text/html": "<div>\n<style scoped>\n    .dataframe tbody tr th:only-of-type {\n        vertical-align: middle;\n    }\n\n    .dataframe tbody tr th {\n        vertical-align: top;\n    }\n\n    .dataframe thead th {\n        text-align: right;\n    }\n</style>\n<table border=\"1\" class=\"dataframe\">\n  <thead>\n    <tr style=\"text-align: right;\">\n      <th></th>\n      <th>UWI</th>\n      <th>formation</th>\n      <th>top_sstvd</th>\n      <th>Elevation(ft)</th>\n      <th>top_md(ft)</th>\n    </tr>\n  </thead>\n  <tbody>\n    <tr>\n      <th>0</th>\n      <td>100011804403W500</td>\n      <td>Battle</td>\n      <td>2029.502880</td>\n      <td>3106.58952</td>\n      <td>1077.086640</td>\n    </tr>\n    <tr>\n      <th>1</th>\n      <td>100011804403W500</td>\n      <td>Lea Park</td>\n      <td>-810.685680</td>\n      <td>3106.58952</td>\n      <td>3917.275200</td>\n    </tr>\n    <tr>\n      <th>2</th>\n      <td>100011804403W500</td>\n      <td>st White Speckled Shale</td>\n      <td>-1228.987680</td>\n      <td>3106.58952</td>\n      <td>4335.577200</td>\n    </tr>\n    <tr>\n      <th>3</th>\n      <td>100011804403W500</td>\n      <td>nd White Speckled Shale</td>\n      <td>-2114.803680</td>\n      <td>3106.58952</td>\n      <td>5221.393200</td>\n    </tr>\n    <tr>\n      <th>4</th>\n      <td>100011804403W500</td>\n      <td>Fish scales</td>\n      <td>-2579.397768</td>\n      <td>3106.58952</td>\n      <td>5685.987288</td>\n    </tr>\n  </tbody>\n</table>\n</div>"
     },
     "execution_count": 24,
     "metadata": {},
     "output_type": "execute_result"
    }
   ],
   "source": [
    "tops_df.head()"
   ],
   "metadata": {
    "collapsed": false,
    "pycharm": {
     "name": "#%%\n"
    }
   }
  },
  {
   "cell_type": "code",
   "execution_count": 26,
   "outputs": [],
   "source": [
    "#df_logs = df_logs.merge(tops_df, on='UWI', how='left')\n",
    "tops_df.rename(columns={'top_md(ft)':'top_md'}, inplace=True)"
   ],
   "metadata": {
    "collapsed": false,
    "pycharm": {
     "name": "#%% Merge df_logs with well headers\n"
    }
   }
  },
  {
   "cell_type": "code",
   "execution_count": 27,
   "outputs": [
    {
     "ename": "AttributeError",
     "evalue": "'Pandas' object has no attribute 'top_md(ft)'",
     "output_type": "error",
     "traceback": [
      "\u001B[1;31m---------------------------------------------------------------------------\u001B[0m",
      "\u001B[1;31mAttributeError\u001B[0m                            Traceback (most recent call last)",
      "\u001B[1;32m<ipython-input-27-ee9a80fa40b0>\u001B[0m in \u001B[0;36m<module>\u001B[1;34m\u001B[0m\n\u001B[0;32m      3\u001B[0m    \u001B[0mwell_cond\u001B[0m \u001B[1;33m=\u001B[0m \u001B[0mdf_logs\u001B[0m\u001B[1;33m[\u001B[0m\u001B[0muwi_col\u001B[0m\u001B[1;33m]\u001B[0m \u001B[1;33m==\u001B[0m \u001B[0mname\u001B[0m\u001B[1;33m\u001B[0m\u001B[1;33m\u001B[0m\u001B[0m\n\u001B[0;32m      4\u001B[0m    \u001B[1;32mfor\u001B[0m \u001B[0mrow\u001B[0m \u001B[1;32min\u001B[0m \u001B[0mgroup\u001B[0m\u001B[1;33m.\u001B[0m\u001B[0mitertuples\u001B[0m\u001B[1;33m(\u001B[0m\u001B[0mindex\u001B[0m\u001B[1;33m=\u001B[0m\u001B[1;32mFalse\u001B[0m\u001B[1;33m)\u001B[0m\u001B[1;33m:\u001B[0m\u001B[1;33m\u001B[0m\u001B[1;33m\u001B[0m\u001B[0m\n\u001B[1;32m----> 5\u001B[1;33m         \u001B[0mmd_top\u001B[0m \u001B[1;33m=\u001B[0m \u001B[0mgetattr\u001B[0m\u001B[1;33m(\u001B[0m\u001B[0mrow\u001B[0m\u001B[1;33m,\u001B[0m \u001B[1;34m'top_md(ft)'\u001B[0m\u001B[1;33m)\u001B[0m\u001B[1;33m\u001B[0m\u001B[1;33m\u001B[0m\u001B[0m\n\u001B[0m\u001B[0;32m      6\u001B[0m         \u001B[0mformation_name\u001B[0m \u001B[1;33m=\u001B[0m \u001B[0mgetattr\u001B[0m\u001B[1;33m(\u001B[0m\u001B[0mrow\u001B[0m\u001B[1;33m,\u001B[0m \u001B[1;34m'formation'\u001B[0m\u001B[1;33m)\u001B[0m\u001B[1;33m\u001B[0m\u001B[1;33m\u001B[0m\u001B[0m\n\u001B[0;32m      7\u001B[0m         \u001B[0mformation_cond\u001B[0m \u001B[1;33m=\u001B[0m \u001B[0mdf_logs\u001B[0m\u001B[1;33m[\u001B[0m\u001B[1;34m'Depth'\u001B[0m\u001B[1;33m]\u001B[0m \u001B[1;33m>=\u001B[0m \u001B[0mmd_top\u001B[0m\u001B[1;33m\u001B[0m\u001B[1;33m\u001B[0m\u001B[0m\n",
      "\u001B[1;31mAttributeError\u001B[0m: 'Pandas' object has no attribute 'top_md(ft)'"
     ]
    }
   ],
   "source": [
    "group_tops = tops_df.groupby(uwi_col)\n",
    "for name, group in group_tops:\n",
    "   well_cond = df_logs[uwi_col] == name\n",
    "   for row in group.itertuples(index=False):\n",
    "        md_top = getattr(row, 'top_md(ft)')\n",
    "        formation_name = getattr(row, 'formation')\n",
    "        formation_cond = df_logs['Depth'] >= md_top\n",
    "        if sum(formation_cond) >= 1:\n",
    "            df_logs.loc[formation_cond & well_cond, formation_col] = formation_name\n",
    "\n",
    "df_logs.info()"
   ],
   "metadata": {
    "collapsed": false,
    "pycharm": {
     "name": "#%% assign formation names\n"
    }
   }
  },
  {
   "cell_type": "code",
   "execution_count": 28,
   "outputs": [
    {
     "data": {
      "text/plain": "    Depth   CALSED    CALWS    CONDWS   DRESWS   DTED   DTWS  GRSED  GRWS  \\\n0   950.0   9.6926   9.6926  230.2433   4.3433  140.0  140.0    NaN   NaN   \n1  1000.0   8.3385   8.3385   67.4727  14.8208  140.0  140.0    NaN   NaN   \n2  1050.0   9.4662   9.4662  170.1346   5.8777    NaN    NaN    NaN   NaN   \n3  1100.0  10.6005  10.6005  234.4886   4.2646    NaN    NaN    NaN   NaN   \n4  1150.0  11.3021  11.3021  194.5147   5.1410    NaN    NaN    NaN   NaN   \n\n     ILDED  ...  AF90  AF10ED  AF90ED  DPHZED  TNPHED  CHTD ARFL ASGU  LL3ED  \\\n0   4.3433  ...   NaN     NaN     NaN     NaN     NaN   NaN  NaN  NaN    NaN   \n1  14.8208  ...   NaN     NaN     NaN     NaN     NaN   NaN  NaN  NaN    NaN   \n2   5.8777  ...   NaN     NaN     NaN     NaN     NaN   NaN  NaN  NaN    NaN   \n3   4.2646  ...   NaN     NaN     NaN     NaN     NaN   NaN  NaN  NaN    NaN   \n4   5.1410  ...   NaN     NaN     NaN     NaN     NaN   NaN  NaN  NaN    NaN   \n\n   LL3  \n0  NaN  \n1  NaN  \n2  NaN  \n3  NaN  \n4  NaN  \n\n[5 rows x 796 columns]",
      "text/html": "<div>\n<style scoped>\n    .dataframe tbody tr th:only-of-type {\n        vertical-align: middle;\n    }\n\n    .dataframe tbody tr th {\n        vertical-align: top;\n    }\n\n    .dataframe thead th {\n        text-align: right;\n    }\n</style>\n<table border=\"1\" class=\"dataframe\">\n  <thead>\n    <tr style=\"text-align: right;\">\n      <th></th>\n      <th>Depth</th>\n      <th>CALSED</th>\n      <th>CALWS</th>\n      <th>CONDWS</th>\n      <th>DRESWS</th>\n      <th>DTED</th>\n      <th>DTWS</th>\n      <th>GRSED</th>\n      <th>GRWS</th>\n      <th>ILDED</th>\n      <th>...</th>\n      <th>AF90</th>\n      <th>AF10ED</th>\n      <th>AF90ED</th>\n      <th>DPHZED</th>\n      <th>TNPHED</th>\n      <th>CHTD</th>\n      <th>ARFL</th>\n      <th>ASGU</th>\n      <th>LL3ED</th>\n      <th>LL3</th>\n    </tr>\n  </thead>\n  <tbody>\n    <tr>\n      <th>0</th>\n      <td>950.0</td>\n      <td>9.6926</td>\n      <td>9.6926</td>\n      <td>230.2433</td>\n      <td>4.3433</td>\n      <td>140.0</td>\n      <td>140.0</td>\n      <td>NaN</td>\n      <td>NaN</td>\n      <td>4.3433</td>\n      <td>...</td>\n      <td>NaN</td>\n      <td>NaN</td>\n      <td>NaN</td>\n      <td>NaN</td>\n      <td>NaN</td>\n      <td>NaN</td>\n      <td>NaN</td>\n      <td>NaN</td>\n      <td>NaN</td>\n      <td>NaN</td>\n    </tr>\n    <tr>\n      <th>1</th>\n      <td>1000.0</td>\n      <td>8.3385</td>\n      <td>8.3385</td>\n      <td>67.4727</td>\n      <td>14.8208</td>\n      <td>140.0</td>\n      <td>140.0</td>\n      <td>NaN</td>\n      <td>NaN</td>\n      <td>14.8208</td>\n      <td>...</td>\n      <td>NaN</td>\n      <td>NaN</td>\n      <td>NaN</td>\n      <td>NaN</td>\n      <td>NaN</td>\n      <td>NaN</td>\n      <td>NaN</td>\n      <td>NaN</td>\n      <td>NaN</td>\n      <td>NaN</td>\n    </tr>\n    <tr>\n      <th>2</th>\n      <td>1050.0</td>\n      <td>9.4662</td>\n      <td>9.4662</td>\n      <td>170.1346</td>\n      <td>5.8777</td>\n      <td>NaN</td>\n      <td>NaN</td>\n      <td>NaN</td>\n      <td>NaN</td>\n      <td>5.8777</td>\n      <td>...</td>\n      <td>NaN</td>\n      <td>NaN</td>\n      <td>NaN</td>\n      <td>NaN</td>\n      <td>NaN</td>\n      <td>NaN</td>\n      <td>NaN</td>\n      <td>NaN</td>\n      <td>NaN</td>\n      <td>NaN</td>\n    </tr>\n    <tr>\n      <th>3</th>\n      <td>1100.0</td>\n      <td>10.6005</td>\n      <td>10.6005</td>\n      <td>234.4886</td>\n      <td>4.2646</td>\n      <td>NaN</td>\n      <td>NaN</td>\n      <td>NaN</td>\n      <td>NaN</td>\n      <td>4.2646</td>\n      <td>...</td>\n      <td>NaN</td>\n      <td>NaN</td>\n      <td>NaN</td>\n      <td>NaN</td>\n      <td>NaN</td>\n      <td>NaN</td>\n      <td>NaN</td>\n      <td>NaN</td>\n      <td>NaN</td>\n      <td>NaN</td>\n    </tr>\n    <tr>\n      <th>4</th>\n      <td>1150.0</td>\n      <td>11.3021</td>\n      <td>11.3021</td>\n      <td>194.5147</td>\n      <td>5.1410</td>\n      <td>NaN</td>\n      <td>NaN</td>\n      <td>NaN</td>\n      <td>NaN</td>\n      <td>5.1410</td>\n      <td>...</td>\n      <td>NaN</td>\n      <td>NaN</td>\n      <td>NaN</td>\n      <td>NaN</td>\n      <td>NaN</td>\n      <td>NaN</td>\n      <td>NaN</td>\n      <td>NaN</td>\n      <td>NaN</td>\n      <td>NaN</td>\n    </tr>\n  </tbody>\n</table>\n<p>5 rows × 796 columns</p>\n</div>"
     },
     "execution_count": 28,
     "metadata": {},
     "output_type": "execute_result"
    }
   ],
   "source": [
    "df_logs.head()"
   ],
   "metadata": {
    "collapsed": false,
    "pycharm": {
     "name": "#%%\n"
    }
   }
  },
  {
   "cell_type": "code",
   "execution_count": 32,
   "outputs": [
    {
     "data": {
      "text/plain": "           Depth    CALSED     CALWS    CONDWS   DRESWS      DTED      DTWS  \\\n708  1148.293963       NaN       NaN       NaN      NaN       NaN       NaN   \n709  1312.335958       NaN       NaN       NaN      NaN       NaN       NaN   \n710  1476.377953  272.6225  272.6225  107.1903   9.3292  282.3496  282.3496   \n711  1640.419948  246.7711  246.7711   60.4869  16.5325  231.5233  231.5233   \n712  1804.461942  276.3381  276.3381  150.7068   6.6354  308.0164  308.0164   \n\n       GRSED     GRWS    ILDED  ...  AF90  AF10ED  AF90ED  DPHZED  TNPHED  \\\n708  37.9658  37.9658      NaN  ...   NaN     NaN     NaN     NaN     NaN   \n709  30.1771  30.1771      NaN  ...   NaN     NaN     NaN     NaN     NaN   \n710  55.7633  55.7633   9.3292  ...   NaN     NaN     NaN     NaN     NaN   \n711  56.0243  56.0243  16.5325  ...   NaN     NaN     NaN     NaN     NaN   \n712  82.0579  82.0579   6.6354  ...   NaN     NaN     NaN     NaN     NaN   \n\n     CHTD ARFL ASGU  LL3ED  LL3  \n708   NaN  NaN  NaN    NaN  NaN  \n709   NaN  NaN  NaN    NaN  NaN  \n710   NaN  NaN  NaN    NaN  NaN  \n711   NaN  NaN  NaN    NaN  NaN  \n712   NaN  NaN  NaN    NaN  NaN  \n\n[5 rows x 796 columns]",
      "text/html": "<div>\n<style scoped>\n    .dataframe tbody tr th:only-of-type {\n        vertical-align: middle;\n    }\n\n    .dataframe tbody tr th {\n        vertical-align: top;\n    }\n\n    .dataframe thead th {\n        text-align: right;\n    }\n</style>\n<table border=\"1\" class=\"dataframe\">\n  <thead>\n    <tr style=\"text-align: right;\">\n      <th></th>\n      <th>Depth</th>\n      <th>CALSED</th>\n      <th>CALWS</th>\n      <th>CONDWS</th>\n      <th>DRESWS</th>\n      <th>DTED</th>\n      <th>DTWS</th>\n      <th>GRSED</th>\n      <th>GRWS</th>\n      <th>ILDED</th>\n      <th>...</th>\n      <th>AF90</th>\n      <th>AF10ED</th>\n      <th>AF90ED</th>\n      <th>DPHZED</th>\n      <th>TNPHED</th>\n      <th>CHTD</th>\n      <th>ARFL</th>\n      <th>ASGU</th>\n      <th>LL3ED</th>\n      <th>LL3</th>\n    </tr>\n  </thead>\n  <tbody>\n    <tr>\n      <th>708</th>\n      <td>1148.293963</td>\n      <td>NaN</td>\n      <td>NaN</td>\n      <td>NaN</td>\n      <td>NaN</td>\n      <td>NaN</td>\n      <td>NaN</td>\n      <td>37.9658</td>\n      <td>37.9658</td>\n      <td>NaN</td>\n      <td>...</td>\n      <td>NaN</td>\n      <td>NaN</td>\n      <td>NaN</td>\n      <td>NaN</td>\n      <td>NaN</td>\n      <td>NaN</td>\n      <td>NaN</td>\n      <td>NaN</td>\n      <td>NaN</td>\n      <td>NaN</td>\n    </tr>\n    <tr>\n      <th>709</th>\n      <td>1312.335958</td>\n      <td>NaN</td>\n      <td>NaN</td>\n      <td>NaN</td>\n      <td>NaN</td>\n      <td>NaN</td>\n      <td>NaN</td>\n      <td>30.1771</td>\n      <td>30.1771</td>\n      <td>NaN</td>\n      <td>...</td>\n      <td>NaN</td>\n      <td>NaN</td>\n      <td>NaN</td>\n      <td>NaN</td>\n      <td>NaN</td>\n      <td>NaN</td>\n      <td>NaN</td>\n      <td>NaN</td>\n      <td>NaN</td>\n      <td>NaN</td>\n    </tr>\n    <tr>\n      <th>710</th>\n      <td>1476.377953</td>\n      <td>272.6225</td>\n      <td>272.6225</td>\n      <td>107.1903</td>\n      <td>9.3292</td>\n      <td>282.3496</td>\n      <td>282.3496</td>\n      <td>55.7633</td>\n      <td>55.7633</td>\n      <td>9.3292</td>\n      <td>...</td>\n      <td>NaN</td>\n      <td>NaN</td>\n      <td>NaN</td>\n      <td>NaN</td>\n      <td>NaN</td>\n      <td>NaN</td>\n      <td>NaN</td>\n      <td>NaN</td>\n      <td>NaN</td>\n      <td>NaN</td>\n    </tr>\n    <tr>\n      <th>711</th>\n      <td>1640.419948</td>\n      <td>246.7711</td>\n      <td>246.7711</td>\n      <td>60.4869</td>\n      <td>16.5325</td>\n      <td>231.5233</td>\n      <td>231.5233</td>\n      <td>56.0243</td>\n      <td>56.0243</td>\n      <td>16.5325</td>\n      <td>...</td>\n      <td>NaN</td>\n      <td>NaN</td>\n      <td>NaN</td>\n      <td>NaN</td>\n      <td>NaN</td>\n      <td>NaN</td>\n      <td>NaN</td>\n      <td>NaN</td>\n      <td>NaN</td>\n      <td>NaN</td>\n    </tr>\n    <tr>\n      <th>712</th>\n      <td>1804.461942</td>\n      <td>276.3381</td>\n      <td>276.3381</td>\n      <td>150.7068</td>\n      <td>6.6354</td>\n      <td>308.0164</td>\n      <td>308.0164</td>\n      <td>82.0579</td>\n      <td>82.0579</td>\n      <td>6.6354</td>\n      <td>...</td>\n      <td>NaN</td>\n      <td>NaN</td>\n      <td>NaN</td>\n      <td>NaN</td>\n      <td>NaN</td>\n      <td>NaN</td>\n      <td>NaN</td>\n      <td>NaN</td>\n      <td>NaN</td>\n      <td>NaN</td>\n    </tr>\n  </tbody>\n</table>\n<p>5 rows × 796 columns</p>\n</div>"
     },
     "execution_count": 32,
     "metadata": {},
     "output_type": "execute_result"
    }
   ],
   "source": [
    "well_1 = df_logs[df_logs[\"UWI\"] == '100011804403W500']#log = welly.Well.to_las(well)\n",
    "well_1.head()"
   ],
   "metadata": {
    "collapsed": false,
    "pycharm": {
     "name": "#%%\n"
    }
   }
  },
  {
   "cell_type": "code",
   "execution_count": null,
   "outputs": [],
   "source": [
    "df_logs_dvnay.UWI"
   ],
   "metadata": {
    "collapsed": false,
    "pycharm": {
     "name": "#%%\n"
    }
   }
  },
  {
   "cell_type": "code",
   "execution_count": null,
   "outputs": [],
   "source": [],
   "metadata": {
    "collapsed": false,
    "pycharm": {
     "name": "#%% Estimating average value for well logs\n"
    }
   }
  },
  {
   "cell_type": "markdown",
   "source": [
    "# Testing merge of well logs with formation tops"
   ],
   "metadata": {
    "collapsed": false,
    "pycharm": {
     "name": "#%% md\n"
    }
   }
  },
  {
   "cell_type": "code",
   "execution_count": null,
   "outputs": [],
   "source": [
    "# Filtering a well by UWI\n",
    "well_1 = df_logs_dvnay[df_logs_dvnay[\"UWI\"] == '100011804403W500']\n",
    "well_2 = df_logs_dvnay[df_logs_dvnay[\"UWI\"] == '100041903905W500']\n",
    "well_3 = df_logs_dvnay[df_logs_dvnay[\"UWI\"] == '106141105522W400']\n",
    "# print(well_1.columns)\n"
   ],
   "metadata": {
    "collapsed": false,
    "pycharm": {
     "name": "#%%\n"
    }
   }
  },
  {
   "cell_type": "code",
   "execution_count": 35,
   "outputs": [
    {
     "data": {
      "text/plain": "           Depth     basin\n708  1148.293963  Duvernay\n709  1312.335958  Duvernay\n710  1476.377953  Duvernay\n711  1640.419948  Duvernay\n712  1804.461942  Duvernay\n713  1968.503937  Duvernay\n714  2132.545932  Duvernay\n715  2296.587927  Duvernay\n716  2460.629921  Duvernay\n717  2624.671916  Duvernay\n718  2788.713911  Duvernay\n719  2952.755906  Duvernay\n720  3116.797900  Duvernay\n721  3280.839895  Duvernay\n722  3444.881890  Duvernay\n723  3608.923885  Duvernay\n724  3772.965879  Duvernay\n725  3937.007874  Duvernay\n726  4101.049869  Duvernay\n727  4265.091864  Duvernay\n728  4429.133858  Duvernay\n729  4593.175853  Duvernay\n730  4757.217848  Duvernay\n731  4921.259843  Duvernay\n732  5085.301837  Duvernay\n733  5249.343832  Duvernay\n734  5413.385827  Duvernay\n735  5577.427822  Duvernay\n736  5741.469816  Duvernay\n737  5905.511811  Duvernay\n738  6069.553806  Duvernay\n739  6233.595801  Duvernay\n740  6397.637795  Duvernay\n741  6561.679790  Duvernay\n742  6725.721785  Duvernay\n743  6889.763780  Duvernay\n744  7053.805774  Duvernay\n745  7217.847769  Duvernay\n746  7381.889764  Duvernay\n747  7545.931759  Duvernay\n748  7709.973753  Duvernay\n749  7874.015748  Duvernay\n750  8038.057743  Duvernay\n751  8202.099738  Duvernay\n752  8366.141732  Duvernay\n753  8530.183727  Duvernay\n754  8694.225722  Duvernay\n755  8858.267717  Duvernay\n756  9022.309711  Duvernay\n757  1148.293963  Duvernay",
      "text/html": "<div>\n<style scoped>\n    .dataframe tbody tr th:only-of-type {\n        vertical-align: middle;\n    }\n\n    .dataframe tbody tr th {\n        vertical-align: top;\n    }\n\n    .dataframe thead th {\n        text-align: right;\n    }\n</style>\n<table border=\"1\" class=\"dataframe\">\n  <thead>\n    <tr style=\"text-align: right;\">\n      <th></th>\n      <th>Depth</th>\n      <th>basin</th>\n    </tr>\n  </thead>\n  <tbody>\n    <tr>\n      <th>708</th>\n      <td>1148.293963</td>\n      <td>Duvernay</td>\n    </tr>\n    <tr>\n      <th>709</th>\n      <td>1312.335958</td>\n      <td>Duvernay</td>\n    </tr>\n    <tr>\n      <th>710</th>\n      <td>1476.377953</td>\n      <td>Duvernay</td>\n    </tr>\n    <tr>\n      <th>711</th>\n      <td>1640.419948</td>\n      <td>Duvernay</td>\n    </tr>\n    <tr>\n      <th>712</th>\n      <td>1804.461942</td>\n      <td>Duvernay</td>\n    </tr>\n    <tr>\n      <th>713</th>\n      <td>1968.503937</td>\n      <td>Duvernay</td>\n    </tr>\n    <tr>\n      <th>714</th>\n      <td>2132.545932</td>\n      <td>Duvernay</td>\n    </tr>\n    <tr>\n      <th>715</th>\n      <td>2296.587927</td>\n      <td>Duvernay</td>\n    </tr>\n    <tr>\n      <th>716</th>\n      <td>2460.629921</td>\n      <td>Duvernay</td>\n    </tr>\n    <tr>\n      <th>717</th>\n      <td>2624.671916</td>\n      <td>Duvernay</td>\n    </tr>\n    <tr>\n      <th>718</th>\n      <td>2788.713911</td>\n      <td>Duvernay</td>\n    </tr>\n    <tr>\n      <th>719</th>\n      <td>2952.755906</td>\n      <td>Duvernay</td>\n    </tr>\n    <tr>\n      <th>720</th>\n      <td>3116.797900</td>\n      <td>Duvernay</td>\n    </tr>\n    <tr>\n      <th>721</th>\n      <td>3280.839895</td>\n      <td>Duvernay</td>\n    </tr>\n    <tr>\n      <th>722</th>\n      <td>3444.881890</td>\n      <td>Duvernay</td>\n    </tr>\n    <tr>\n      <th>723</th>\n      <td>3608.923885</td>\n      <td>Duvernay</td>\n    </tr>\n    <tr>\n      <th>724</th>\n      <td>3772.965879</td>\n      <td>Duvernay</td>\n    </tr>\n    <tr>\n      <th>725</th>\n      <td>3937.007874</td>\n      <td>Duvernay</td>\n    </tr>\n    <tr>\n      <th>726</th>\n      <td>4101.049869</td>\n      <td>Duvernay</td>\n    </tr>\n    <tr>\n      <th>727</th>\n      <td>4265.091864</td>\n      <td>Duvernay</td>\n    </tr>\n    <tr>\n      <th>728</th>\n      <td>4429.133858</td>\n      <td>Duvernay</td>\n    </tr>\n    <tr>\n      <th>729</th>\n      <td>4593.175853</td>\n      <td>Duvernay</td>\n    </tr>\n    <tr>\n      <th>730</th>\n      <td>4757.217848</td>\n      <td>Duvernay</td>\n    </tr>\n    <tr>\n      <th>731</th>\n      <td>4921.259843</td>\n      <td>Duvernay</td>\n    </tr>\n    <tr>\n      <th>732</th>\n      <td>5085.301837</td>\n      <td>Duvernay</td>\n    </tr>\n    <tr>\n      <th>733</th>\n      <td>5249.343832</td>\n      <td>Duvernay</td>\n    </tr>\n    <tr>\n      <th>734</th>\n      <td>5413.385827</td>\n      <td>Duvernay</td>\n    </tr>\n    <tr>\n      <th>735</th>\n      <td>5577.427822</td>\n      <td>Duvernay</td>\n    </tr>\n    <tr>\n      <th>736</th>\n      <td>5741.469816</td>\n      <td>Duvernay</td>\n    </tr>\n    <tr>\n      <th>737</th>\n      <td>5905.511811</td>\n      <td>Duvernay</td>\n    </tr>\n    <tr>\n      <th>738</th>\n      <td>6069.553806</td>\n      <td>Duvernay</td>\n    </tr>\n    <tr>\n      <th>739</th>\n      <td>6233.595801</td>\n      <td>Duvernay</td>\n    </tr>\n    <tr>\n      <th>740</th>\n      <td>6397.637795</td>\n      <td>Duvernay</td>\n    </tr>\n    <tr>\n      <th>741</th>\n      <td>6561.679790</td>\n      <td>Duvernay</td>\n    </tr>\n    <tr>\n      <th>742</th>\n      <td>6725.721785</td>\n      <td>Duvernay</td>\n    </tr>\n    <tr>\n      <th>743</th>\n      <td>6889.763780</td>\n      <td>Duvernay</td>\n    </tr>\n    <tr>\n      <th>744</th>\n      <td>7053.805774</td>\n      <td>Duvernay</td>\n    </tr>\n    <tr>\n      <th>745</th>\n      <td>7217.847769</td>\n      <td>Duvernay</td>\n    </tr>\n    <tr>\n      <th>746</th>\n      <td>7381.889764</td>\n      <td>Duvernay</td>\n    </tr>\n    <tr>\n      <th>747</th>\n      <td>7545.931759</td>\n      <td>Duvernay</td>\n    </tr>\n    <tr>\n      <th>748</th>\n      <td>7709.973753</td>\n      <td>Duvernay</td>\n    </tr>\n    <tr>\n      <th>749</th>\n      <td>7874.015748</td>\n      <td>Duvernay</td>\n    </tr>\n    <tr>\n      <th>750</th>\n      <td>8038.057743</td>\n      <td>Duvernay</td>\n    </tr>\n    <tr>\n      <th>751</th>\n      <td>8202.099738</td>\n      <td>Duvernay</td>\n    </tr>\n    <tr>\n      <th>752</th>\n      <td>8366.141732</td>\n      <td>Duvernay</td>\n    </tr>\n    <tr>\n      <th>753</th>\n      <td>8530.183727</td>\n      <td>Duvernay</td>\n    </tr>\n    <tr>\n      <th>754</th>\n      <td>8694.225722</td>\n      <td>Duvernay</td>\n    </tr>\n    <tr>\n      <th>755</th>\n      <td>8858.267717</td>\n      <td>Duvernay</td>\n    </tr>\n    <tr>\n      <th>756</th>\n      <td>9022.309711</td>\n      <td>Duvernay</td>\n    </tr>\n    <tr>\n      <th>757</th>\n      <td>1148.293963</td>\n      <td>Duvernay</td>\n    </tr>\n  </tbody>\n</table>\n</div>"
     },
     "execution_count": 35,
     "metadata": {},
     "output_type": "execute_result"
    }
   ],
   "source": [
    "well_1[['Depth', 'basin']].head(50)"
   ],
   "metadata": {
    "collapsed": false,
    "pycharm": {
     "name": "#%%\n"
    }
   }
  },
  {
   "cell_type": "code",
   "execution_count": 36,
   "outputs": [
    {
     "data": {
      "text/plain": "0                     Battle\n1                   Lea Park\n2    st White Speckled Shale\n3    nd White Speckled Shale\n4                Fish scales\nName: formation, dtype: object"
     },
     "execution_count": 36,
     "metadata": {},
     "output_type": "execute_result"
    }
   ],
   "source": [
    "s = tops_df[tops_df['UWI'] == '100011804403W500']\n",
    "s['formation'].head()\n"
   ],
   "metadata": {
    "collapsed": false,
    "pycharm": {
     "name": "#%%\n"
    }
   }
  },
  {
   "cell_type": "code",
   "execution_count": null,
   "outputs": [],
   "source": [
    "well_2['formation'].unique()"
   ],
   "metadata": {
    "collapsed": false,
    "pycharm": {
     "name": "#%%\n"
    }
   }
  },
  {
   "cell_type": "code",
   "execution_count": null,
   "outputs": [],
   "source": [
    "n = tops_df[tops_df['UWI'] == '100041903905W500']\n",
    "n['formation']"
   ],
   "metadata": {
    "collapsed": false,
    "pycharm": {
     "name": "#%%\n"
    }
   }
  },
  {
   "cell_type": "code",
   "execution_count": null,
   "outputs": [],
   "source": [
    "well_3['formation'].unique()"
   ],
   "metadata": {
    "collapsed": false,
    "pycharm": {
     "name": "#%%\n"
    }
   }
  },
  {
   "cell_type": "code",
   "execution_count": null,
   "outputs": [],
   "source": [
    "t = tops_df[tops_df['UWI'] == '106141105522W400']\n",
    "t['formation']\n"
   ],
   "metadata": {
    "collapsed": false,
    "pycharm": {
     "name": "#%%\n"
    }
   }
  }
 ],
 "metadata": {
  "kernelspec": {
   "display_name": "Python 3",
   "language": "python",
   "name": "python3"
  },
  "language_info": {
   "codemirror_mode": {
    "name": "ipython",
    "version": 2
   },
   "file_extension": ".py",
   "mimetype": "text/x-python",
   "name": "python",
   "nbconvert_exporter": "python",
   "pygments_lexer": "ipython2",
   "version": "2.7.6"
  }
 },
 "nbformat": 4,
 "nbformat_minor": 0
}