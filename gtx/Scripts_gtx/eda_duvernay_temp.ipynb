{
 "cells": [
  {
   "cell_type": "markdown",
   "metadata": {},
   "source": [
    "## 1.1 Import some great packages\n"
   ]
  },
  {
   "cell_type": "code",
   "execution_count": 96,
   "metadata": {
    "pycharm": {
     "name": "#%%\n"
    }
   },
   "outputs": [],
   "source": [
    "import pandas as pd\n",
    "import numpy as np\n",
    "import seaborn as sns\n",
    "import matplotlib.pyplot as plt\n",
    "import geopandas as gpd\n",
    "from base import ROOT_DIR"
   ]
  },
  {
   "cell_type": "markdown",
   "metadata": {},
   "source": [
    "## 1.2 Load the data"
   ]
  },
  {
   "cell_type": "code",
   "execution_count": 97,
   "metadata": {
    "pycharm": {
     "name": "#%%\n"
    }
   },
   "outputs": [],
   "source": [
    "# set paths of different subdirectories\n",
    "dir_duvernay = ROOT_DIR / 'gtx/data/Duvernay/Duvernay/'\n",
    "# 3 Organize Duvernay temperature data"
   ]
  },
  {
   "cell_type": "markdown",
   "metadata": {},
   "source": [
    "## 2.1 Read in DST BHT input and \"true temp\" synthetic data"
   ]
  },
  {
   "cell_type": "code",
   "execution_count": 98,
   "metadata": {
    "pycharm": {
     "name": "#%%\n"
    }
   },
   "outputs": [
    {
     "data": {
      "text/html": [
       "<div>\n",
       "<style scoped>\n",
       "    .dataframe tbody tr th:only-of-type {\n",
       "        vertical-align: middle;\n",
       "    }\n",
       "\n",
       "    .dataframe tbody tr th {\n",
       "        vertical-align: top;\n",
       "    }\n",
       "\n",
       "    .dataframe thead th {\n",
       "        text-align: right;\n",
       "    }\n",
       "</style>\n",
       "<table border=\"1\" class=\"dataframe\">\n",
       "  <thead>\n",
       "    <tr style=\"text-align: right;\">\n",
       "      <th></th>\n",
       "      <th>UWI</th>\n",
       "      <th>Depths subsea (m)</th>\n",
       "      <th>True Temperature (oC)</th>\n",
       "    </tr>\n",
       "  </thead>\n",
       "  <tbody>\n",
       "    <tr>\n",
       "      <th>0</th>\n",
       "      <td>100010107020W500</td>\n",
       "      <td>-720</td>\n",
       "      <td>2.53</td>\n",
       "    </tr>\n",
       "    <tr>\n",
       "      <th>1</th>\n",
       "      <td>100010107020W500</td>\n",
       "      <td>-700</td>\n",
       "      <td>2.54</td>\n",
       "    </tr>\n",
       "    <tr>\n",
       "      <th>2</th>\n",
       "      <td>100010107020W500</td>\n",
       "      <td>-680</td>\n",
       "      <td>2.54</td>\n",
       "    </tr>\n",
       "    <tr>\n",
       "      <th>3</th>\n",
       "      <td>100010107020W500</td>\n",
       "      <td>-660</td>\n",
       "      <td>3.30</td>\n",
       "    </tr>\n",
       "    <tr>\n",
       "      <th>4</th>\n",
       "      <td>100010107020W500</td>\n",
       "      <td>-640</td>\n",
       "      <td>4.06</td>\n",
       "    </tr>\n",
       "  </tbody>\n",
       "</table>\n",
       "</div>"
      ],
      "text/plain": [
       "                UWI  Depths subsea (m)  True Temperature (oC)\n",
       "0  100010107020W500               -720                   2.53\n",
       "1  100010107020W500               -700                   2.54\n",
       "2  100010107020W500               -680                   2.54\n",
       "3  100010107020W500               -660                   3.30\n",
       "4  100010107020W500               -640                   4.06"
      ]
     },
     "execution_count": 98,
     "metadata": {},
     "output_type": "execute_result"
    }
   ],
   "source": [
    "Duvernay_Truth = pd.read_excel(dir_duvernay / 'Duvenay TrueTemp_Train.xlsx')\n",
    "Duvernay_DST = pd.read_excel(dir_duvernay / 'Duvernay DST BHT for SPE April 20 2021.xlsx')\n",
    "Duvernay_Truth.head()"
   ]
  },
  {
   "cell_type": "code",
   "execution_count": 99,
   "metadata": {},
   "outputs": [
    {
     "data": {
      "text/html": [
       "<div>\n",
       "<style scoped>\n",
       "    .dataframe tbody tr th:only-of-type {\n",
       "        vertical-align: middle;\n",
       "    }\n",
       "\n",
       "    .dataframe tbody tr th {\n",
       "        vertical-align: top;\n",
       "    }\n",
       "\n",
       "    .dataframe thead th {\n",
       "        text-align: right;\n",
       "    }\n",
       "</style>\n",
       "<table border=\"1\" class=\"dataframe\">\n",
       "  <thead>\n",
       "    <tr style=\"text-align: right;\">\n",
       "      <th></th>\n",
       "      <th>Well ID</th>\n",
       "      <th>DST Start Depth (MD) (m)</th>\n",
       "      <th>DST End Depth (MD) (m)</th>\n",
       "      <th>DST Bottom Hole Temp. (degC)</th>\n",
       "      <th>DST Test Date</th>\n",
       "      <th>Test Type</th>\n",
       "      <th>DST Misrun</th>\n",
       "      <th>DST Number</th>\n",
       "      <th>Formation DSTd</th>\n",
       "      <th>Unnamed: 9</th>\n",
       "      <th>elevation M above sea level</th>\n",
       "      <th>UWI</th>\n",
       "    </tr>\n",
       "  </thead>\n",
       "  <tbody>\n",
       "    <tr>\n",
       "      <th>0</th>\n",
       "      <td>100010107020W500</td>\n",
       "      <td>1410.6</td>\n",
       "      <td>1423.4</td>\n",
       "      <td>48.33</td>\n",
       "      <td>26025</td>\n",
       "      <td>DST</td>\n",
       "      <td>N</td>\n",
       "      <td>2</td>\n",
       "      <td>TRmontney</td>\n",
       "      <td>NaN</td>\n",
       "      <td>701.0</td>\n",
       "      <td>100010107020W500</td>\n",
       "    </tr>\n",
       "    <tr>\n",
       "      <th>1</th>\n",
       "      <td>100010608109W500</td>\n",
       "      <td>1686.0</td>\n",
       "      <td>1694.0</td>\n",
       "      <td>34.26</td>\n",
       "      <td>33647</td>\n",
       "      <td>DST</td>\n",
       "      <td>N</td>\n",
       "      <td>1</td>\n",
       "      <td>Dmuskeg</td>\n",
       "      <td>NaN</td>\n",
       "      <td>645.6</td>\n",
       "      <td>100010608109W500</td>\n",
       "    </tr>\n",
       "    <tr>\n",
       "      <th>2</th>\n",
       "      <td>100010904012W500</td>\n",
       "      <td>3698.0</td>\n",
       "      <td>3718.0</td>\n",
       "      <td>104.40</td>\n",
       "      <td>30798</td>\n",
       "      <td>LRT</td>\n",
       "      <td>N</td>\n",
       "      <td>1</td>\n",
       "      <td>Melkton</td>\n",
       "      <td>NaN</td>\n",
       "      <td>1283.8</td>\n",
       "      <td>100010904012W500</td>\n",
       "    </tr>\n",
       "    <tr>\n",
       "      <th>3</th>\n",
       "      <td>100011206021W400</td>\n",
       "      <td>822.0</td>\n",
       "      <td>825.0</td>\n",
       "      <td>29.00</td>\n",
       "      <td>29543</td>\n",
       "      <td>DST</td>\n",
       "      <td>N</td>\n",
       "      <td>4</td>\n",
       "      <td>Dwintrbrn</td>\n",
       "      <td>NaN</td>\n",
       "      <td>651.6</td>\n",
       "      <td>100011206021W400</td>\n",
       "    </tr>\n",
       "    <tr>\n",
       "      <th>4</th>\n",
       "      <td>100011506915W500</td>\n",
       "      <td>1801.0</td>\n",
       "      <td>1818.0</td>\n",
       "      <td>64.00</td>\n",
       "      <td>30760</td>\n",
       "      <td>DST</td>\n",
       "      <td>N</td>\n",
       "      <td>4</td>\n",
       "      <td>Dwabamun</td>\n",
       "      <td>NaN</td>\n",
       "      <td>873.1</td>\n",
       "      <td>100011506915W500</td>\n",
       "    </tr>\n",
       "  </tbody>\n",
       "</table>\n",
       "</div>"
      ],
      "text/plain": [
       "            Well ID  DST Start Depth (MD) (m)  DST End Depth (MD) (m)  \\\n",
       "0  100010107020W500                    1410.6                  1423.4   \n",
       "1  100010608109W500                    1686.0                  1694.0   \n",
       "2  100010904012W500                    3698.0                  3718.0   \n",
       "3  100011206021W400                     822.0                   825.0   \n",
       "4  100011506915W500                    1801.0                  1818.0   \n",
       "\n",
       "   DST Bottom Hole Temp. (degC)  DST Test Date Test Type DST Misrun  \\\n",
       "0                         48.33          26025       DST          N   \n",
       "1                         34.26          33647       DST          N   \n",
       "2                        104.40          30798       LRT          N   \n",
       "3                         29.00          29543       DST          N   \n",
       "4                         64.00          30760       DST          N   \n",
       "\n",
       "   DST Number Formation DSTd  Unnamed: 9  elevation M above sea level  \\\n",
       "0           2      TRmontney         NaN                        701.0   \n",
       "1           1        Dmuskeg         NaN                        645.6   \n",
       "2           1        Melkton         NaN                       1283.8   \n",
       "3           4      Dwintrbrn         NaN                        651.6   \n",
       "4           4       Dwabamun         NaN                        873.1   \n",
       "\n",
       "                UWI  \n",
       "0  100010107020W500  \n",
       "1  100010608109W500  \n",
       "2  100010904012W500  \n",
       "3  100011206021W400  \n",
       "4  100011506915W500  "
      ]
     },
     "execution_count": 99,
     "metadata": {},
     "output_type": "execute_result"
    }
   ],
   "source": [
    "Duvernay_DST.head()"
   ]
  },
  {
   "cell_type": "code",
   "execution_count": 100,
   "metadata": {
    "pycharm": {
     "name": "#%%\n"
    }
   },
   "outputs": [
    {
     "data": {
      "text/html": [
       "<div>\n",
       "<style scoped>\n",
       "    .dataframe tbody tr th:only-of-type {\n",
       "        vertical-align: middle;\n",
       "    }\n",
       "\n",
       "    .dataframe tbody tr th {\n",
       "        vertical-align: top;\n",
       "    }\n",
       "\n",
       "    .dataframe thead th {\n",
       "        text-align: right;\n",
       "    }\n",
       "</style>\n",
       "<table border=\"1\" class=\"dataframe\">\n",
       "  <thead>\n",
       "    <tr style=\"text-align: right;\">\n",
       "      <th></th>\n",
       "      <th>Well ID</th>\n",
       "      <th>DST Start Depth (MD) (m)</th>\n",
       "      <th>DST End Depth (MD) (m)</th>\n",
       "      <th>DST Bottom Hole Temp. (degC)</th>\n",
       "      <th>DST Test Date</th>\n",
       "      <th>Test Type</th>\n",
       "      <th>DST Misrun</th>\n",
       "      <th>DST Number</th>\n",
       "      <th>Formation DSTd</th>\n",
       "      <th>Unnamed: 9</th>\n",
       "      <th>elevation M above sea level</th>\n",
       "      <th>UWI</th>\n",
       "      <th>Depth_SS(m)</th>\n",
       "    </tr>\n",
       "  </thead>\n",
       "  <tbody>\n",
       "    <tr>\n",
       "      <th>0</th>\n",
       "      <td>100010107020W500</td>\n",
       "      <td>1410.6</td>\n",
       "      <td>1423.4</td>\n",
       "      <td>48.33</td>\n",
       "      <td>26025</td>\n",
       "      <td>DST</td>\n",
       "      <td>N</td>\n",
       "      <td>2</td>\n",
       "      <td>TRmontney</td>\n",
       "      <td>NaN</td>\n",
       "      <td>701.0</td>\n",
       "      <td>100010107020W500</td>\n",
       "      <td>716.0</td>\n",
       "    </tr>\n",
       "    <tr>\n",
       "      <th>1</th>\n",
       "      <td>100010608109W500</td>\n",
       "      <td>1686.0</td>\n",
       "      <td>1694.0</td>\n",
       "      <td>34.26</td>\n",
       "      <td>33647</td>\n",
       "      <td>DST</td>\n",
       "      <td>N</td>\n",
       "      <td>1</td>\n",
       "      <td>Dmuskeg</td>\n",
       "      <td>NaN</td>\n",
       "      <td>645.6</td>\n",
       "      <td>100010608109W500</td>\n",
       "      <td>1044.4</td>\n",
       "    </tr>\n",
       "    <tr>\n",
       "      <th>2</th>\n",
       "      <td>100010904012W500</td>\n",
       "      <td>3698.0</td>\n",
       "      <td>3718.0</td>\n",
       "      <td>104.40</td>\n",
       "      <td>30798</td>\n",
       "      <td>LRT</td>\n",
       "      <td>N</td>\n",
       "      <td>1</td>\n",
       "      <td>Melkton</td>\n",
       "      <td>NaN</td>\n",
       "      <td>1283.8</td>\n",
       "      <td>100010904012W500</td>\n",
       "      <td>2424.2</td>\n",
       "    </tr>\n",
       "    <tr>\n",
       "      <th>3</th>\n",
       "      <td>100011206021W400</td>\n",
       "      <td>822.0</td>\n",
       "      <td>825.0</td>\n",
       "      <td>29.00</td>\n",
       "      <td>29543</td>\n",
       "      <td>DST</td>\n",
       "      <td>N</td>\n",
       "      <td>4</td>\n",
       "      <td>Dwintrbrn</td>\n",
       "      <td>NaN</td>\n",
       "      <td>651.6</td>\n",
       "      <td>100011206021W400</td>\n",
       "      <td>171.9</td>\n",
       "    </tr>\n",
       "    <tr>\n",
       "      <th>4</th>\n",
       "      <td>100011506915W500</td>\n",
       "      <td>1801.0</td>\n",
       "      <td>1818.0</td>\n",
       "      <td>64.00</td>\n",
       "      <td>30760</td>\n",
       "      <td>DST</td>\n",
       "      <td>N</td>\n",
       "      <td>4</td>\n",
       "      <td>Dwabamun</td>\n",
       "      <td>NaN</td>\n",
       "      <td>873.1</td>\n",
       "      <td>100011506915W500</td>\n",
       "      <td>936.4</td>\n",
       "    </tr>\n",
       "  </tbody>\n",
       "</table>\n",
       "</div>"
      ],
      "text/plain": [
       "            Well ID  DST Start Depth (MD) (m)  DST End Depth (MD) (m)  \\\n",
       "0  100010107020W500                    1410.6                  1423.4   \n",
       "1  100010608109W500                    1686.0                  1694.0   \n",
       "2  100010904012W500                    3698.0                  3718.0   \n",
       "3  100011206021W400                     822.0                   825.0   \n",
       "4  100011506915W500                    1801.0                  1818.0   \n",
       "\n",
       "   DST Bottom Hole Temp. (degC)  DST Test Date Test Type DST Misrun  \\\n",
       "0                         48.33          26025       DST          N   \n",
       "1                         34.26          33647       DST          N   \n",
       "2                        104.40          30798       LRT          N   \n",
       "3                         29.00          29543       DST          N   \n",
       "4                         64.00          30760       DST          N   \n",
       "\n",
       "   DST Number Formation DSTd  Unnamed: 9  elevation M above sea level  \\\n",
       "0           2      TRmontney         NaN                        701.0   \n",
       "1           1        Dmuskeg         NaN                        645.6   \n",
       "2           1        Melkton         NaN                       1283.8   \n",
       "3           4      Dwintrbrn         NaN                        651.6   \n",
       "4           4       Dwabamun         NaN                        873.1   \n",
       "\n",
       "                UWI  Depth_SS(m)  \n",
       "0  100010107020W500        716.0  \n",
       "1  100010608109W500       1044.4  \n",
       "2  100010904012W500       2424.2  \n",
       "3  100011206021W400        171.9  \n",
       "4  100011506915W500        936.4  "
      ]
     },
     "execution_count": 100,
     "metadata": {},
     "output_type": "execute_result"
    }
   ],
   "source": [
    "# add in an extra column calculating the depth sub sea (elevation-depth)*-1\n",
    "Duvernay_DST['Depth_SS(m)']=-1*(Duvernay_DST['elevation M above sea level']-(Duvernay_DST['DST Start Depth (MD) (m)']+Duvernay_DST['DST End Depth (MD) (m)'])/2)\n",
    "Duvernay_DST.head()"
   ]
  },
  {
   "cell_type": "code",
   "execution_count": 101,
   "metadata": {
    "pycharm": {
     "name": "#%%\n"
    }
   },
   "outputs": [
    {
     "data": {
      "text/html": [
       "<div>\n",
       "<style scoped>\n",
       "    .dataframe tbody tr th:only-of-type {\n",
       "        vertical-align: middle;\n",
       "    }\n",
       "\n",
       "    .dataframe tbody tr th {\n",
       "        vertical-align: top;\n",
       "    }\n",
       "\n",
       "    .dataframe thead th {\n",
       "        text-align: right;\n",
       "    }\n",
       "</style>\n",
       "<table border=\"1\" class=\"dataframe\">\n",
       "  <thead>\n",
       "    <tr style=\"text-align: right;\">\n",
       "      <th></th>\n",
       "      <th>Well ID</th>\n",
       "      <th>DST Start Depth (MD) (m)</th>\n",
       "      <th>DST End Depth (MD) (m)</th>\n",
       "      <th>DST Bottom Hole Temp. (degC)</th>\n",
       "      <th>DST Test Date</th>\n",
       "      <th>Test Type</th>\n",
       "      <th>DST Misrun</th>\n",
       "      <th>DST Number</th>\n",
       "      <th>Formation DSTd</th>\n",
       "      <th>Unnamed: 9</th>\n",
       "      <th>elevation M above sea level</th>\n",
       "      <th>UWI</th>\n",
       "      <th>Depth_SS(m)</th>\n",
       "      <th>Depths subsea (m)</th>\n",
       "      <th>True Temperature (oC)</th>\n",
       "    </tr>\n",
       "  </thead>\n",
       "  <tbody>\n",
       "    <tr>\n",
       "      <th>0</th>\n",
       "      <td>100010107020W500</td>\n",
       "      <td>1410.6</td>\n",
       "      <td>1423.4</td>\n",
       "      <td>48.33</td>\n",
       "      <td>26025</td>\n",
       "      <td>DST</td>\n",
       "      <td>N</td>\n",
       "      <td>2</td>\n",
       "      <td>TRmontney</td>\n",
       "      <td>NaN</td>\n",
       "      <td>701.0</td>\n",
       "      <td>100010107020W500</td>\n",
       "      <td>716.0</td>\n",
       "      <td>-720.0</td>\n",
       "      <td>2.53</td>\n",
       "    </tr>\n",
       "    <tr>\n",
       "      <th>1</th>\n",
       "      <td>100010107020W500</td>\n",
       "      <td>1410.6</td>\n",
       "      <td>1423.4</td>\n",
       "      <td>48.33</td>\n",
       "      <td>26025</td>\n",
       "      <td>DST</td>\n",
       "      <td>N</td>\n",
       "      <td>2</td>\n",
       "      <td>TRmontney</td>\n",
       "      <td>NaN</td>\n",
       "      <td>701.0</td>\n",
       "      <td>100010107020W500</td>\n",
       "      <td>716.0</td>\n",
       "      <td>-700.0</td>\n",
       "      <td>2.54</td>\n",
       "    </tr>\n",
       "    <tr>\n",
       "      <th>2</th>\n",
       "      <td>100010107020W500</td>\n",
       "      <td>1410.6</td>\n",
       "      <td>1423.4</td>\n",
       "      <td>48.33</td>\n",
       "      <td>26025</td>\n",
       "      <td>DST</td>\n",
       "      <td>N</td>\n",
       "      <td>2</td>\n",
       "      <td>TRmontney</td>\n",
       "      <td>NaN</td>\n",
       "      <td>701.0</td>\n",
       "      <td>100010107020W500</td>\n",
       "      <td>716.0</td>\n",
       "      <td>-680.0</td>\n",
       "      <td>2.54</td>\n",
       "    </tr>\n",
       "    <tr>\n",
       "      <th>3</th>\n",
       "      <td>100010107020W500</td>\n",
       "      <td>1410.6</td>\n",
       "      <td>1423.4</td>\n",
       "      <td>48.33</td>\n",
       "      <td>26025</td>\n",
       "      <td>DST</td>\n",
       "      <td>N</td>\n",
       "      <td>2</td>\n",
       "      <td>TRmontney</td>\n",
       "      <td>NaN</td>\n",
       "      <td>701.0</td>\n",
       "      <td>100010107020W500</td>\n",
       "      <td>716.0</td>\n",
       "      <td>-660.0</td>\n",
       "      <td>3.30</td>\n",
       "    </tr>\n",
       "    <tr>\n",
       "      <th>4</th>\n",
       "      <td>100010107020W500</td>\n",
       "      <td>1410.6</td>\n",
       "      <td>1423.4</td>\n",
       "      <td>48.33</td>\n",
       "      <td>26025</td>\n",
       "      <td>DST</td>\n",
       "      <td>N</td>\n",
       "      <td>2</td>\n",
       "      <td>TRmontney</td>\n",
       "      <td>NaN</td>\n",
       "      <td>701.0</td>\n",
       "      <td>100010107020W500</td>\n",
       "      <td>716.0</td>\n",
       "      <td>-640.0</td>\n",
       "      <td>4.06</td>\n",
       "    </tr>\n",
       "  </tbody>\n",
       "</table>\n",
       "</div>"
      ],
      "text/plain": [
       "            Well ID  DST Start Depth (MD) (m)  DST End Depth (MD) (m)  \\\n",
       "0  100010107020W500                    1410.6                  1423.4   \n",
       "1  100010107020W500                    1410.6                  1423.4   \n",
       "2  100010107020W500                    1410.6                  1423.4   \n",
       "3  100010107020W500                    1410.6                  1423.4   \n",
       "4  100010107020W500                    1410.6                  1423.4   \n",
       "\n",
       "   DST Bottom Hole Temp. (degC)  DST Test Date Test Type DST Misrun  \\\n",
       "0                         48.33          26025       DST          N   \n",
       "1                         48.33          26025       DST          N   \n",
       "2                         48.33          26025       DST          N   \n",
       "3                         48.33          26025       DST          N   \n",
       "4                         48.33          26025       DST          N   \n",
       "\n",
       "   DST Number Formation DSTd  Unnamed: 9  elevation M above sea level  \\\n",
       "0           2      TRmontney         NaN                        701.0   \n",
       "1           2      TRmontney         NaN                        701.0   \n",
       "2           2      TRmontney         NaN                        701.0   \n",
       "3           2      TRmontney         NaN                        701.0   \n",
       "4           2      TRmontney         NaN                        701.0   \n",
       "\n",
       "                UWI  Depth_SS(m)  Depths subsea (m)  True Temperature (oC)  \n",
       "0  100010107020W500        716.0             -720.0                   2.53  \n",
       "1  100010107020W500        716.0             -700.0                   2.54  \n",
       "2  100010107020W500        716.0             -680.0                   2.54  \n",
       "3  100010107020W500        716.0             -660.0                   3.30  \n",
       "4  100010107020W500        716.0             -640.0                   4.06  "
      ]
     },
     "execution_count": 101,
     "metadata": {},
     "output_type": "execute_result"
    }
   ],
   "source": [
    "# merge\n",
    "Duvernay_Combined = Duvernay_DST.merge(Duvernay_Truth, on='UWI', how='left')\n",
    "Duvernay_Combined.head()"
   ]
  },
  {
   "cell_type": "code",
   "execution_count": 102,
   "metadata": {},
   "outputs": [
    {
     "data": {
      "text/plain": [
       "Index(['Well ID', 'DST Start Depth (MD) (m)', 'DST End Depth (MD) (m)',\n",
       "       'DST Bottom Hole Temp. (degC)', 'DST Test Date', 'Test Type',\n",
       "       'DST Misrun', 'DST Number', 'Formation DSTd', 'Unnamed: 9',\n",
       "       'elevation M above sea level', 'UWI', 'Depth_SS(m)',\n",
       "       'Depths subsea (m)', 'True Temperature (oC)'],\n",
       "      dtype='object')"
      ]
     },
     "execution_count": 102,
     "metadata": {},
     "output_type": "execute_result"
    }
   ],
   "source": [
    "Duvernay_Combined.columns"
   ]
  },
  {
   "cell_type": "code",
   "execution_count": 104,
   "metadata": {
    "pycharm": {
     "name": "#%%\n"
    }
   },
   "outputs": [
    {
     "data": {
      "text/html": [
       "<div>\n",
       "<style scoped>\n",
       "    .dataframe tbody tr th:only-of-type {\n",
       "        vertical-align: middle;\n",
       "    }\n",
       "\n",
       "    .dataframe tbody tr th {\n",
       "        vertical-align: top;\n",
       "    }\n",
       "\n",
       "    .dataframe thead th {\n",
       "        text-align: right;\n",
       "    }\n",
       "</style>\n",
       "<table border=\"1\" class=\"dataframe\">\n",
       "  <thead>\n",
       "    <tr style=\"text-align: right;\">\n",
       "      <th></th>\n",
       "      <th>Well ID</th>\n",
       "      <th>DST Start Depth (MD) (m)</th>\n",
       "      <th>DST End Depth (MD) (m)</th>\n",
       "      <th>DST Bottom Hole Temp. (degC)</th>\n",
       "      <th>DST Test Date</th>\n",
       "      <th>Test Type</th>\n",
       "      <th>DST Misrun</th>\n",
       "      <th>DST Number</th>\n",
       "      <th>Formation DSTd</th>\n",
       "      <th>Unnamed: 9</th>\n",
       "      <th>elevation M above sea level</th>\n",
       "      <th>UWI</th>\n",
       "      <th>Depth_SS(m)</th>\n",
       "      <th>diff_depth_abs</th>\n",
       "      <th>True Temperature (oC)</th>\n",
       "    </tr>\n",
       "  </thead>\n",
       "  <tbody>\n",
       "    <tr>\n",
       "      <th>0</th>\n",
       "      <td>100010107020W500</td>\n",
       "      <td>1410.6</td>\n",
       "      <td>1423.4</td>\n",
       "      <td>48.33</td>\n",
       "      <td>26025</td>\n",
       "      <td>DST</td>\n",
       "      <td>N</td>\n",
       "      <td>2</td>\n",
       "      <td>TRmontney</td>\n",
       "      <td>NaN</td>\n",
       "      <td>701.0</td>\n",
       "      <td>100010107020W500</td>\n",
       "      <td>716.0</td>\n",
       "      <td>4.0</td>\n",
       "      <td>60.97</td>\n",
       "    </tr>\n",
       "    <tr>\n",
       "      <th>1</th>\n",
       "      <td>100010608109W500</td>\n",
       "      <td>1686.0</td>\n",
       "      <td>1694.0</td>\n",
       "      <td>34.26</td>\n",
       "      <td>33647</td>\n",
       "      <td>DST</td>\n",
       "      <td>N</td>\n",
       "      <td>1</td>\n",
       "      <td>Dmuskeg</td>\n",
       "      <td>NaN</td>\n",
       "      <td>645.6</td>\n",
       "      <td>100010608109W500</td>\n",
       "      <td>1044.4</td>\n",
       "      <td>4.4</td>\n",
       "      <td>63.98</td>\n",
       "    </tr>\n",
       "    <tr>\n",
       "      <th>2</th>\n",
       "      <td>100010904012W500</td>\n",
       "      <td>3698.0</td>\n",
       "      <td>3718.0</td>\n",
       "      <td>104.40</td>\n",
       "      <td>30798</td>\n",
       "      <td>LRT</td>\n",
       "      <td>N</td>\n",
       "      <td>1</td>\n",
       "      <td>Melkton</td>\n",
       "      <td>NaN</td>\n",
       "      <td>1283.8</td>\n",
       "      <td>100010904012W500</td>\n",
       "      <td>2424.2</td>\n",
       "      <td>NaN</td>\n",
       "      <td>NaN</td>\n",
       "    </tr>\n",
       "    <tr>\n",
       "      <th>3</th>\n",
       "      <td>100011206021W400</td>\n",
       "      <td>822.0</td>\n",
       "      <td>825.0</td>\n",
       "      <td>29.00</td>\n",
       "      <td>29543</td>\n",
       "      <td>DST</td>\n",
       "      <td>N</td>\n",
       "      <td>4</td>\n",
       "      <td>Dwintrbrn</td>\n",
       "      <td>NaN</td>\n",
       "      <td>651.6</td>\n",
       "      <td>100011206021W400</td>\n",
       "      <td>171.9</td>\n",
       "      <td>8.1</td>\n",
       "      <td>39.07</td>\n",
       "    </tr>\n",
       "    <tr>\n",
       "      <th>4</th>\n",
       "      <td>100011506915W500</td>\n",
       "      <td>1801.0</td>\n",
       "      <td>1818.0</td>\n",
       "      <td>64.00</td>\n",
       "      <td>30760</td>\n",
       "      <td>DST</td>\n",
       "      <td>N</td>\n",
       "      <td>4</td>\n",
       "      <td>Dwabamun</td>\n",
       "      <td>NaN</td>\n",
       "      <td>873.1</td>\n",
       "      <td>100011506915W500</td>\n",
       "      <td>936.4</td>\n",
       "      <td>3.6</td>\n",
       "      <td>69.47</td>\n",
       "    </tr>\n",
       "  </tbody>\n",
       "</table>\n",
       "</div>"
      ],
      "text/plain": [
       "            Well ID  DST Start Depth (MD) (m)  DST End Depth (MD) (m)  \\\n",
       "0  100010107020W500                    1410.6                  1423.4   \n",
       "1  100010608109W500                    1686.0                  1694.0   \n",
       "2  100010904012W500                    3698.0                  3718.0   \n",
       "3  100011206021W400                     822.0                   825.0   \n",
       "4  100011506915W500                    1801.0                  1818.0   \n",
       "\n",
       "   DST Bottom Hole Temp. (degC)  DST Test Date Test Type DST Misrun  \\\n",
       "0                         48.33          26025       DST          N   \n",
       "1                         34.26          33647       DST          N   \n",
       "2                        104.40          30798       LRT          N   \n",
       "3                         29.00          29543       DST          N   \n",
       "4                         64.00          30760       DST          N   \n",
       "\n",
       "   DST Number Formation DSTd  Unnamed: 9  elevation M above sea level  \\\n",
       "0           2      TRmontney         NaN                        701.0   \n",
       "1           1        Dmuskeg         NaN                        645.6   \n",
       "2           1        Melkton         NaN                       1283.8   \n",
       "3           4      Dwintrbrn         NaN                        651.6   \n",
       "4           4       Dwabamun         NaN                        873.1   \n",
       "\n",
       "                UWI  Depth_SS(m)  diff_depth_abs  True Temperature (oC)  \n",
       "0  100010107020W500        716.0             4.0                  60.97  \n",
       "1  100010608109W500       1044.4             4.4                  63.98  \n",
       "2  100010904012W500       2424.2             NaN                    NaN  \n",
       "3  100011206021W400        171.9             8.1                  39.07  \n",
       "4  100011506915W500        936.4             3.6                  69.47  "
      ]
     },
     "execution_count": 104,
     "metadata": {},
     "output_type": "execute_result"
    }
   ],
   "source": [
    "# keep only the synthetic model temperature data for the relevant depths for which there is BHT measurement\n",
    "Duvernay_Combined['diff_depth'] = Duvernay_Combined['Depth_SS(m)']-Duvernay_Combined['Depths subsea (m)']\n",
    "Duvernay_Combined['diff_depth_abs'] = np.abs(Duvernay_Combined['diff_depth'])\n",
    "idx = Duvernay_Combined.groupby(['UWI'])['diff_depth_abs'].transform(min) == Duvernay_Combined['diff_depth_abs']\n",
    "\n",
    "TrueTempUWI = Duvernay_Combined.loc[idx, ['UWI', 'diff_depth_abs', 'True Temperature (oC)']]\n",
    "TrueTempUWI = TrueTempUWI.copy(deep=True)\n",
    "Duvernay_Combined_cln = Duvernay_DST.merge(TrueTempUWI, on='UWI', how='left')\n",
    "Duvernay_Combined_cln = Duvernay_Combined_cln.drop_duplicates(['UWI'])\n",
    "Duvernay_Combined_cln.head()"
   ]
  },
  {
   "cell_type": "markdown",
   "metadata": {},
   "source": [
    "## 2.2 Merge in static temperature log data"
   ]
  },
  {
   "cell_type": "code",
   "execution_count": 105,
   "metadata": {
    "pycharm": {
     "name": "#%%\n"
    }
   },
   "outputs": [],
   "source": [
    "Static_log_temp = pd.read_csv(ROOT_DIR / 'gtx/data/Data_static_logs.csv')\n",
    "Duvernay_Combined_cln['UWI'] = Duvernay_Combined_cln['UWI'].astype(str)\n",
    "Duvernay_Combined_cln = Duvernay_Combined_cln.copy(deep=True)\n",
    "Duvernay_Combined_cln['TrueTemp_datasource_syn'] = 'synthetic'\n",
    "Static_log_temp['TrueTemp_datasource_stat'] = 'static_temp_logs'\n",
    "Duvernay_Combined_stat = Duvernay_Combined_cln.merge(Static_log_temp, left_on='UWI',right_on='Well_ID', how='left')"
   ]
  },
  {
   "cell_type": "code",
   "execution_count": 106,
   "metadata": {
    "pycharm": {
     "name": "#%%\n"
    }
   },
   "outputs": [
    {
     "data": {
      "text/html": [
       "<div>\n",
       "<style scoped>\n",
       "    .dataframe tbody tr th:only-of-type {\n",
       "        vertical-align: middle;\n",
       "    }\n",
       "\n",
       "    .dataframe tbody tr th {\n",
       "        vertical-align: top;\n",
       "    }\n",
       "\n",
       "    .dataframe thead th {\n",
       "        text-align: right;\n",
       "    }\n",
       "</style>\n",
       "<table border=\"1\" class=\"dataframe\">\n",
       "  <thead>\n",
       "    <tr style=\"text-align: right;\">\n",
       "      <th></th>\n",
       "      <th>Well_ID</th>\n",
       "      <th>Depth (ft)</th>\n",
       "      <th>Temp (degC)</th>\n",
       "      <th>Field</th>\n",
       "      <th>TrueTemp_datasource_stat</th>\n",
       "    </tr>\n",
       "  </thead>\n",
       "  <tbody>\n",
       "    <tr>\n",
       "      <th>0</th>\n",
       "      <td>42013301930000</td>\n",
       "      <td>10700.0</td>\n",
       "      <td>132.778000</td>\n",
       "      <td>Eaglebine</td>\n",
       "      <td>static_temp_logs</td>\n",
       "    </tr>\n",
       "    <tr>\n",
       "      <th>1</th>\n",
       "      <td>42041305800000</td>\n",
       "      <td>7360.0</td>\n",
       "      <td>82.777778</td>\n",
       "      <td>Eaglebine</td>\n",
       "      <td>static_temp_logs</td>\n",
       "    </tr>\n",
       "    <tr>\n",
       "      <th>2</th>\n",
       "      <td>42041311700000</td>\n",
       "      <td>7828.0</td>\n",
       "      <td>118.888889</td>\n",
       "      <td>Eaglebine</td>\n",
       "      <td>static_temp_logs</td>\n",
       "    </tr>\n",
       "    <tr>\n",
       "      <th>3</th>\n",
       "      <td>42041311980000</td>\n",
       "      <td>7954.0</td>\n",
       "      <td>105.000000</td>\n",
       "      <td>Eaglebine</td>\n",
       "      <td>static_temp_logs</td>\n",
       "    </tr>\n",
       "    <tr>\n",
       "      <th>4</th>\n",
       "      <td>42051305380000</td>\n",
       "      <td>8380.0</td>\n",
       "      <td>111.111111</td>\n",
       "      <td>Eaglebine</td>\n",
       "      <td>static_temp_logs</td>\n",
       "    </tr>\n",
       "  </tbody>\n",
       "</table>\n",
       "</div>"
      ],
      "text/plain": [
       "          Well_ID  Depth (ft)  Temp (degC)      Field TrueTemp_datasource_stat\n",
       "0  42013301930000     10700.0   132.778000  Eaglebine         static_temp_logs\n",
       "1  42041305800000      7360.0    82.777778  Eaglebine         static_temp_logs\n",
       "2  42041311700000      7828.0   118.888889  Eaglebine         static_temp_logs\n",
       "3  42041311980000      7954.0   105.000000  Eaglebine         static_temp_logs\n",
       "4  42051305380000      8380.0   111.111111  Eaglebine         static_temp_logs"
      ]
     },
     "execution_count": 106,
     "metadata": {},
     "output_type": "execute_result"
    }
   ],
   "source": [
    "Static_log_temp.head()"
   ]
  },
  {
   "cell_type": "code",
   "execution_count": 107,
   "metadata": {
    "pycharm": {
     "name": "#%%\n"
    }
   },
   "outputs": [
    {
     "data": {
      "text/html": [
       "<div>\n",
       "<style scoped>\n",
       "    .dataframe tbody tr th:only-of-type {\n",
       "        vertical-align: middle;\n",
       "    }\n",
       "\n",
       "    .dataframe tbody tr th {\n",
       "        vertical-align: top;\n",
       "    }\n",
       "\n",
       "    .dataframe thead th {\n",
       "        text-align: right;\n",
       "    }\n",
       "</style>\n",
       "<table border=\"1\" class=\"dataframe\">\n",
       "  <thead>\n",
       "    <tr style=\"text-align: right;\">\n",
       "      <th></th>\n",
       "      <th>Well ID</th>\n",
       "      <th>DST Start Depth (MD) (m)</th>\n",
       "      <th>DST End Depth (MD) (m)</th>\n",
       "      <th>DST Bottom Hole Temp. (degC)</th>\n",
       "      <th>DST Test Date</th>\n",
       "      <th>Test Type</th>\n",
       "      <th>DST Misrun</th>\n",
       "      <th>DST Number</th>\n",
       "      <th>Formation DSTd</th>\n",
       "      <th>Unnamed: 9</th>\n",
       "      <th>...</th>\n",
       "      <th>diff_depth_abs</th>\n",
       "      <th>True Temperature (oC)</th>\n",
       "      <th>TrueTemp_datasource_syn</th>\n",
       "      <th>Well_ID</th>\n",
       "      <th>Depth (ft)</th>\n",
       "      <th>Temp (degC)</th>\n",
       "      <th>Field</th>\n",
       "      <th>TrueTemp_datasource_stat</th>\n",
       "      <th>TempC_Fin</th>\n",
       "      <th>TrueTemp_datasource</th>\n",
       "    </tr>\n",
       "  </thead>\n",
       "  <tbody>\n",
       "    <tr>\n",
       "      <th>0</th>\n",
       "      <td>100010107020W500</td>\n",
       "      <td>1410.6</td>\n",
       "      <td>1423.4</td>\n",
       "      <td>48.33</td>\n",
       "      <td>26025</td>\n",
       "      <td>DST</td>\n",
       "      <td>N</td>\n",
       "      <td>2</td>\n",
       "      <td>TRmontney</td>\n",
       "      <td>NaN</td>\n",
       "      <td>...</td>\n",
       "      <td>4.0</td>\n",
       "      <td>60.97</td>\n",
       "      <td>synthetic</td>\n",
       "      <td>NaN</td>\n",
       "      <td>NaN</td>\n",
       "      <td>NaN</td>\n",
       "      <td>NaN</td>\n",
       "      <td>NaN</td>\n",
       "      <td>60.97</td>\n",
       "      <td>synthetic</td>\n",
       "    </tr>\n",
       "    <tr>\n",
       "      <th>1</th>\n",
       "      <td>100010608109W500</td>\n",
       "      <td>1686.0</td>\n",
       "      <td>1694.0</td>\n",
       "      <td>34.26</td>\n",
       "      <td>33647</td>\n",
       "      <td>DST</td>\n",
       "      <td>N</td>\n",
       "      <td>1</td>\n",
       "      <td>Dmuskeg</td>\n",
       "      <td>NaN</td>\n",
       "      <td>...</td>\n",
       "      <td>4.4</td>\n",
       "      <td>63.98</td>\n",
       "      <td>synthetic</td>\n",
       "      <td>NaN</td>\n",
       "      <td>NaN</td>\n",
       "      <td>NaN</td>\n",
       "      <td>NaN</td>\n",
       "      <td>NaN</td>\n",
       "      <td>63.98</td>\n",
       "      <td>synthetic</td>\n",
       "    </tr>\n",
       "    <tr>\n",
       "      <th>2</th>\n",
       "      <td>100010904012W500</td>\n",
       "      <td>3698.0</td>\n",
       "      <td>3718.0</td>\n",
       "      <td>104.40</td>\n",
       "      <td>30798</td>\n",
       "      <td>LRT</td>\n",
       "      <td>N</td>\n",
       "      <td>1</td>\n",
       "      <td>Melkton</td>\n",
       "      <td>NaN</td>\n",
       "      <td>...</td>\n",
       "      <td>NaN</td>\n",
       "      <td>NaN</td>\n",
       "      <td>synthetic</td>\n",
       "      <td>NaN</td>\n",
       "      <td>NaN</td>\n",
       "      <td>NaN</td>\n",
       "      <td>NaN</td>\n",
       "      <td>NaN</td>\n",
       "      <td>NaN</td>\n",
       "      <td>synthetic</td>\n",
       "    </tr>\n",
       "    <tr>\n",
       "      <th>3</th>\n",
       "      <td>100011206021W400</td>\n",
       "      <td>822.0</td>\n",
       "      <td>825.0</td>\n",
       "      <td>29.00</td>\n",
       "      <td>29543</td>\n",
       "      <td>DST</td>\n",
       "      <td>N</td>\n",
       "      <td>4</td>\n",
       "      <td>Dwintrbrn</td>\n",
       "      <td>NaN</td>\n",
       "      <td>...</td>\n",
       "      <td>8.1</td>\n",
       "      <td>39.07</td>\n",
       "      <td>synthetic</td>\n",
       "      <td>NaN</td>\n",
       "      <td>NaN</td>\n",
       "      <td>NaN</td>\n",
       "      <td>NaN</td>\n",
       "      <td>NaN</td>\n",
       "      <td>39.07</td>\n",
       "      <td>synthetic</td>\n",
       "    </tr>\n",
       "    <tr>\n",
       "      <th>4</th>\n",
       "      <td>100011506915W500</td>\n",
       "      <td>1801.0</td>\n",
       "      <td>1818.0</td>\n",
       "      <td>64.00</td>\n",
       "      <td>30760</td>\n",
       "      <td>DST</td>\n",
       "      <td>N</td>\n",
       "      <td>4</td>\n",
       "      <td>Dwabamun</td>\n",
       "      <td>NaN</td>\n",
       "      <td>...</td>\n",
       "      <td>3.6</td>\n",
       "      <td>69.47</td>\n",
       "      <td>synthetic</td>\n",
       "      <td>NaN</td>\n",
       "      <td>NaN</td>\n",
       "      <td>NaN</td>\n",
       "      <td>NaN</td>\n",
       "      <td>NaN</td>\n",
       "      <td>69.47</td>\n",
       "      <td>synthetic</td>\n",
       "    </tr>\n",
       "  </tbody>\n",
       "</table>\n",
       "<p>5 rows × 23 columns</p>\n",
       "</div>"
      ],
      "text/plain": [
       "            Well ID  DST Start Depth (MD) (m)  DST End Depth (MD) (m)  \\\n",
       "0  100010107020W500                    1410.6                  1423.4   \n",
       "1  100010608109W500                    1686.0                  1694.0   \n",
       "2  100010904012W500                    3698.0                  3718.0   \n",
       "3  100011206021W400                     822.0                   825.0   \n",
       "4  100011506915W500                    1801.0                  1818.0   \n",
       "\n",
       "   DST Bottom Hole Temp. (degC)  DST Test Date Test Type DST Misrun  \\\n",
       "0                         48.33          26025       DST          N   \n",
       "1                         34.26          33647       DST          N   \n",
       "2                        104.40          30798       LRT          N   \n",
       "3                         29.00          29543       DST          N   \n",
       "4                         64.00          30760       DST          N   \n",
       "\n",
       "   DST Number Formation DSTd  Unnamed: 9  ...  diff_depth_abs  \\\n",
       "0           2      TRmontney         NaN  ...             4.0   \n",
       "1           1        Dmuskeg         NaN  ...             4.4   \n",
       "2           1        Melkton         NaN  ...             NaN   \n",
       "3           4      Dwintrbrn         NaN  ...             8.1   \n",
       "4           4       Dwabamun         NaN  ...             3.6   \n",
       "\n",
       "  True Temperature (oC)  TrueTemp_datasource_syn  Well_ID  Depth (ft)  \\\n",
       "0                 60.97                synthetic      NaN         NaN   \n",
       "1                 63.98                synthetic      NaN         NaN   \n",
       "2                   NaN                synthetic      NaN         NaN   \n",
       "3                 39.07                synthetic      NaN         NaN   \n",
       "4                 69.47                synthetic      NaN         NaN   \n",
       "\n",
       "  Temp (degC) Field  TrueTemp_datasource_stat  TempC_Fin TrueTemp_datasource  \n",
       "0         NaN   NaN                       NaN      60.97           synthetic  \n",
       "1         NaN   NaN                       NaN      63.98           synthetic  \n",
       "2         NaN   NaN                       NaN        NaN           synthetic  \n",
       "3         NaN   NaN                       NaN      39.07           synthetic  \n",
       "4         NaN   NaN                       NaN      69.47           synthetic  \n",
       "\n",
       "[5 rows x 23 columns]"
      ]
     },
     "execution_count": 107,
     "metadata": {},
     "output_type": "execute_result"
    }
   ],
   "source": [
    "# Coalesce columns together with priority for true temperature measurements\n",
    "Duvernay_Combined_stat['TempC_Fin'] = Duvernay_Combined_stat['Temp (degC)'].fillna(Duvernay_Combined_stat['True Temperature (oC)'])\n",
    "Duvernay_Combined_stat['TrueTemp_datasource'] = Duvernay_Combined_stat['TrueTemp_datasource_stat'].fillna(Duvernay_Combined_stat['TrueTemp_datasource_syn'])\n",
    "\n",
    "Duvernay_Combined_stat.head()"
   ]
  },
  {
   "cell_type": "code",
   "execution_count": 110,
   "metadata": {},
   "outputs": [
    {
     "data": {
      "text/plain": [
       "Index(['Well ID', 'DST Start Depth (MD) (m)', 'DST End Depth (MD) (m)',\n",
       "       'DST Bottom Hole Temp. (degC)', 'DST Test Date', 'Test Type',\n",
       "       'DST Misrun', 'DST Number', 'Formation DSTd', 'Unnamed: 9',\n",
       "       'elevation M above sea level', 'UWI', 'Depth_SS(m)',\n",
       "       'Depths subsea (m)', 'True Temperature (oC)', 'diff_depth',\n",
       "       'diff_depth_abs'],\n",
       "      dtype='object')"
      ]
     },
     "execution_count": 110,
     "metadata": {},
     "output_type": "execute_result"
    }
   ],
   "source": [
    "Duvernay_Combined.columns"
   ]
  },
  {
   "cell_type": "code",
   "execution_count": 113,
   "metadata": {
    "pycharm": {
     "name": "#%%\n"
    }
   },
   "outputs": [
    {
     "data": {
      "text/html": [
       "<div>\n",
       "<style scoped>\n",
       "    .dataframe tbody tr th:only-of-type {\n",
       "        vertical-align: middle;\n",
       "    }\n",
       "\n",
       "    .dataframe tbody tr th {\n",
       "        vertical-align: top;\n",
       "    }\n",
       "\n",
       "    .dataframe thead th {\n",
       "        text-align: right;\n",
       "    }\n",
       "</style>\n",
       "<table border=\"1\" class=\"dataframe\">\n",
       "  <thead>\n",
       "    <tr style=\"text-align: right;\">\n",
       "      <th></th>\n",
       "      <th>Well ID</th>\n",
       "      <th>TempC_Fin</th>\n",
       "      <th>Depth_SS(m)</th>\n",
       "      <th>elevation M above sea level</th>\n",
       "    </tr>\n",
       "  </thead>\n",
       "  <tbody>\n",
       "    <tr>\n",
       "      <th>0</th>\n",
       "      <td>100010107020W500</td>\n",
       "      <td>60.97</td>\n",
       "      <td>716.00</td>\n",
       "      <td>701.0</td>\n",
       "    </tr>\n",
       "    <tr>\n",
       "      <th>1</th>\n",
       "      <td>100010608109W500</td>\n",
       "      <td>63.98</td>\n",
       "      <td>1044.40</td>\n",
       "      <td>645.6</td>\n",
       "    </tr>\n",
       "    <tr>\n",
       "      <th>2</th>\n",
       "      <td>100010904012W500</td>\n",
       "      <td>NaN</td>\n",
       "      <td>2424.20</td>\n",
       "      <td>1283.8</td>\n",
       "    </tr>\n",
       "    <tr>\n",
       "      <th>3</th>\n",
       "      <td>100011206021W400</td>\n",
       "      <td>39.07</td>\n",
       "      <td>171.90</td>\n",
       "      <td>651.6</td>\n",
       "    </tr>\n",
       "    <tr>\n",
       "      <th>4</th>\n",
       "      <td>100011506915W500</td>\n",
       "      <td>69.47</td>\n",
       "      <td>936.40</td>\n",
       "      <td>873.1</td>\n",
       "    </tr>\n",
       "    <tr>\n",
       "      <th>...</th>\n",
       "      <td>...</td>\n",
       "      <td>...</td>\n",
       "      <td>...</td>\n",
       "      <td>...</td>\n",
       "    </tr>\n",
       "    <tr>\n",
       "      <th>507</th>\n",
       "      <td>102101403324W400</td>\n",
       "      <td>NaN</td>\n",
       "      <td>1513.50</td>\n",
       "      <td>896.5</td>\n",
       "    </tr>\n",
       "    <tr>\n",
       "      <th>508</th>\n",
       "      <td>102102106218W500</td>\n",
       "      <td>NaN</td>\n",
       "      <td>2176.75</td>\n",
       "      <td>878.7</td>\n",
       "    </tr>\n",
       "    <tr>\n",
       "      <th>509</th>\n",
       "      <td>102112204416W500</td>\n",
       "      <td>NaN</td>\n",
       "      <td>2653.90</td>\n",
       "      <td>1175.1</td>\n",
       "    </tr>\n",
       "    <tr>\n",
       "      <th>510</th>\n",
       "      <td>102142004709W500</td>\n",
       "      <td>81.48</td>\n",
       "      <td>1341.20</td>\n",
       "      <td>956.3</td>\n",
       "    </tr>\n",
       "    <tr>\n",
       "      <th>511</th>\n",
       "      <td>106141105522W400</td>\n",
       "      <td>32.98</td>\n",
       "      <td>98.40</td>\n",
       "      <td>633.1</td>\n",
       "    </tr>\n",
       "  </tbody>\n",
       "</table>\n",
       "<p>512 rows × 4 columns</p>\n",
       "</div>"
      ],
      "text/plain": [
       "              Well ID  TempC_Fin  Depth_SS(m)  elevation M above sea level\n",
       "0    100010107020W500      60.97       716.00                        701.0\n",
       "1    100010608109W500      63.98      1044.40                        645.6\n",
       "2    100010904012W500        NaN      2424.20                       1283.8\n",
       "3    100011206021W400      39.07       171.90                        651.6\n",
       "4    100011506915W500      69.47       936.40                        873.1\n",
       "..                ...        ...          ...                          ...\n",
       "507  102101403324W400        NaN      1513.50                        896.5\n",
       "508  102102106218W500        NaN      2176.75                        878.7\n",
       "509  102112204416W500        NaN      2653.90                       1175.1\n",
       "510  102142004709W500      81.48      1341.20                        956.3\n",
       "511  106141105522W400      32.98        98.40                        633.1\n",
       "\n",
       "[512 rows x 4 columns]"
      ]
     },
     "execution_count": 113,
     "metadata": {},
     "output_type": "execute_result"
    }
   ],
   "source": [
    "useful_columns = ['Well ID', 'TempC_Fin', 'Depth_SS(m)', 'elevation M above sea level']\n",
    "duvernay_temp = Duvernay_Combined_stat[useful_columns]\n",
    "duvernay_temp"
   ]
  },
  {
   "cell_type": "markdown",
   "metadata": {},
   "source": [
    "# 3. Call Well Headers Data"
   ]
  },
  {
   "cell_type": "code",
   "execution_count": 114,
   "metadata": {
    "pycharm": {
     "name": "#%%\n"
    }
   },
   "outputs": [
    {
     "name": "stdout",
     "output_type": "stream",
     "text": [
      "               UWI   Elevation Meters ElevationDatum  TD meters   \\\n",
      "0  100072507623W500             555.7             KB      2545.0   \n",
      "1  100062007823W500             560.9             KB      2430.0   \n",
      "2  100052107723W500             558.4             KB      2515.5   \n",
      "3  100061307518W500             631.4             KB      2411.0   \n",
      "4  100070907618W500             627.0             KB      2408.0   \n",
      "\n",
      "   SurfaceLatitude_NAD83  SurfaceLongitude_NAD83  BottomLatitude_NAD83  \\\n",
      "0              55.613640             -117.423800             55.613640   \n",
      "1              55.770872             -117.537674             55.770872   \n",
      "2              55.683723             -117.516168             55.683723   \n",
      "3              55.494600             -116.653606             55.494600   \n",
      "4              55.566965             -116.726243             55.566965   \n",
      "\n",
      "   BottomLongitude_NAD83  SurfaceLatitude_NAD27  SurfaceLongitude_NAD27  \\\n",
      "0            -117.423800              55.613640             -117.423800   \n",
      "1            -117.537674              55.770872             -117.537674   \n",
      "2            -117.516168              55.683723             -117.516168   \n",
      "3            -116.653606              55.494600             -116.653606   \n",
      "4            -116.726243              55.566965             -116.726243   \n",
      "\n",
      "   BottomLatitude_NAD27  BottomLongitude_NAD27  \n",
      "0             55.613640            -117.423800  \n",
      "1             55.770872            -117.537674  \n",
      "2             55.683723            -117.516168  \n",
      "3             55.494600            -116.653606  \n",
      "4             55.566965            -116.726243  \n"
     ]
    }
   ],
   "source": [
    "file = ROOT_DIR / 'gtx/data/Duvernay/Duvernay/Duvernay well headers SPE April 21 2021 .xlsx'\n",
    "df_well = pd.read_excel(file)\n",
    "print(df_well.head())"
   ]
  },
  {
   "cell_type": "code",
   "execution_count": 115,
   "metadata": {
    "pycharm": {
     "name": "#%% Subsetting dataframe\n"
    }
   },
   "outputs": [
    {
     "name": "stdout",
     "output_type": "stream",
     "text": [
      "Index(['UWI ', 'Elevation Meters', 'ElevationDatum', 'TD meters ',\n",
      "       'SurfaceLatitude_NAD83', 'SurfaceLongitude_NAD83',\n",
      "       'BottomLatitude_NAD83', 'BottomLongitude_NAD83',\n",
      "       'SurfaceLatitude_NAD27', 'SurfaceLongitude_NAD27',\n",
      "       'BottomLatitude_NAD27', 'BottomLongitude_NAD27'],\n",
      "      dtype='object')\n",
      "               UWI   Elevation Meters  TD meters   SurfaceLongitude_NAD83  \\\n",
      "0  100072507623W500             555.7      2545.0             -117.423800   \n",
      "1  100062007823W500             560.9      2430.0             -117.537674   \n",
      "2  100052107723W500             558.4      2515.5             -117.516168   \n",
      "3  100061307518W500             631.4      2411.0             -116.653606   \n",
      "4  100070907618W500             627.0      2408.0             -116.726243   \n",
      "\n",
      "   SurfaceLatitude_NAD83  \n",
      "0              55.613640  \n",
      "1              55.770872  \n",
      "2              55.683723  \n",
      "3              55.494600  \n",
      "4              55.566965  \n"
     ]
    }
   ],
   "source": [
    "column_names = df_well.columns\n",
    "print(column_names)\n",
    "duvernay_geo = df_well[\n",
    "    ['UWI ', 'Elevation Meters', 'TD meters ', 'SurfaceLongitude_NAD83',\n",
    "     'SurfaceLatitude_NAD83',\n",
    "     ]]\n",
    "print(duvernay_geo.head())"
   ]
  },
  {
   "cell_type": "code",
   "execution_count": 116,
   "metadata": {
    "pycharm": {
     "name": "#%% verify if there are missing values\n"
    }
   },
   "outputs": [
    {
     "name": "stdout",
     "output_type": "stream",
     "text": [
      "UWI                       False\n",
      "Elevation Meters          False\n",
      "ElevationDatum            False\n",
      "TD meters                 False\n",
      "SurfaceLatitude_NAD83     False\n",
      "SurfaceLongitude_NAD83    False\n",
      "BottomLatitude_NAD83      False\n",
      "BottomLongitude_NAD83     False\n",
      "SurfaceLatitude_NAD27     False\n",
      "SurfaceLongitude_NAD27    False\n",
      "BottomLatitude_NAD27      False\n",
      "BottomLongitude_NAD27     False\n",
      "dtype: bool\n"
     ]
    }
   ],
   "source": [
    "print(df_well.isna().any())"
   ]
  },
  {
   "cell_type": "code",
   "execution_count": 117,
   "metadata": {
    "pycharm": {
     "name": "#%% Converting to geopandas dataframe\n"
    }
   },
   "outputs": [
    {
     "name": "stdout",
     "output_type": "stream",
     "text": [
      "               UWI   Elevation Meters  TD meters   SurfaceLongitude_NAD83  \\\n",
      "0  100072507623W500             555.7      2545.0             -117.423800   \n",
      "1  100062007823W500             560.9      2430.0             -117.537674   \n",
      "2  100052107723W500             558.4      2515.5             -117.516168   \n",
      "3  100061307518W500             631.4      2411.0             -116.653606   \n",
      "4  100070907618W500             627.0      2408.0             -116.726243   \n",
      "\n",
      "   SurfaceLatitude_NAD83                     geometry  \n",
      "0              55.613640  POINT (-117.42380 55.61364)  \n",
      "1              55.770872  POINT (-117.53767 55.77087)  \n",
      "2              55.683723  POINT (-117.51617 55.68372)  \n",
      "3              55.494600  POINT (-116.65361 55.49460)  \n",
      "4              55.566965  POINT (-116.72624 55.56697)  \n"
     ]
    }
   ],
   "source": [
    "gdf = gpd.GeoDataFrame(\n",
    "    duvernay_geo, crs='epsg:4269', geometry=gpd.points_from_xy\n",
    "    (duvernay_geo.SurfaceLongitude_NAD83, duvernay_geo.SurfaceLatitude_NAD83))\n",
    "\n",
    "print(gdf.head())"
   ]
  },
  {
   "cell_type": "code",
   "execution_count": 118,
   "metadata": {
    "pycharm": {
     "name": "#%%\n"
    }
   },
   "outputs": [
    {
     "name": "stdout",
     "output_type": "stream",
     "text": [
      "               UWI   Elevation Meters  TD meters   SurfaceLongitude_NAD83  \\\n",
      "0  100072507623W500             555.7      2545.0             -117.423800   \n",
      "1  100062007823W500             560.9      2430.0             -117.537674   \n",
      "2  100052107723W500             558.4      2515.5             -117.516168   \n",
      "3  100061307518W500             631.4      2411.0             -116.653606   \n",
      "4  100070907618W500             627.0      2408.0             -116.726243   \n",
      "\n",
      "   SurfaceLatitude_NAD83                           geometry  \n",
      "0              55.613640  POINT (-13071557.623 7481883.651)  \n",
      "1              55.770872  POINT (-13084234.019 7512937.315)  \n",
      "2              55.683723  POINT (-13081839.982 7495709.772)  \n",
      "3              55.494600  POINT (-12985820.019 7458455.717)  \n",
      "4              55.566965  POINT (-12993905.933 7472689.213)  \n"
     ]
    }
   ],
   "source": [
    "gdf = gdf.to_crs(epsg=3857)\n",
    "print(gdf.head())"
   ]
  },
  {
   "cell_type": "code",
   "execution_count": 119,
   "metadata": {
    "pycharm": {
     "name": "#%%\n"
    }
   },
   "outputs": [
    {
     "name": "stdout",
     "output_type": "stream",
     "text": [
      "<class 'pandas.core.frame.DataFrame'>\n",
      "Int64Index: 512 entries, 0 to 511\n",
      "Data columns (total 4 columns):\n",
      " #   Column                       Non-Null Count  Dtype  \n",
      "---  ------                       --------------  -----  \n",
      " 0   Well ID                      512 non-null    object \n",
      " 1   TempC_Fin                    372 non-null    float64\n",
      " 2   Depth_SS(m)                  512 non-null    float64\n",
      " 3   elevation M above sea level  512 non-null    float64\n",
      "dtypes: float64(3), object(1)\n",
      "memory usage: 20.0+ KB\n"
     ]
    }
   ],
   "source": [
    "duvernay_temp.info()"
   ]
  },
  {
   "cell_type": "code",
   "execution_count": 120,
   "metadata": {},
   "outputs": [
    {
     "name": "stdout",
     "output_type": "stream",
     "text": [
      "<class 'geopandas.geodataframe.GeoDataFrame'>\n",
      "RangeIndex: 512 entries, 0 to 511\n",
      "Data columns (total 6 columns):\n",
      " #   Column                  Non-Null Count  Dtype   \n",
      "---  ------                  --------------  -----   \n",
      " 0   UWI                     512 non-null    object  \n",
      " 1   Elevation Meters        512 non-null    float64 \n",
      " 2   TD meters               512 non-null    float64 \n",
      " 3   SurfaceLongitude_NAD83  512 non-null    float64 \n",
      " 4   SurfaceLatitude_NAD83   512 non-null    float64 \n",
      " 5   geometry                512 non-null    geometry\n",
      "dtypes: float64(4), geometry(1), object(1)\n",
      "memory usage: 24.1+ KB\n"
     ]
    }
   ],
   "source": [
    "gdf.info()"
   ]
  },
  {
   "cell_type": "code",
   "execution_count": 121,
   "metadata": {},
   "outputs": [],
   "source": [
    "gdf.columns = list(map(lambda x: x.strip(), gdf.columns))"
   ]
  },
  {
   "cell_type": "code",
   "execution_count": 122,
   "metadata": {},
   "outputs": [
    {
     "data": {
      "text/plain": [
       "Index(['Well ID', 'TempC_Fin', 'Depth_SS(m)', 'elevation M above sea level'], dtype='object')"
      ]
     },
     "execution_count": 122,
     "metadata": {},
     "output_type": "execute_result"
    }
   ],
   "source": [
    "duvernay_temp.columns"
   ]
  },
  {
   "cell_type": "code",
   "execution_count": 123,
   "metadata": {},
   "outputs": [],
   "source": [
    "temp_merged = gdf.merge(duvernay_temp, left_on='UWI', right_on='Well ID', how='left')"
   ]
  },
  {
   "cell_type": "code",
   "execution_count": 125,
   "metadata": {},
   "outputs": [],
   "source": [
    "temp_merged.drop('elevation M above sea level', axis=1, inplace=True)"
   ]
  },
  {
   "cell_type": "code",
   "execution_count": 126,
   "metadata": {},
   "outputs": [
    {
     "data": {
      "text/html": [
       "<div>\n",
       "<style scoped>\n",
       "    .dataframe tbody tr th:only-of-type {\n",
       "        vertical-align: middle;\n",
       "    }\n",
       "\n",
       "    .dataframe tbody tr th {\n",
       "        vertical-align: top;\n",
       "    }\n",
       "\n",
       "    .dataframe thead th {\n",
       "        text-align: right;\n",
       "    }\n",
       "</style>\n",
       "<table border=\"1\" class=\"dataframe\">\n",
       "  <thead>\n",
       "    <tr style=\"text-align: right;\">\n",
       "      <th></th>\n",
       "      <th>UWI</th>\n",
       "      <th>Elevation Meters</th>\n",
       "      <th>TD meters</th>\n",
       "      <th>SurfaceLongitude_NAD83</th>\n",
       "      <th>SurfaceLatitude_NAD83</th>\n",
       "      <th>geometry</th>\n",
       "      <th>Well ID</th>\n",
       "      <th>TempC_Fin</th>\n",
       "      <th>Depth_SS(m)</th>\n",
       "    </tr>\n",
       "  </thead>\n",
       "  <tbody>\n",
       "    <tr>\n",
       "      <th>0</th>\n",
       "      <td>100072507623W500</td>\n",
       "      <td>555.7</td>\n",
       "      <td>2545.0</td>\n",
       "      <td>-117.423800</td>\n",
       "      <td>55.613640</td>\n",
       "      <td>POINT (-13071557.623 7481883.651)</td>\n",
       "      <td>100072507623W500</td>\n",
       "      <td>82.04</td>\n",
       "      <td>1942.80</td>\n",
       "    </tr>\n",
       "    <tr>\n",
       "      <th>1</th>\n",
       "      <td>100062007823W500</td>\n",
       "      <td>560.9</td>\n",
       "      <td>2430.0</td>\n",
       "      <td>-117.537674</td>\n",
       "      <td>55.770872</td>\n",
       "      <td>POINT (-13084234.019 7512937.315)</td>\n",
       "      <td>100062007823W500</td>\n",
       "      <td>66.22</td>\n",
       "      <td>1298.10</td>\n",
       "    </tr>\n",
       "    <tr>\n",
       "      <th>2</th>\n",
       "      <td>100052107723W500</td>\n",
       "      <td>558.4</td>\n",
       "      <td>2515.5</td>\n",
       "      <td>-117.516168</td>\n",
       "      <td>55.683723</td>\n",
       "      <td>POINT (-13081839.982 7495709.772)</td>\n",
       "      <td>100052107723W500</td>\n",
       "      <td>NaN</td>\n",
       "      <td>600.10</td>\n",
       "    </tr>\n",
       "    <tr>\n",
       "      <th>3</th>\n",
       "      <td>100061307518W500</td>\n",
       "      <td>631.4</td>\n",
       "      <td>2411.0</td>\n",
       "      <td>-116.653606</td>\n",
       "      <td>55.494600</td>\n",
       "      <td>POINT (-12985820.019 7458455.717)</td>\n",
       "      <td>100061307518W500</td>\n",
       "      <td>42.39</td>\n",
       "      <td>235.35</td>\n",
       "    </tr>\n",
       "    <tr>\n",
       "      <th>4</th>\n",
       "      <td>100070907618W500</td>\n",
       "      <td>627.0</td>\n",
       "      <td>2408.0</td>\n",
       "      <td>-116.726243</td>\n",
       "      <td>55.566965</td>\n",
       "      <td>POINT (-12993905.933 7472689.213)</td>\n",
       "      <td>100070907618W500</td>\n",
       "      <td>46.39</td>\n",
       "      <td>326.00</td>\n",
       "    </tr>\n",
       "  </tbody>\n",
       "</table>\n",
       "</div>"
      ],
      "text/plain": [
       "                UWI  Elevation Meters  TD meters  SurfaceLongitude_NAD83  \\\n",
       "0  100072507623W500             555.7     2545.0             -117.423800   \n",
       "1  100062007823W500             560.9     2430.0             -117.537674   \n",
       "2  100052107723W500             558.4     2515.5             -117.516168   \n",
       "3  100061307518W500             631.4     2411.0             -116.653606   \n",
       "4  100070907618W500             627.0     2408.0             -116.726243   \n",
       "\n",
       "   SurfaceLatitude_NAD83                           geometry           Well ID  \\\n",
       "0              55.613640  POINT (-13071557.623 7481883.651)  100072507623W500   \n",
       "1              55.770872  POINT (-13084234.019 7512937.315)  100062007823W500   \n",
       "2              55.683723  POINT (-13081839.982 7495709.772)  100052107723W500   \n",
       "3              55.494600  POINT (-12985820.019 7458455.717)  100061307518W500   \n",
       "4              55.566965  POINT (-12993905.933 7472689.213)  100070907618W500   \n",
       "\n",
       "   TempC_Fin  Depth_SS(m)  \n",
       "0      82.04      1942.80  \n",
       "1      66.22      1298.10  \n",
       "2        NaN       600.10  \n",
       "3      42.39       235.35  \n",
       "4      46.39       326.00  "
      ]
     },
     "execution_count": 126,
     "metadata": {},
     "output_type": "execute_result"
    }
   ],
   "source": [
    "temp_merged.head()"
   ]
  },
  {
   "cell_type": "code",
   "execution_count": 127,
   "metadata": {},
   "outputs": [],
   "source": [
    "temp_merged.drop(['SurfaceLongitude_NAD83', 'SurfaceLatitude_NAD83', 'Well ID'], axis=1, inplace=True)"
   ]
  },
  {
   "cell_type": "code",
   "execution_count": 128,
   "metadata": {},
   "outputs": [
    {
     "name": "stdout",
     "output_type": "stream",
     "text": [
      "<class 'geopandas.geodataframe.GeoDataFrame'>\n",
      "Int64Index: 512 entries, 0 to 511\n",
      "Data columns (total 6 columns):\n",
      " #   Column            Non-Null Count  Dtype   \n",
      "---  ------            --------------  -----   \n",
      " 0   UWI               512 non-null    object  \n",
      " 1   Elevation Meters  512 non-null    float64 \n",
      " 2   TD meters         512 non-null    float64 \n",
      " 3   geometry          512 non-null    geometry\n",
      " 4   TempC_Fin         372 non-null    float64 \n",
      " 5   Depth_SS(m)       512 non-null    float64 \n",
      "dtypes: float64(4), geometry(1), object(1)\n",
      "memory usage: 28.0+ KB\n"
     ]
    }
   ],
   "source": [
    "temp_merged.info()"
   ]
  },
  {
   "cell_type": "code",
   "execution_count": 129,
   "metadata": {},
   "outputs": [],
   "source": [
    "temp_merged.rename(columns={'TD meters':'TD(m)', 'TempC_Fin':'True Temp (oC)', 'Elevation Meters':'Elevation(m)'}, inplace=True)"
   ]
  },
  {
   "cell_type": "code",
   "execution_count": 130,
   "metadata": {},
   "outputs": [
    {
     "name": "stdout",
     "output_type": "stream",
     "text": [
      "<class 'geopandas.geodataframe.GeoDataFrame'>\n",
      "Int64Index: 512 entries, 0 to 511\n",
      "Data columns (total 6 columns):\n",
      " #   Column          Non-Null Count  Dtype   \n",
      "---  ------          --------------  -----   \n",
      " 0   UWI             512 non-null    object  \n",
      " 1   Elevation(m)    512 non-null    float64 \n",
      " 2   TD(m)           512 non-null    float64 \n",
      " 3   geometry        512 non-null    geometry\n",
      " 4   True Temp (oC)  372 non-null    float64 \n",
      " 5   Depth_SS(m)     512 non-null    float64 \n",
      "dtypes: float64(4), geometry(1), object(1)\n",
      "memory usage: 28.0+ KB\n"
     ]
    }
   ],
   "source": [
    "temp_merged.info()"
   ]
  },
  {
   "cell_type": "code",
   "execution_count": 131,
   "metadata": {},
   "outputs": [
    {
     "data": {
      "text/html": [
       "<div>\n",
       "<style scoped>\n",
       "    .dataframe tbody tr th:only-of-type {\n",
       "        vertical-align: middle;\n",
       "    }\n",
       "\n",
       "    .dataframe tbody tr th {\n",
       "        vertical-align: top;\n",
       "    }\n",
       "\n",
       "    .dataframe thead th {\n",
       "        text-align: right;\n",
       "    }\n",
       "</style>\n",
       "<table border=\"1\" class=\"dataframe\">\n",
       "  <thead>\n",
       "    <tr style=\"text-align: right;\">\n",
       "      <th></th>\n",
       "      <th>UWI</th>\n",
       "      <th>Elevation(m)</th>\n",
       "      <th>TD(m)</th>\n",
       "      <th>geometry</th>\n",
       "      <th>True Temp (oC)</th>\n",
       "      <th>Depth_SS(m)</th>\n",
       "    </tr>\n",
       "  </thead>\n",
       "  <tbody>\n",
       "    <tr>\n",
       "      <th>0</th>\n",
       "      <td>100072507623W500</td>\n",
       "      <td>555.7</td>\n",
       "      <td>2545.0</td>\n",
       "      <td>POINT (-13071557.623 7481883.651)</td>\n",
       "      <td>82.04</td>\n",
       "      <td>1942.80</td>\n",
       "    </tr>\n",
       "    <tr>\n",
       "      <th>1</th>\n",
       "      <td>100062007823W500</td>\n",
       "      <td>560.9</td>\n",
       "      <td>2430.0</td>\n",
       "      <td>POINT (-13084234.019 7512937.315)</td>\n",
       "      <td>66.22</td>\n",
       "      <td>1298.10</td>\n",
       "    </tr>\n",
       "    <tr>\n",
       "      <th>2</th>\n",
       "      <td>100052107723W500</td>\n",
       "      <td>558.4</td>\n",
       "      <td>2515.5</td>\n",
       "      <td>POINT (-13081839.982 7495709.772)</td>\n",
       "      <td>NaN</td>\n",
       "      <td>600.10</td>\n",
       "    </tr>\n",
       "    <tr>\n",
       "      <th>3</th>\n",
       "      <td>100061307518W500</td>\n",
       "      <td>631.4</td>\n",
       "      <td>2411.0</td>\n",
       "      <td>POINT (-12985820.019 7458455.717)</td>\n",
       "      <td>42.39</td>\n",
       "      <td>235.35</td>\n",
       "    </tr>\n",
       "    <tr>\n",
       "      <th>4</th>\n",
       "      <td>100070907618W500</td>\n",
       "      <td>627.0</td>\n",
       "      <td>2408.0</td>\n",
       "      <td>POINT (-12993905.933 7472689.213)</td>\n",
       "      <td>46.39</td>\n",
       "      <td>326.00</td>\n",
       "    </tr>\n",
       "  </tbody>\n",
       "</table>\n",
       "</div>"
      ],
      "text/plain": [
       "                UWI  Elevation(m)   TD(m)                           geometry  \\\n",
       "0  100072507623W500         555.7  2545.0  POINT (-13071557.623 7481883.651)   \n",
       "1  100062007823W500         560.9  2430.0  POINT (-13084234.019 7512937.315)   \n",
       "2  100052107723W500         558.4  2515.5  POINT (-13081839.982 7495709.772)   \n",
       "3  100061307518W500         631.4  2411.0  POINT (-12985820.019 7458455.717)   \n",
       "4  100070907618W500         627.0  2408.0  POINT (-12993905.933 7472689.213)   \n",
       "\n",
       "   True Temp (oC)  Depth_SS(m)  \n",
       "0           82.04      1942.80  \n",
       "1           66.22      1298.10  \n",
       "2             NaN       600.10  \n",
       "3           42.39       235.35  \n",
       "4           46.39       326.00  "
      ]
     },
     "execution_count": 131,
     "metadata": {},
     "output_type": "execute_result"
    }
   ],
   "source": [
    "temp_merged.head()"
   ]
  },
  {
   "cell_type": "markdown",
   "metadata": {},
   "source": [
    "BHT -> fORMATION data ;\n",
    "True temp -> no formation data"
   ]
  },
  {
   "cell_type": "code",
   "execution_count": 132,
   "metadata": {},
   "outputs": [],
   "source": [
    "gpkg_file_name = 'duvernay.gpkg'\n",
    "gpkp_path = ROOT_DIR / 'gtx/Scripts_gtx' / gpkg_file_name\n",
    "temp_merged.to_file(gpkp_path, layer='temperature', driver='GPKG')"
   ]
  },
  {
   "cell_type": "markdown",
   "metadata": {},
   "source": [
    "# 4. Map Temperatures per formation"
   ]
  },
  {
   "cell_type": "code",
   "execution_count": 133,
   "metadata": {},
   "outputs": [
    {
     "name": "stdout",
     "output_type": "stream",
     "text": [
      "<class 'pandas.core.frame.DataFrame'>\n",
      "RangeIndex: 512 entries, 0 to 511\n",
      "Data columns (total 21 columns):\n",
      " #   Column                                                    Non-Null Count  Dtype  \n",
      "---  ------                                                    --------------  -----  \n",
      " 0   UWI                                                       512 non-null    object \n",
      " 1   Bottom Hole Location X_m_NAD27_Zone 11N (120 W to 114 W)  512 non-null    float64\n",
      " 2   Bottom Hole Location Y_m_NAD27_Zone 11N (120 W to 114 W)  512 non-null    float64\n",
      " 3   Elevation(m above sea level)                              512 non-null    float64\n",
      " 4   01_Battle (Surbiton)[SSTVD] (m)                           25 non-null     float64\n",
      " 5   02_Lea_Park (Surbiton)[SSTVD] (m)                         376 non-null    float64\n",
      " 6   03_1st_White_Speckled_Shale (Surbiton)[SSTVD] (m)         445 non-null    float64\n",
      " 7   04_2nd_White_Speckled_Shale (Surbiton)[SSTVD] (m)         446 non-null    float64\n",
      " 8   05_Fish_scales (Surbiton)[SSTVD] (m)                      500 non-null    float64\n",
      " 9   06_Mannville_Top (Surbiton)[SSTVD] (m)                    501 non-null    float64\n",
      " 10  07_Ostracod_Beds (Surbiton)[SSTVD] (m)                    379 non-null    float64\n",
      " 11  08_Jurassic_Top (Surbiton)[SSTVD] (m)                     341 non-null    float64\n",
      " 12  09_Montney_Top (Surbiton)[SSTVD] (m)                      237 non-null    float64\n",
      " 13  10_Permian_Top (Surbiton)[SSTVD] (m)                      208 non-null    float64\n",
      " 14  11_Wabamun (Surbiton)[SSTVD] (m)                          504 non-null    float64\n",
      " 15  12_Winterburn (Surbiton)[SSTVD] (m)                       497 non-null    float64\n",
      " 16  13_Woodbend (Surbiton)[SSTVD] (m)                         512 non-null    float64\n",
      " 17  14_Duvernay_Top (Surbiton)[SSTVD] (m)                     480 non-null    float64\n",
      " 18  15_Beaverhill (Surbiton)[SSTVD] (m)                       512 non-null    float64\n",
      " 19  16_Elk_Point (Surbiton)[SSTVD] (m)                        466 non-null    float64\n",
      " 20  17_Precambrian Basement (Surbiton)[SSTVD] (m)             55 non-null     float64\n",
      "dtypes: float64(20), object(1)\n",
      "memory usage: 84.1+ KB\n"
     ]
    }
   ],
   "source": [
    "# Load formation tops data\n",
    "tops_df = pd.read_excel(dir_duvernay / 'Duvernay formation tops SPE April 20 2021.xlsx')\n",
    "tops_df.info()"
   ]
  },
  {
   "cell_type": "code",
   "execution_count": 134,
   "metadata": {},
   "outputs": [
    {
     "data": {
      "text/plain": [
       "Index(['UWI', 'Bottom Hole Location X_m_NAD27_Zone 11N (120 W to 114 W)',\n",
       "       'Bottom Hole Location Y_m_NAD27_Zone 11N (120 W to 114 W)',\n",
       "       'Elevation(m above sea level)', '01_Battle (Surbiton)[SSTVD] (m)',\n",
       "       '02_Lea_Park (Surbiton)[SSTVD] (m)',\n",
       "       '03_1st_White_Speckled_Shale (Surbiton)[SSTVD] (m)',\n",
       "       '04_2nd_White_Speckled_Shale (Surbiton)[SSTVD] (m)',\n",
       "       '05_Fish_scales (Surbiton)[SSTVD] (m)',\n",
       "       '06_Mannville_Top (Surbiton)[SSTVD] (m)',\n",
       "       '07_Ostracod_Beds (Surbiton)[SSTVD] (m)',\n",
       "       '08_Jurassic_Top (Surbiton)[SSTVD] (m)',\n",
       "       '09_Montney_Top (Surbiton)[SSTVD] (m)',\n",
       "       '10_Permian_Top (Surbiton)[SSTVD] (m)',\n",
       "       '11_Wabamun (Surbiton)[SSTVD] (m)',\n",
       "       '12_Winterburn (Surbiton)[SSTVD] (m)',\n",
       "       '13_Woodbend (Surbiton)[SSTVD] (m)',\n",
       "       '14_Duvernay_Top (Surbiton)[SSTVD] (m)',\n",
       "       '15_Beaverhill (Surbiton)[SSTVD] (m)',\n",
       "       '16_Elk_Point (Surbiton)[SSTVD] (m)',\n",
       "       '17_Precambrian Basement (Surbiton)[SSTVD] (m)'],\n",
       "      dtype='object')"
      ]
     },
     "execution_count": 134,
     "metadata": {},
     "output_type": "execute_result"
    }
   ],
   "source": [
    "tops_df.columns"
   ]
  },
  {
   "cell_type": "code",
   "execution_count": 135,
   "metadata": {},
   "outputs": [],
   "source": [
    "top_md_col = \"top_md\"\n",
    "formation_col = \"formation\"\n",
    "\n",
    "tops_df = tops_df.set_index('UWI').loc[:, '01_Battle (Surbiton)[SSTVD] (m)':]"
   ]
  },
  {
   "cell_type": "code",
   "execution_count": 136,
   "metadata": {},
   "outputs": [
    {
     "name": "stderr",
     "output_type": "stream",
     "text": [
      "<ipython-input-136-5850b288cd26>:7: FutureWarning: The default value of regex will change from True to False in a future version.\n",
      "  tops_df[formation_col] = tops_df[formation_col].str.replace('[^a-zA-Z]', ' ').\\\n"
     ]
    }
   ],
   "source": [
    "# Reshape dataframe (columns to rows using melt method)\n",
    "tops_df = tops_df.reset_index().melt(id_vars=['UWI'], \n",
    "                       var_name=formation_col,\n",
    "                      value_name=top_md_col)\n",
    "\n",
    "# Get the actual formation name using regular expressions\n",
    "tops_df[formation_col] = tops_df[formation_col].str.replace('[^a-zA-Z]', ' ').\\\n",
    "str.replace('Surbiton  SSTVD   m', \"\").str.strip()"
   ]
  },
  {
   "cell_type": "code",
   "execution_count": 138,
   "metadata": {},
   "outputs": [
    {
     "name": "stdout",
     "output_type": "stream",
     "text": [
      "<class 'pandas.core.frame.DataFrame'>\n",
      "RangeIndex: 8704 entries, 0 to 8703\n",
      "Data columns (total 3 columns):\n",
      " #   Column     Non-Null Count  Dtype  \n",
      "---  ------     --------------  -----  \n",
      " 0   UWI        8704 non-null   object \n",
      " 1   formation  8704 non-null   object \n",
      " 2   top_md     6484 non-null   float64\n",
      "dtypes: float64(1), object(2)\n",
      "memory usage: 204.1+ KB\n"
     ]
    }
   ],
   "source": [
    "tops_df.info()"
   ]
  },
  {
   "cell_type": "markdown",
   "metadata": {},
   "source": [
    "## 4.1 Replace zero values with nan and eliminate those rows"
   ]
  },
  {
   "cell_type": "code",
   "execution_count": 139,
   "metadata": {},
   "outputs": [
    {
     "name": "stdout",
     "output_type": "stream",
     "text": [
      "<class 'pandas.core.frame.DataFrame'>\n",
      "Int64Index: 6484 entries, 5 to 8682\n",
      "Data columns (total 3 columns):\n",
      " #   Column     Non-Null Count  Dtype  \n",
      "---  ------     --------------  -----  \n",
      " 0   UWI        6484 non-null   object \n",
      " 1   formation  6484 non-null   object \n",
      " 2   top_md     6484 non-null   float64\n",
      "dtypes: float64(1), object(2)\n",
      "memory usage: 202.6+ KB\n",
      "None\n"
     ]
    }
   ],
   "source": [
    "# Replace zero with null values (nan)\n",
    "tops_df[top_md_col] = tops_df[top_md_col].replace(0, np.nan)\n",
    "tops_df.dropna(inplace=True)\n",
    "print(tops_df.info())"
   ]
  },
  {
   "cell_type": "code",
   "execution_count": 140,
   "metadata": {},
   "outputs": [
    {
     "name": "stdout",
     "output_type": "stream",
     "text": [
      "['Battle' 'Lea Park' 'st White Speckled Shale' 'nd White Speckled Shale'\n",
      " 'Fish scales' 'Mannville Top' 'Ostracod Beds' 'Jurassic Top'\n",
      " 'Montney Top' 'Permian Top' 'Wabamun' 'Winterburn' 'Woodbend'\n",
      " 'Duvernay Top' 'Beaverhill' 'Elk Point' 'Precambrian Basement']\n"
     ]
    }
   ],
   "source": [
    "# Formation Names\n",
    "formations = tops_df.formation.unique()\n",
    "print(formations)"
   ]
  },
  {
   "cell_type": "markdown",
   "metadata": {},
   "source": [
    "## 4.2 Merge tops data with well header data"
   ]
  },
  {
   "cell_type": "code",
   "execution_count": 143,
   "metadata": {},
   "outputs": [],
   "source": [
    "top_sstvd_col = \"top_sstvd\"\n",
    "tops_df = tops_df.merge(gdf[['UWI', 'Elevation Meters']], on='UWI')"
   ]
  },
  {
   "cell_type": "code",
   "execution_count": 144,
   "metadata": {},
   "outputs": [
    {
     "name": "stdout",
     "output_type": "stream",
     "text": [
      "<class 'pandas.core.frame.DataFrame'>\n",
      "Int64Index: 6484 entries, 0 to 6483\n",
      "Data columns (total 4 columns):\n",
      " #   Column            Non-Null Count  Dtype  \n",
      "---  ------            --------------  -----  \n",
      " 0   UWI               6484 non-null   object \n",
      " 1   formation         6484 non-null   object \n",
      " 2   top_md            6484 non-null   float64\n",
      " 3   Elevation Meters  6484 non-null   float64\n",
      "dtypes: float64(2), object(2)\n",
      "memory usage: 253.3+ KB\n"
     ]
    }
   ],
   "source": [
    "tops_df.info()"
   ]
  },
  {
   "cell_type": "code",
   "execution_count": 145,
   "metadata": {},
   "outputs": [
    {
     "name": "stdout",
     "output_type": "stream",
     "text": [
      "<class 'pandas.core.frame.DataFrame'>\n",
      "Int64Index: 6484 entries, 0 to 6483\n",
      "Data columns (total 5 columns):\n",
      " #   Column            Non-Null Count  Dtype  \n",
      "---  ------            --------------  -----  \n",
      " 0   UWI               6484 non-null   object \n",
      " 1   formation         6484 non-null   object \n",
      " 2   top_md            6484 non-null   float64\n",
      " 3   Elevation Meters  6484 non-null   float64\n",
      " 4   top_sstvd         6484 non-null   float64\n",
      "dtypes: float64(3), object(2)\n",
      "memory usage: 303.9+ KB\n"
     ]
    }
   ],
   "source": [
    "tops_df[top_sstvd_col] = -(tops_df[top_md_col] - tops_df.iloc[:, -1])\n",
    "tops_df.info()"
   ]
  },
  {
   "cell_type": "code",
   "execution_count": 146,
   "metadata": {},
   "outputs": [
    {
     "data": {
      "text/html": [
       "<div>\n",
       "<style scoped>\n",
       "    .dataframe tbody tr th:only-of-type {\n",
       "        vertical-align: middle;\n",
       "    }\n",
       "\n",
       "    .dataframe tbody tr th {\n",
       "        vertical-align: top;\n",
       "    }\n",
       "\n",
       "    .dataframe thead th {\n",
       "        text-align: right;\n",
       "    }\n",
       "</style>\n",
       "<table border=\"1\" class=\"dataframe\">\n",
       "  <thead>\n",
       "    <tr style=\"text-align: right;\">\n",
       "      <th></th>\n",
       "      <th>UWI</th>\n",
       "      <th>formation</th>\n",
       "      <th>top_md</th>\n",
       "      <th>Elevation Meters</th>\n",
       "      <th>top_sstvd</th>\n",
       "    </tr>\n",
       "  </thead>\n",
       "  <tbody>\n",
       "    <tr>\n",
       "      <th>0</th>\n",
       "      <td>100011804403W500</td>\n",
       "      <td>Battle</td>\n",
       "      <td>618.60</td>\n",
       "      <td>946.90000</td>\n",
       "      <td>328.30000</td>\n",
       "    </tr>\n",
       "    <tr>\n",
       "      <th>1</th>\n",
       "      <td>100011804403W500</td>\n",
       "      <td>Lea Park</td>\n",
       "      <td>-247.10</td>\n",
       "      <td>946.90000</td>\n",
       "      <td>1194.00000</td>\n",
       "    </tr>\n",
       "    <tr>\n",
       "      <th>2</th>\n",
       "      <td>100011804403W500</td>\n",
       "      <td>st White Speckled Shale</td>\n",
       "      <td>-374.60</td>\n",
       "      <td>946.90000</td>\n",
       "      <td>1321.50000</td>\n",
       "    </tr>\n",
       "    <tr>\n",
       "      <th>3</th>\n",
       "      <td>100011804403W500</td>\n",
       "      <td>nd White Speckled Shale</td>\n",
       "      <td>-644.60</td>\n",
       "      <td>946.90000</td>\n",
       "      <td>1591.50000</td>\n",
       "    </tr>\n",
       "    <tr>\n",
       "      <th>4</th>\n",
       "      <td>100011804403W500</td>\n",
       "      <td>Fish scales</td>\n",
       "      <td>-786.21</td>\n",
       "      <td>946.90000</td>\n",
       "      <td>1733.11000</td>\n",
       "    </tr>\n",
       "    <tr>\n",
       "      <th>...</th>\n",
       "      <td>...</td>\n",
       "      <td>...</td>\n",
       "      <td>...</td>\n",
       "      <td>...</td>\n",
       "      <td>...</td>\n",
       "    </tr>\n",
       "    <tr>\n",
       "      <th>6479</th>\n",
       "      <td>100013603712W500</td>\n",
       "      <td>Winterburn</td>\n",
       "      <td>882.80</td>\n",
       "      <td>1309.46376</td>\n",
       "      <td>426.66376</td>\n",
       "    </tr>\n",
       "    <tr>\n",
       "      <th>6480</th>\n",
       "      <td>100013603712W500</td>\n",
       "      <td>Woodbend</td>\n",
       "      <td>760.30</td>\n",
       "      <td>1309.46376</td>\n",
       "      <td>549.16376</td>\n",
       "    </tr>\n",
       "    <tr>\n",
       "      <th>6481</th>\n",
       "      <td>100013603712W500</td>\n",
       "      <td>Duvernay Top</td>\n",
       "      <td>590.70</td>\n",
       "      <td>1309.46376</td>\n",
       "      <td>718.76376</td>\n",
       "    </tr>\n",
       "    <tr>\n",
       "      <th>6482</th>\n",
       "      <td>100013603712W500</td>\n",
       "      <td>Beaverhill</td>\n",
       "      <td>562.50</td>\n",
       "      <td>1309.46376</td>\n",
       "      <td>746.96376</td>\n",
       "    </tr>\n",
       "    <tr>\n",
       "      <th>6483</th>\n",
       "      <td>100013603712W500</td>\n",
       "      <td>Elk Point</td>\n",
       "      <td>330.10</td>\n",
       "      <td>1309.46376</td>\n",
       "      <td>979.36376</td>\n",
       "    </tr>\n",
       "  </tbody>\n",
       "</table>\n",
       "<p>6484 rows × 5 columns</p>\n",
       "</div>"
      ],
      "text/plain": [
       "                   UWI                formation  top_md  Elevation Meters  \\\n",
       "0     100011804403W500                   Battle  618.60         946.90000   \n",
       "1     100011804403W500                 Lea Park -247.10         946.90000   \n",
       "2     100011804403W500  st White Speckled Shale -374.60         946.90000   \n",
       "3     100011804403W500  nd White Speckled Shale -644.60         946.90000   \n",
       "4     100011804403W500              Fish scales -786.21         946.90000   \n",
       "...                ...                      ...     ...               ...   \n",
       "6479  100013603712W500               Winterburn  882.80        1309.46376   \n",
       "6480  100013603712W500                 Woodbend  760.30        1309.46376   \n",
       "6481  100013603712W500             Duvernay Top  590.70        1309.46376   \n",
       "6482  100013603712W500               Beaverhill  562.50        1309.46376   \n",
       "6483  100013603712W500                Elk Point  330.10        1309.46376   \n",
       "\n",
       "       top_sstvd  \n",
       "0      328.30000  \n",
       "1     1194.00000  \n",
       "2     1321.50000  \n",
       "3     1591.50000  \n",
       "4     1733.11000  \n",
       "...          ...  \n",
       "6479   426.66376  \n",
       "6480   549.16376  \n",
       "6481   718.76376  \n",
       "6482   746.96376  \n",
       "6483   979.36376  \n",
       "\n",
       "[6484 rows x 5 columns]"
      ]
     },
     "execution_count": 146,
     "metadata": {},
     "output_type": "execute_result"
    }
   ],
   "source": [
    "tops_df"
   ]
  },
  {
   "cell_type": "code",
   "execution_count": 147,
   "metadata": {},
   "outputs": [
    {
     "data": {
      "text/plain": [
       "Index(['UWI', 'formation', 'top_md', 'Elevation Meters', 'top_sstvd'], dtype='object')"
      ]
     },
     "execution_count": 147,
     "metadata": {},
     "output_type": "execute_result"
    }
   ],
   "source": [
    "tops_df.columns"
   ]
  },
  {
   "cell_type": "markdown",
   "metadata": {},
   "source": [
    "# 5. Process True Temp with Formation tops"
   ]
  },
  {
   "cell_type": "markdown",
   "metadata": {},
   "source": [
    "## 5.1. Load and Merge True Temp data with Tops Formation data"
   ]
  },
  {
   "cell_type": "code",
   "execution_count": 149,
   "metadata": {},
   "outputs": [
    {
     "data": {
      "text/html": [
       "<div>\n",
       "<style scoped>\n",
       "    .dataframe tbody tr th:only-of-type {\n",
       "        vertical-align: middle;\n",
       "    }\n",
       "\n",
       "    .dataframe tbody tr th {\n",
       "        vertical-align: top;\n",
       "    }\n",
       "\n",
       "    .dataframe thead th {\n",
       "        text-align: right;\n",
       "    }\n",
       "</style>\n",
       "<table border=\"1\" class=\"dataframe\">\n",
       "  <thead>\n",
       "    <tr style=\"text-align: right;\">\n",
       "      <th></th>\n",
       "      <th>UWI</th>\n",
       "      <th>Elevation(m)</th>\n",
       "      <th>TD(m)</th>\n",
       "      <th>geometry</th>\n",
       "      <th>True Temp (oC)</th>\n",
       "      <th>Depth_SS(m)</th>\n",
       "    </tr>\n",
       "  </thead>\n",
       "  <tbody>\n",
       "    <tr>\n",
       "      <th>0</th>\n",
       "      <td>100072507623W500</td>\n",
       "      <td>555.7</td>\n",
       "      <td>2545.0</td>\n",
       "      <td>POINT (-13071557.623 7481883.651)</td>\n",
       "      <td>82.04</td>\n",
       "      <td>1942.80</td>\n",
       "    </tr>\n",
       "    <tr>\n",
       "      <th>1</th>\n",
       "      <td>100062007823W500</td>\n",
       "      <td>560.9</td>\n",
       "      <td>2430.0</td>\n",
       "      <td>POINT (-13084234.019 7512937.315)</td>\n",
       "      <td>66.22</td>\n",
       "      <td>1298.10</td>\n",
       "    </tr>\n",
       "    <tr>\n",
       "      <th>2</th>\n",
       "      <td>100052107723W500</td>\n",
       "      <td>558.4</td>\n",
       "      <td>2515.5</td>\n",
       "      <td>POINT (-13081839.982 7495709.772)</td>\n",
       "      <td>NaN</td>\n",
       "      <td>600.10</td>\n",
       "    </tr>\n",
       "    <tr>\n",
       "      <th>3</th>\n",
       "      <td>100061307518W500</td>\n",
       "      <td>631.4</td>\n",
       "      <td>2411.0</td>\n",
       "      <td>POINT (-12985820.019 7458455.717)</td>\n",
       "      <td>42.39</td>\n",
       "      <td>235.35</td>\n",
       "    </tr>\n",
       "    <tr>\n",
       "      <th>4</th>\n",
       "      <td>100070907618W500</td>\n",
       "      <td>627.0</td>\n",
       "      <td>2408.0</td>\n",
       "      <td>POINT (-12993905.933 7472689.213)</td>\n",
       "      <td>46.39</td>\n",
       "      <td>326.00</td>\n",
       "    </tr>\n",
       "  </tbody>\n",
       "</table>\n",
       "</div>"
      ],
      "text/plain": [
       "                UWI  Elevation(m)   TD(m)                           geometry  \\\n",
       "0  100072507623W500         555.7  2545.0  POINT (-13071557.623 7481883.651)   \n",
       "1  100062007823W500         560.9  2430.0  POINT (-13084234.019 7512937.315)   \n",
       "2  100052107723W500         558.4  2515.5  POINT (-13081839.982 7495709.772)   \n",
       "3  100061307518W500         631.4  2411.0  POINT (-12985820.019 7458455.717)   \n",
       "4  100070907618W500         627.0  2408.0  POINT (-12993905.933 7472689.213)   \n",
       "\n",
       "   True Temp (oC)  Depth_SS(m)  \n",
       "0           82.04      1942.80  \n",
       "1           66.22      1298.10  \n",
       "2             NaN       600.10  \n",
       "3           42.39       235.35  \n",
       "4           46.39       326.00  "
      ]
     },
     "execution_count": 149,
     "metadata": {},
     "output_type": "execute_result"
    }
   ],
   "source": [
    "temp_merged.head()"
   ]
  },
  {
   "cell_type": "code",
   "execution_count": 151,
   "metadata": {},
   "outputs": [],
   "source": [
    "#Get MD values by merging with well header data\n",
    "md_col = \"MD\"\n",
    "\n",
    "duv_true_temp = temp_merged.merge(gdf[['UWI']], \n",
    "                                  on='UWI', how='left')"
   ]
  },
  {
   "cell_type": "code",
   "execution_count": 152,
   "metadata": {},
   "outputs": [
    {
     "data": {
      "text/html": [
       "<div>\n",
       "<style scoped>\n",
       "    .dataframe tbody tr th:only-of-type {\n",
       "        vertical-align: middle;\n",
       "    }\n",
       "\n",
       "    .dataframe tbody tr th {\n",
       "        vertical-align: top;\n",
       "    }\n",
       "\n",
       "    .dataframe thead th {\n",
       "        text-align: right;\n",
       "    }\n",
       "</style>\n",
       "<table border=\"1\" class=\"dataframe\">\n",
       "  <thead>\n",
       "    <tr style=\"text-align: right;\">\n",
       "      <th></th>\n",
       "      <th>UWI</th>\n",
       "      <th>Elevation(m)</th>\n",
       "      <th>TD(m)</th>\n",
       "      <th>geometry</th>\n",
       "      <th>True Temp (oC)</th>\n",
       "      <th>Depth_SS(m)</th>\n",
       "    </tr>\n",
       "  </thead>\n",
       "  <tbody>\n",
       "    <tr>\n",
       "      <th>0</th>\n",
       "      <td>100072507623W500</td>\n",
       "      <td>555.7</td>\n",
       "      <td>2545.0</td>\n",
       "      <td>POINT (-13071557.623 7481883.651)</td>\n",
       "      <td>82.04</td>\n",
       "      <td>1942.80</td>\n",
       "    </tr>\n",
       "    <tr>\n",
       "      <th>1</th>\n",
       "      <td>100062007823W500</td>\n",
       "      <td>560.9</td>\n",
       "      <td>2430.0</td>\n",
       "      <td>POINT (-13084234.019 7512937.315)</td>\n",
       "      <td>66.22</td>\n",
       "      <td>1298.10</td>\n",
       "    </tr>\n",
       "    <tr>\n",
       "      <th>2</th>\n",
       "      <td>100052107723W500</td>\n",
       "      <td>558.4</td>\n",
       "      <td>2515.5</td>\n",
       "      <td>POINT (-13081839.982 7495709.772)</td>\n",
       "      <td>NaN</td>\n",
       "      <td>600.10</td>\n",
       "    </tr>\n",
       "    <tr>\n",
       "      <th>3</th>\n",
       "      <td>100061307518W500</td>\n",
       "      <td>631.4</td>\n",
       "      <td>2411.0</td>\n",
       "      <td>POINT (-12985820.019 7458455.717)</td>\n",
       "      <td>42.39</td>\n",
       "      <td>235.35</td>\n",
       "    </tr>\n",
       "    <tr>\n",
       "      <th>4</th>\n",
       "      <td>100070907618W500</td>\n",
       "      <td>627.0</td>\n",
       "      <td>2408.0</td>\n",
       "      <td>POINT (-12993905.933 7472689.213)</td>\n",
       "      <td>46.39</td>\n",
       "      <td>326.00</td>\n",
       "    </tr>\n",
       "  </tbody>\n",
       "</table>\n",
       "</div>"
      ],
      "text/plain": [
       "                UWI  Elevation(m)   TD(m)                           geometry  \\\n",
       "0  100072507623W500         555.7  2545.0  POINT (-13071557.623 7481883.651)   \n",
       "1  100062007823W500         560.9  2430.0  POINT (-13084234.019 7512937.315)   \n",
       "2  100052107723W500         558.4  2515.5  POINT (-13081839.982 7495709.772)   \n",
       "3  100061307518W500         631.4  2411.0  POINT (-12985820.019 7458455.717)   \n",
       "4  100070907618W500         627.0  2408.0  POINT (-12993905.933 7472689.213)   \n",
       "\n",
       "   True Temp (oC)  Depth_SS(m)  \n",
       "0           82.04      1942.80  \n",
       "1           66.22      1298.10  \n",
       "2             NaN       600.10  \n",
       "3           42.39       235.35  \n",
       "4           46.39       326.00  "
      ]
     },
     "execution_count": 152,
     "metadata": {},
     "output_type": "execute_result"
    }
   ],
   "source": [
    "duv_true_temp.head()"
   ]
  },
  {
   "cell_type": "code",
   "execution_count": 153,
   "metadata": {},
   "outputs": [],
   "source": [
    "duv_true_temp[md_col] = duv_true_temp['TD(m)'] + \\\n",
    "duv_true_temp['Elevation(m)']"
   ]
  },
  {
   "cell_type": "code",
   "execution_count": 154,
   "metadata": {},
   "outputs": [
    {
     "data": {
      "text/html": [
       "<div>\n",
       "<style scoped>\n",
       "    .dataframe tbody tr th:only-of-type {\n",
       "        vertical-align: middle;\n",
       "    }\n",
       "\n",
       "    .dataframe tbody tr th {\n",
       "        vertical-align: top;\n",
       "    }\n",
       "\n",
       "    .dataframe thead th {\n",
       "        text-align: right;\n",
       "    }\n",
       "</style>\n",
       "<table border=\"1\" class=\"dataframe\">\n",
       "  <thead>\n",
       "    <tr style=\"text-align: right;\">\n",
       "      <th></th>\n",
       "      <th>UWI</th>\n",
       "      <th>Elevation(m)</th>\n",
       "      <th>TD(m)</th>\n",
       "      <th>geometry</th>\n",
       "      <th>True Temp (oC)</th>\n",
       "      <th>Depth_SS(m)</th>\n",
       "      <th>MD</th>\n",
       "    </tr>\n",
       "  </thead>\n",
       "  <tbody>\n",
       "    <tr>\n",
       "      <th>0</th>\n",
       "      <td>100072507623W500</td>\n",
       "      <td>555.7</td>\n",
       "      <td>2545.0</td>\n",
       "      <td>POINT (-13071557.623 7481883.651)</td>\n",
       "      <td>82.04</td>\n",
       "      <td>1942.80</td>\n",
       "      <td>3100.7</td>\n",
       "    </tr>\n",
       "    <tr>\n",
       "      <th>1</th>\n",
       "      <td>100062007823W500</td>\n",
       "      <td>560.9</td>\n",
       "      <td>2430.0</td>\n",
       "      <td>POINT (-13084234.019 7512937.315)</td>\n",
       "      <td>66.22</td>\n",
       "      <td>1298.10</td>\n",
       "      <td>2990.9</td>\n",
       "    </tr>\n",
       "    <tr>\n",
       "      <th>2</th>\n",
       "      <td>100052107723W500</td>\n",
       "      <td>558.4</td>\n",
       "      <td>2515.5</td>\n",
       "      <td>POINT (-13081839.982 7495709.772)</td>\n",
       "      <td>NaN</td>\n",
       "      <td>600.10</td>\n",
       "      <td>3073.9</td>\n",
       "    </tr>\n",
       "    <tr>\n",
       "      <th>3</th>\n",
       "      <td>100061307518W500</td>\n",
       "      <td>631.4</td>\n",
       "      <td>2411.0</td>\n",
       "      <td>POINT (-12985820.019 7458455.717)</td>\n",
       "      <td>42.39</td>\n",
       "      <td>235.35</td>\n",
       "      <td>3042.4</td>\n",
       "    </tr>\n",
       "    <tr>\n",
       "      <th>4</th>\n",
       "      <td>100070907618W500</td>\n",
       "      <td>627.0</td>\n",
       "      <td>2408.0</td>\n",
       "      <td>POINT (-12993905.933 7472689.213)</td>\n",
       "      <td>46.39</td>\n",
       "      <td>326.00</td>\n",
       "      <td>3035.0</td>\n",
       "    </tr>\n",
       "  </tbody>\n",
       "</table>\n",
       "</div>"
      ],
      "text/plain": [
       "                UWI  Elevation(m)   TD(m)                           geometry  \\\n",
       "0  100072507623W500         555.7  2545.0  POINT (-13071557.623 7481883.651)   \n",
       "1  100062007823W500         560.9  2430.0  POINT (-13084234.019 7512937.315)   \n",
       "2  100052107723W500         558.4  2515.5  POINT (-13081839.982 7495709.772)   \n",
       "3  100061307518W500         631.4  2411.0  POINT (-12985820.019 7458455.717)   \n",
       "4  100070907618W500         627.0  2408.0  POINT (-12993905.933 7472689.213)   \n",
       "\n",
       "   True Temp (oC)  Depth_SS(m)      MD  \n",
       "0           82.04      1942.80  3100.7  \n",
       "1           66.22      1298.10  2990.9  \n",
       "2             NaN       600.10  3073.9  \n",
       "3           42.39       235.35  3042.4  \n",
       "4           46.39       326.00  3035.0  "
      ]
     },
     "execution_count": 154,
     "metadata": {},
     "output_type": "execute_result"
    }
   ],
   "source": [
    "duv_true_temp.head()"
   ]
  },
  {
   "cell_type": "markdown",
   "metadata": {},
   "source": [
    "## 5.2 Assign formation names to dephts"
   ]
  },
  {
   "cell_type": "code",
   "execution_count": 155,
   "metadata": {},
   "outputs": [
    {
     "name": "stdout",
     "output_type": "stream",
     "text": [
      "<class 'geopandas.geodataframe.GeoDataFrame'>\n",
      "Int64Index: 512 entries, 0 to 511\n",
      "Data columns (total 8 columns):\n",
      " #   Column          Non-Null Count  Dtype   \n",
      "---  ------          --------------  -----   \n",
      " 0   UWI             512 non-null    object  \n",
      " 1   Elevation(m)    512 non-null    float64 \n",
      " 2   TD(m)           512 non-null    float64 \n",
      " 3   geometry        512 non-null    geometry\n",
      " 4   True Temp (oC)  372 non-null    float64 \n",
      " 5   Depth_SS(m)     512 non-null    float64 \n",
      " 6   MD              512 non-null    float64 \n",
      " 7   formation       512 non-null    object  \n",
      "dtypes: float64(5), geometry(1), object(2)\n",
      "memory usage: 36.0+ KB\n"
     ]
    }
   ],
   "source": [
    "gr_tops = tops_df.groupby('UWI')\n",
    "df_tt = pd.DataFrame()\n",
    "for name, group in gr_tops:\n",
    "    well_cond = duv_true_temp['UWI'] == name\n",
    "    for row in group.itertuples(index=False):\n",
    "        md_top = getattr(row, top_md_col)\n",
    "        formation_name = getattr(row, formation_col)\n",
    "        formation_cond = duv_true_temp[md_col] >= md_top\n",
    "        if sum(formation_cond) >= 1:\n",
    "            duv_true_temp.loc[formation_cond & well_cond, formation_col] = formation_name\n",
    "\n",
    "duv_true_temp.info()"
   ]
  },
  {
   "cell_type": "code",
   "execution_count": 156,
   "metadata": {},
   "outputs": [
    {
     "data": {
      "text/html": [
       "<div>\n",
       "<style scoped>\n",
       "    .dataframe tbody tr th:only-of-type {\n",
       "        vertical-align: middle;\n",
       "    }\n",
       "\n",
       "    .dataframe tbody tr th {\n",
       "        vertical-align: top;\n",
       "    }\n",
       "\n",
       "    .dataframe thead th {\n",
       "        text-align: right;\n",
       "    }\n",
       "</style>\n",
       "<table border=\"1\" class=\"dataframe\">\n",
       "  <thead>\n",
       "    <tr style=\"text-align: right;\">\n",
       "      <th></th>\n",
       "      <th>UWI</th>\n",
       "      <th>Elevation(m)</th>\n",
       "      <th>TD(m)</th>\n",
       "      <th>geometry</th>\n",
       "      <th>True Temp (oC)</th>\n",
       "      <th>Depth_SS(m)</th>\n",
       "      <th>MD</th>\n",
       "      <th>formation</th>\n",
       "    </tr>\n",
       "  </thead>\n",
       "  <tbody>\n",
       "    <tr>\n",
       "      <th>0</th>\n",
       "      <td>100072507623W500</td>\n",
       "      <td>555.7</td>\n",
       "      <td>2545.0</td>\n",
       "      <td>POINT (-13071557.623 7481883.651)</td>\n",
       "      <td>82.04</td>\n",
       "      <td>1942.80</td>\n",
       "      <td>3100.7</td>\n",
       "      <td>Precambrian Basement</td>\n",
       "    </tr>\n",
       "    <tr>\n",
       "      <th>1</th>\n",
       "      <td>100062007823W500</td>\n",
       "      <td>560.9</td>\n",
       "      <td>2430.0</td>\n",
       "      <td>POINT (-13084234.019 7512937.315)</td>\n",
       "      <td>66.22</td>\n",
       "      <td>1298.10</td>\n",
       "      <td>2990.9</td>\n",
       "      <td>Elk Point</td>\n",
       "    </tr>\n",
       "    <tr>\n",
       "      <th>2</th>\n",
       "      <td>100052107723W500</td>\n",
       "      <td>558.4</td>\n",
       "      <td>2515.5</td>\n",
       "      <td>POINT (-13081839.982 7495709.772)</td>\n",
       "      <td>NaN</td>\n",
       "      <td>600.10</td>\n",
       "      <td>3073.9</td>\n",
       "      <td>Precambrian Basement</td>\n",
       "    </tr>\n",
       "    <tr>\n",
       "      <th>3</th>\n",
       "      <td>100061307518W500</td>\n",
       "      <td>631.4</td>\n",
       "      <td>2411.0</td>\n",
       "      <td>POINT (-12985820.019 7458455.717)</td>\n",
       "      <td>42.39</td>\n",
       "      <td>235.35</td>\n",
       "      <td>3042.4</td>\n",
       "      <td>Precambrian Basement</td>\n",
       "    </tr>\n",
       "    <tr>\n",
       "      <th>4</th>\n",
       "      <td>100070907618W500</td>\n",
       "      <td>627.0</td>\n",
       "      <td>2408.0</td>\n",
       "      <td>POINT (-12993905.933 7472689.213)</td>\n",
       "      <td>46.39</td>\n",
       "      <td>326.00</td>\n",
       "      <td>3035.0</td>\n",
       "      <td>Precambrian Basement</td>\n",
       "    </tr>\n",
       "  </tbody>\n",
       "</table>\n",
       "</div>"
      ],
      "text/plain": [
       "                UWI  Elevation(m)   TD(m)                           geometry  \\\n",
       "0  100072507623W500         555.7  2545.0  POINT (-13071557.623 7481883.651)   \n",
       "1  100062007823W500         560.9  2430.0  POINT (-13084234.019 7512937.315)   \n",
       "2  100052107723W500         558.4  2515.5  POINT (-13081839.982 7495709.772)   \n",
       "3  100061307518W500         631.4  2411.0  POINT (-12985820.019 7458455.717)   \n",
       "4  100070907618W500         627.0  2408.0  POINT (-12993905.933 7472689.213)   \n",
       "\n",
       "   True Temp (oC)  Depth_SS(m)      MD             formation  \n",
       "0           82.04      1942.80  3100.7  Precambrian Basement  \n",
       "1           66.22      1298.10  2990.9             Elk Point  \n",
       "2             NaN       600.10  3073.9  Precambrian Basement  \n",
       "3           42.39       235.35  3042.4  Precambrian Basement  \n",
       "4           46.39       326.00  3035.0  Precambrian Basement  "
      ]
     },
     "execution_count": 156,
     "metadata": {},
     "output_type": "execute_result"
    }
   ],
   "source": [
    "duv_true_temp.head()"
   ]
  },
  {
   "cell_type": "markdown",
   "metadata": {},
   "source": [
    "## 5.3 Aggregate depth and temperature per formation and well"
   ]
  },
  {
   "cell_type": "code",
   "execution_count": 157,
   "metadata": {},
   "outputs": [],
   "source": [
    "depth_sstvd_col = \"Depth_SS(m)\"\n",
    "true_temp_col = \"True Temp (oC)\"\n",
    "\n",
    "df_form_temp = (duv_true_temp.groupby(['UWI', formation_col])\\\n",
    "               [[depth_sstvd_col, true_temp_col]].mean())"
   ]
  },
  {
   "cell_type": "code",
   "execution_count": 158,
   "metadata": {},
   "outputs": [
    {
     "data": {
      "text/html": [
       "<div>\n",
       "<style scoped>\n",
       "    .dataframe tbody tr th:only-of-type {\n",
       "        vertical-align: middle;\n",
       "    }\n",
       "\n",
       "    .dataframe tbody tr th {\n",
       "        vertical-align: top;\n",
       "    }\n",
       "\n",
       "    .dataframe thead th {\n",
       "        text-align: right;\n",
       "    }\n",
       "</style>\n",
       "<table border=\"1\" class=\"dataframe\">\n",
       "  <thead>\n",
       "    <tr style=\"text-align: right;\">\n",
       "      <th></th>\n",
       "      <th>UWI</th>\n",
       "      <th>formation</th>\n",
       "      <th>Depth_SS(m)</th>\n",
       "      <th>True Temp (oC)</th>\n",
       "    </tr>\n",
       "  </thead>\n",
       "  <tbody>\n",
       "    <tr>\n",
       "      <th>0</th>\n",
       "      <td>100010107020W500</td>\n",
       "      <td>Elk Point</td>\n",
       "      <td>716.0</td>\n",
       "      <td>60.97</td>\n",
       "    </tr>\n",
       "    <tr>\n",
       "      <th>1</th>\n",
       "      <td>100010608109W500</td>\n",
       "      <td>Precambrian Basement</td>\n",
       "      <td>1044.4</td>\n",
       "      <td>63.98</td>\n",
       "    </tr>\n",
       "    <tr>\n",
       "      <th>2</th>\n",
       "      <td>100010904012W500</td>\n",
       "      <td>Elk Point</td>\n",
       "      <td>2424.2</td>\n",
       "      <td>NaN</td>\n",
       "    </tr>\n",
       "    <tr>\n",
       "      <th>3</th>\n",
       "      <td>100011206021W400</td>\n",
       "      <td>Elk Point</td>\n",
       "      <td>171.9</td>\n",
       "      <td>39.07</td>\n",
       "    </tr>\n",
       "    <tr>\n",
       "      <th>4</th>\n",
       "      <td>100011506915W500</td>\n",
       "      <td>Elk Point</td>\n",
       "      <td>936.4</td>\n",
       "      <td>69.47</td>\n",
       "    </tr>\n",
       "  </tbody>\n",
       "</table>\n",
       "</div>"
      ],
      "text/plain": [
       "                UWI             formation  Depth_SS(m)  True Temp (oC)\n",
       "0  100010107020W500             Elk Point        716.0           60.97\n",
       "1  100010608109W500  Precambrian Basement       1044.4           63.98\n",
       "2  100010904012W500             Elk Point       2424.2             NaN\n",
       "3  100011206021W400             Elk Point        171.9           39.07\n",
       "4  100011506915W500             Elk Point        936.4           69.47"
      ]
     },
     "execution_count": 158,
     "metadata": {},
     "output_type": "execute_result"
    }
   ],
   "source": [
    "# reset index from groupby\n",
    "df_form_temp.reset_index(inplace=True)\n",
    "df_form_temp.head()"
   ]
  },
  {
   "cell_type": "markdown",
   "metadata": {},
   "source": [
    "## 5.4 Merge with well headers data"
   ]
  },
  {
   "cell_type": "code",
   "execution_count": 159,
   "metadata": {},
   "outputs": [
    {
     "data": {
      "text/html": [
       "<div>\n",
       "<style scoped>\n",
       "    .dataframe tbody tr th:only-of-type {\n",
       "        vertical-align: middle;\n",
       "    }\n",
       "\n",
       "    .dataframe tbody tr th {\n",
       "        vertical-align: top;\n",
       "    }\n",
       "\n",
       "    .dataframe thead th {\n",
       "        text-align: right;\n",
       "    }\n",
       "</style>\n",
       "<table border=\"1\" class=\"dataframe\">\n",
       "  <thead>\n",
       "    <tr style=\"text-align: right;\">\n",
       "      <th></th>\n",
       "      <th>UWI</th>\n",
       "      <th>formation</th>\n",
       "      <th>Depth_SS(m)</th>\n",
       "      <th>True Temp (oC)</th>\n",
       "      <th>geometry</th>\n",
       "    </tr>\n",
       "  </thead>\n",
       "  <tbody>\n",
       "    <tr>\n",
       "      <th>0</th>\n",
       "      <td>100010107020W500</td>\n",
       "      <td>Elk Point</td>\n",
       "      <td>716.0</td>\n",
       "      <td>60.97</td>\n",
       "      <td>POINT (-13013643.992 7367298.549)</td>\n",
       "    </tr>\n",
       "    <tr>\n",
       "      <th>1</th>\n",
       "      <td>100010608109W500</td>\n",
       "      <td>Precambrian Basement</td>\n",
       "      <td>1044.4</td>\n",
       "      <td>63.98</td>\n",
       "      <td>POINT (-12845217.714 7555929.851)</td>\n",
       "    </tr>\n",
       "    <tr>\n",
       "      <th>2</th>\n",
       "      <td>100010904012W500</td>\n",
       "      <td>Elk Point</td>\n",
       "      <td>2424.2</td>\n",
       "      <td>NaN</td>\n",
       "      <td>POINT (-12874926.548 6877189.045)</td>\n",
       "    </tr>\n",
       "    <tr>\n",
       "      <th>3</th>\n",
       "      <td>100011206021W400</td>\n",
       "      <td>Elk Point</td>\n",
       "      <td>171.9</td>\n",
       "      <td>39.07</td>\n",
       "      <td>POINT (-12579400.128 7201926.284)</td>\n",
       "    </tr>\n",
       "    <tr>\n",
       "      <th>4</th>\n",
       "      <td>100011506915W500</td>\n",
       "      <td>Elk Point</td>\n",
       "      <td>936.4</td>\n",
       "      <td>69.47</td>\n",
       "      <td>POINT (-12934006.585 7355859.144)</td>\n",
       "    </tr>\n",
       "  </tbody>\n",
       "</table>\n",
       "</div>"
      ],
      "text/plain": [
       "                UWI             formation  Depth_SS(m)  True Temp (oC)  \\\n",
       "0  100010107020W500             Elk Point        716.0           60.97   \n",
       "1  100010608109W500  Precambrian Basement       1044.4           63.98   \n",
       "2  100010904012W500             Elk Point       2424.2             NaN   \n",
       "3  100011206021W400             Elk Point        171.9           39.07   \n",
       "4  100011506915W500             Elk Point        936.4           69.47   \n",
       "\n",
       "                            geometry  \n",
       "0  POINT (-13013643.992 7367298.549)  \n",
       "1  POINT (-12845217.714 7555929.851)  \n",
       "2  POINT (-12874926.548 6877189.045)  \n",
       "3  POINT (-12579400.128 7201926.284)  \n",
       "4  POINT (-12934006.585 7355859.144)  "
      ]
     },
     "execution_count": 159,
     "metadata": {},
     "output_type": "execute_result"
    }
   ],
   "source": [
    "# Create a Geodataframe\n",
    "duv_form_temp = gpd.GeoDataFrame(df_form_temp\n",
    "                                 .merge(gdf[['UWI', 'geometry']],\n",
    "                                       on='UWI', how='left'))\n",
    "\n",
    "duv_form_temp.head()"
   ]
  },
  {
   "cell_type": "code",
   "execution_count": 175,
   "metadata": {},
   "outputs": [],
   "source": [
    "# Fill null values of True Temperature\n",
    "duv_form_temp['True Temp (oC)'] = duv_form_temp['True Temp (oC)'].fillna(method='ffill')"
   ]
  },
  {
   "cell_type": "markdown",
   "metadata": {},
   "source": [
    "## 5.4 Save to Geopackage"
   ]
  },
  {
   "cell_type": "code",
   "execution_count": 160,
   "metadata": {},
   "outputs": [],
   "source": [
    "duv_form_temp.to_file(gpkp_path, layer='tops_temperature', \n",
    "                    driver='GPKG')"
   ]
  },
  {
   "cell_type": "markdown",
   "metadata": {},
   "source": [
    "# 6. Data Distribution of Temperature and Tops of Duvernay Basin"
   ]
  },
  {
   "cell_type": "markdown",
   "metadata": {},
   "source": [
    "# 6.1 Tops Formations Distriburion"
   ]
  },
  {
   "cell_type": "code",
   "execution_count": 161,
   "metadata": {},
   "outputs": [
    {
     "data": {
      "text/plain": [
       "17"
      ]
     },
     "execution_count": 161,
     "metadata": {},
     "output_type": "execute_result"
    }
   ],
   "source": [
    "formations = tops_df[formation_col].unique()\n",
    "len(formations)"
   ]
  },
  {
   "cell_type": "code",
   "execution_count": 165,
   "metadata": {},
   "outputs": [
    {
     "data": {
      "image/png": "[encoded data removed]",
      "text/plain": [
       "<Figure size 864x576 with 1 Axes>"
      ]
     },
     "metadata": {
      "needs_background": "light"
     },
     "output_type": "display_data"
    }
   ],
   "source": [
    "fig1, ax1 = plt.subplots(1, 1, figsize=(12, 8))\n",
    "sns.boxplot(data=tops_df, x=formation_col, y=top_sstvd_col, ax=ax1,\n",
    "           order=formations)\n",
    "ax1.set_xlabel(\"Formation\")\n",
    "ax1.set_ylabel(\"SSTVD of Duvernay Formations (m)\")\n",
    "ax1.set_title(\"SSTVD of Duvernay Formations\")\n",
    "ax1.invert_yaxis()\n",
    "ax1.set_xticklabels(ax1.get_xticklabels(), rotation=85)\n",
    "plt.tight_layout()\n",
    "plt.show()"
   ]
  },
  {
   "cell_type": "markdown",
   "metadata": {},
   "source": [
    "## 6.2 True Temperatures Distribution"
   ]
  },
  {
   "cell_type": "code",
   "execution_count": 166,
   "metadata": {},
   "outputs": [
    {
     "data": {
      "image/png": "[encoded data removed]",
      "text/plain": [
       "<Figure size 864x576 with 1 Axes>"
      ]
     },
     "metadata": {
      "needs_background": "light"
     },
     "output_type": "display_data"
    }
   ],
   "source": [
    "fig2, ax2 = plt.subplots(1, 1, figsize=(12, 8))\n",
    "sns.boxplot(data=duv_form_temp, x=formation_col, y=true_temp_col,\n",
    "            ax=ax2, order=formations)\n",
    "ax2.set_xlabel(\"Formation\")\n",
    "ax2.set_ylabel(\"True Temperature (oC)\")\n",
    "ax2.set_title(\"True Temperature of Duvernay Formations\")\n",
    "ax2.invert_yaxis()\n",
    "ax2.set_xticklabels(ax2.get_xticklabels(), rotation=85)\n",
    "plt.tight_layout()\n",
    "plt.show()"
   ]
  },
  {
   "cell_type": "markdown",
   "metadata": {},
   "source": [
    "# 7. Create temperature layers for each formation of Duvernay Basin"
   ]
  },
  {
   "cell_type": "code",
   "execution_count": 176,
   "metadata": {
    "pycharm": {
     "name": "#%%\n"
    }
   },
   "outputs": [],
   "source": [
    "def formation_layers(formation):\n",
    "    df = duv_form_temp[duv_form_temp[formation]==formation]\n",
    "    return df"
   ]
  }
 ],
 "metadata": {
  "kernelspec": {
   "display_name": "Python 3",
   "language": "python",
   "name": "python3"
  },
  "language_info": {
   "codemirror_mode": {
    "name": "ipython",
    "version": 3
   },
   "file_extension": ".py",
   "mimetype": "text/x-python",
   "name": "python",
   "nbconvert_exporter": "python",
   "pygments_lexer": "ipython3",
   "version": "3.8.5"
  }
 },
 "nbformat": 4,
 "nbformat_minor": 1
}